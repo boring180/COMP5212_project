{
 "cells": [
  {
   "cell_type": "code",
   "execution_count": 34,
   "metadata": {},
   "outputs": [],
   "source": [
    "from sklearn.ensemble import IsolationForest\n",
    "from sklearn.preprocessing import LabelEncoder\n",
    "import numpy as np\n",
    "import pandas as pd\n",
    "import matplotlib.pyplot as plt\n",
    "import preprossesing as pre"
   ]
  },
  {
   "cell_type": "code",
   "execution_count": 35,
   "metadata": {},
   "outputs": [],
   "source": [
    "df = pd.read_csv('data/org_train.csv')\n",
    "df = df.drop(['id'], axis=1)\n",
    "df = df.drop(['manufacturer'], axis=1)\n",
    "le = LabelEncoder()\n",
    "\n",
    "df['model'] = le.fit_transform(df['model'])\n",
    "df['gearbox_type'] = le.fit_transform(df['gearbox_type'])\n",
    "df['fuel_type'] = le.fit_transform(df['fuel_type'])\n",
    "\n",
    "X = df.values"
   ]
  },
  {
   "cell_type": "code",
   "execution_count": 36,
   "metadata": {},
   "outputs": [
    {
     "name": "stdout",
     "output_type": "stream",
     "text": [
      "Inliers: (9000, 9)\n"
     ]
    }
   ],
   "source": [
    "# Train Isolation Forest\n",
    "iso_forest = IsolationForest(contamination=0.1)\n",
    "iso_forest.fit(X)\n",
    "\n",
    "# Predict outliers\n",
    "outliers = iso_forest.predict(X)\n",
    "print(\"Inliers:\", X[outliers == 1].shape)\n",
    "df = pd.read_csv('data/org_train.csv')\n",
    "df = df[outliers == 1]\n",
    "df.to_csv('data/train.csv', index=False)"
   ]
  }
 ],
 "metadata": {
  "kernelspec": {
   "display_name": "pytorch2.0",
   "language": "python",
   "name": "python3"
  },
  "language_info": {
   "codemirror_mode": {
    "name": "ipython",
    "version": 3
   },
   "file_extension": ".py",
   "mimetype": "text/x-python",
   "name": "python",
   "nbconvert_exporter": "python",
   "pygments_lexer": "ipython3",
   "version": "3.11.10"
  }
 },
 "nbformat": 4,
 "nbformat_minor": 2
}
