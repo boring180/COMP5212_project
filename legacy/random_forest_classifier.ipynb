{
 "cells": [
  {
   "cell_type": "code",
   "execution_count": 31,
   "metadata": {},
   "outputs": [],
   "source": [
    "from sklearn.ensemble import IsolationForest\n",
    "from sklearn.preprocessing import LabelEncoder\n",
    "import numpy as np\n",
    "import pandas as pd\n",
    "import matplotlib.pyplot as plt\n",
    "import preprossesing as pre"
   ]
  },
  {
   "cell_type": "code",
   "execution_count": 32,
   "metadata": {},
   "outputs": [
    {
     "name": "stdout",
     "output_type": "stream",
     "text": [
      "Inliers: (9000, 9)\n"
     ]
    }
   ],
   "source": [
    "# Train Isolation Forest\n",
    "iso_forest = IsolationForest(contamination=0.1)\n",
    "iso_forest.fit(X)\n",
    "\n",
    "# Predict outliers\n",
    "outliers = iso_forest.predict(X)\n",
    "print(\"Inliers:\", X[outliers == 1].shape)\n",
    "df = pd.read_csv('data/org_train.csv')\n",
    "df = df[outliers == 1]\n",
    "df.to_csv('data/train.csv', index=False)"
   ]
  },
  {
   "cell_type": "code",
   "execution_count": 33,
   "metadata": {},
   "outputs": [],
   "source": [
    "train_df = pd.read_csv('data/train.csv')\n",
    "test_df = pd.read_csv('data/org_test.csv')\n",
    "\n",
    "train_df.drop(['id'], axis=1, inplace=True)\n",
    "train_df, test_df = pre.standardize(train_df, test_df)\n",
    "train_df = pre.encoder(train_df)\n",
    "test_df = pre.encoder(test_df)\n",
    "\n",
    "\n",
    "train_df.to_csv('data/train.csv', index=False)\n",
    "test_df.to_csv('data/test.csv', index=False)"
   ]
  },
  {
   "cell_type": "code",
   "execution_count": null,
   "metadata": {},
   "outputs": [],
   "source": []
  }
 ],
 "metadata": {
  "kernelspec": {
   "display_name": "COMP5212",
   "language": "python",
   "name": "python3"
  },
  "language_info": {
   "codemirror_mode": {
    "name": "ipython",
    "version": 3
   },
   "file_extension": ".py",
   "mimetype": "text/x-python",
   "name": "python",
   "nbconvert_exporter": "python",
   "pygments_lexer": "ipython3",
   "version": "3.9.20"
  }
 },
 "nbformat": 4,
 "nbformat_minor": 2
}
