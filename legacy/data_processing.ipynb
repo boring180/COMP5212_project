{
 "cells": [
  {
   "cell_type": "code",
   "execution_count": 183,
   "metadata": {},
   "outputs": [],
   "source": [
    "from sklearn.ensemble import IsolationForest\n",
    "from sklearn.preprocessing import LabelEncoder\n",
    "from sklearn.preprocessing import OneHotEncoder\n",
    "from sklearn.preprocessing import KBinsDiscretizer\n",
    "from sklearn.preprocessing import StandardScaler\n",
    "import pickle\n",
    "import pandas as pd"
   ]
  },
  {
   "cell_type": "code",
   "execution_count": null,
   "metadata": {},
   "outputs": [],
   "source": [
    "def outlier_removal(df, iso_forest = None):\n",
    "    \n",
    "    if iso_forest is None:\n",
    "        X = df.values\n",
    "\n",
    "        # Train Isolation Forest\n",
    "        iso_forest = IsolationForest(contamination=0.01)\n",
    "        iso_forest.fit(X)\n",
    "\n",
    "        # Save model\n",
    "        with open('isoforest_model.pkl', 'wb') as f:\n",
    "            pickle.dump(iso_forest, f)\n",
    "\n",
    "    # Predict outliers\n",
    "    X = df.values\n",
    "    outliers = iso_forest.predict(X)\n",
    "    print(\"Inliers:\", X[outliers == 1].shape)\n",
    "    df = df[outliers == 1]\n",
    "    return df"
   ]
  },
  {
   "cell_type": "code",
   "execution_count": 185,
   "metadata": {},
   "outputs": [],
   "source": [
    "def standardize(df, scaler=None):\n",
    "    if scaler is None:\n",
    "        scaler = StandardScaler()\n",
    "        scaler.fit(df[['year', 'operating_hours', 'efficiency', 'registration_fees', 'engine_capacity']])\n",
    "        with open('scaler.pkl', 'wb') as f:\n",
    "            pickle.dump(scaler, f)\n",
    "    \n",
    "    df[['year', 'operating_hours', 'efficiency', 'registration_fees', 'engine_capacity']] = scaler.transform(df[['year', 'operating_hours', 'efficiency', 'registration_fees', 'engine_capacity']])\n",
    "    \n",
    "        \n",
    "    return df"
   ]
  },
  {
   "cell_type": "code",
   "execution_count": 186,
   "metadata": {},
   "outputs": [],
   "source": [
    "def encoder(df, enc=None):\n",
    "    \n",
    "    if enc is None:\n",
    "        list_of_model = df['model'].unique()\n",
    "        print('list_of_model shape:', list_of_model.shape)\n",
    "        list_of_gearbox_type = df['gearbox_type'].unique()\n",
    "        print('list_of_gearbox_type shape:', list_of_gearbox_type.shape)\n",
    "        list_of_fuel_type = df['fuel_type'].unique()\n",
    "        print('list_of_fuel_type shape:', list_of_fuel_type.shape)\n",
    "\n",
    "        enc = OneHotEncoder(handle_unknown='infrequent_if_exist', categories=[list_of_model, list_of_gearbox_type, list_of_fuel_type])\n",
    "        enc.fit(df[['model', 'gearbox_type', 'fuel_type']])\n",
    "        \n",
    "        with open('encoder.pkl', 'wb') as f:\n",
    "            pickle.dump(enc, f)\n",
    "    \n",
    "    encoded_feature = enc.transform(df[['model', 'gearbox_type', 'fuel_type']])\n",
    "    \n",
    "    df.drop(['model', 'gearbox_type', 'fuel_type'], axis=1, inplace=True)\n",
    "    df = pd.concat([df, pd.DataFrame(encoded_feature.toarray())], axis=1)\n",
    "    \n",
    "    return df\n"
   ]
  },
  {
   "cell_type": "code",
   "execution_count": 187,
   "metadata": {},
   "outputs": [
    {
     "name": "stdout",
     "output_type": "stream",
     "text": [
      "list_of_model shape: (169,)\n",
      "list_of_gearbox_type shape: (3,)\n",
      "list_of_fuel_type shape: (5,)\n",
      "Inliers: (9900, 183)\n",
      "(9900, 184)\n",
      "(2000, 183)\n"
     ]
    }
   ],
   "source": [
    "train_df = pd.read_csv('data/org_train.csv')\n",
    "test_df = pd.read_csv('data/org_test.csv')\n",
    "train_df = train_df.drop(['manufacturer'], axis=1)\n",
    "test_df = test_df.drop(['manufacturer'], axis=1)\n",
    "\n",
    "train_df = standardize(train_df)\n",
    "test_df = standardize(test_df, pickle.load(open('scaler.pkl', 'rb')))\n",
    "train_df = encoder(train_df)\n",
    "test_df = encoder(test_df, pickle.load(open('encoder.pkl', 'rb')))\n",
    "train_df.to_csv('data/train_with_outliers.csv', index=False)\n",
    "train_df = outlier_removal(train_df)\n",
    "\n",
    "print(train_df.shape)\n",
    "print(test_df.shape)\n",
    "\n",
    "train_df.drop(['id'], axis=1, inplace=True)\n",
    "train_df.to_csv('data/train.csv', index=False)\n",
    "test_df.to_csv('data/test.csv', index=False)"
   ]
  }
 ],
 "metadata": {
  "kernelspec": {
   "display_name": "pytorch2.0",
   "language": "python",
   "name": "python3"
  },
  "language_info": {
   "codemirror_mode": {
    "name": "ipython",
    "version": 3
   },
   "file_extension": ".py",
   "mimetype": "text/x-python",
   "name": "python",
   "nbconvert_exporter": "python",
   "pygments_lexer": "ipython3",
   "version": "3.11.10"
  }
 },
 "nbformat": 4,
 "nbformat_minor": 2
}
