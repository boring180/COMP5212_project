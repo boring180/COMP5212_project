{
 "cells": [
  {
   "cell_type": "code",
   "execution_count": 228,
   "metadata": {},
   "outputs": [],
   "source": [
    "from sklearn.ensemble import IsolationForest\n",
    "from sklearn.preprocessing import LabelEncoder\n",
    "from sklearn.preprocessing import OneHotEncoder\n",
    "from sklearn.preprocessing import KBinsDiscretizer\n",
    "from sklearn.preprocessing import StandardScaler\n",
    "import pickle\n",
    "import pandas as pd"
   ]
  },
  {
   "cell_type": "code",
   "execution_count": 229,
   "metadata": {},
   "outputs": [
    {
     "name": "stdout",
     "output_type": "stream",
     "text": [
      "Inliers: (9900, 9)\n"
     ]
    }
   ],
   "source": [
    "df = pd.read_csv('data/org_train.csv')\n",
    "df = df.drop(['id'], axis=1)\n",
    "df = df.drop(['manufacturer'], axis=1)\n",
    "le = LabelEncoder()\n",
    "\n",
    "df['model'] = le.fit_transform(df['model'])\n",
    "df['gearbox_type'] = le.fit_transform(df['gearbox_type'])\n",
    "df['fuel_type'] = le.fit_transform(df['fuel_type'])\n",
    "\n",
    "X = df.values\n",
    "\n",
    "# Train Isolation Forest\n",
    "iso_forest = IsolationForest(contamination=0.01)\n",
    "iso_forest.fit(X)\n",
    "\n",
    "# Predict outliers\n",
    "outliers = iso_forest.predict(X)\n",
    "print(\"Inliers:\", X[outliers == 1].shape)\n",
    "df = pd.read_csv('data/org_train.csv')\n",
    "df = df[outliers == 1]\n",
    "df.to_csv('data/train.csv', index=False)"
   ]
  },
  {
   "cell_type": "code",
   "execution_count": 230,
   "metadata": {},
   "outputs": [],
   "source": [
    "def standardize(df1, df2=None, scaler=None):\n",
    "    if scaler is None:\n",
    "        scaler = StandardScaler()\n",
    "        scaler.fit(df1[['year', 'operating_hours', 'efficiency', 'registration_fees', 'engine_capacity']])\n",
    "        # scaler.fit(df['year', 'operating_hours', 'efficiency'])\n",
    "    \n",
    "    # df['year', 'operating_hours', 'efficiency'] = scaler.transform(df['year', 'operating_hours', 'efficiency'])\n",
    "    df1[['year', 'operating_hours', 'efficiency', 'registration_fees', 'engine_capacity']] = scaler.transform(df1[['year', 'operating_hours', 'efficiency', 'registration_fees', 'engine_capacity']])\n",
    "    \n",
    "    if df2 is not None:\n",
    "        df2[['year', 'operating_hours', 'efficiency', 'registration_fees', 'engine_capacity']] = scaler.transform(df2[['year', 'operating_hours', 'efficiency', 'registration_fees', 'engine_capacity']])\n",
    "    \n",
    "    with open('scaler.pkl', 'wb') as f:\n",
    "        pickle.dump(scaler, f)\n",
    "        \n",
    "    return df1, df2"
   ]
  },
  {
   "cell_type": "code",
   "execution_count": 231,
   "metadata": {},
   "outputs": [
    {
     "name": "stdout",
     "output_type": "stream",
     "text": [
      "list_of_model shape: (164,)\n",
      "list_of_gearbox_type shape: (3,)\n",
      "list_of_fuel_type shape: (4,)\n"
     ]
    }
   ],
   "source": [
    "df = pd.read_csv('data/train.csv')\n",
    "\n",
    "est = KBinsDiscretizer(n_bins=[8, 10], strategy='kmeans', subsample=None)\n",
    "est.fit(df[['registration_fees', 'engine_capacity']])\n",
    "\n",
    "list_of_model = df['model'].unique()\n",
    "print('list_of_model shape:', list_of_model.shape)\n",
    "list_of_gearbox_type = df['gearbox_type'].unique()\n",
    "print('list_of_gearbox_type shape:', list_of_gearbox_type.shape)\n",
    "list_of_fuel_type = df['fuel_type'].unique()\n",
    "print('list_of_fuel_type shape:', list_of_fuel_type.shape)\n",
    "\n",
    "enc = OneHotEncoder(handle_unknown='infrequent_if_exist', categories=[list_of_model, list_of_gearbox_type, list_of_fuel_type])\n",
    "enc.fit(df[['model', 'gearbox_type', 'fuel_type']])\n",
    "def encoder(df):\n",
    "    df = df.drop(['manufacturer'], axis=1)\n",
    "    \n",
    "    # discrete_feature = est.transform(df[['registration_fees', 'engine_capacity']]).toarray()\n",
    "    # data_count = discrete_feature.sum(axis=0)\n",
    "    # print('Data counts:', data_count)\n",
    "    \n",
    "    encoded_feature = enc.transform(df[['model', 'gearbox_type', 'fuel_type']])\n",
    "    \n",
    "    df.drop(['model', 'gearbox_type', 'fuel_type'], axis=1, inplace=True)\n",
    "    df = pd.concat([df, pd.DataFrame(encoded_feature.toarray())], axis=1)\n",
    "\n",
    "    # df.drop(['model', 'gearbox_type', 'fuel_type', 'registration_fees', 'engine_capacity'], axis=1, inplace=True)\n",
    "    # df = pd.concat([df, pd.DataFrame(discrete_feature)], axis=1) \n",
    "    \n",
    "    return df\n"
   ]
  },
  {
   "cell_type": "code",
   "execution_count": 232,
   "metadata": {},
   "outputs": [
    {
     "name": "stdout",
     "output_type": "stream",
     "text": [
      "(9900, 177)\n",
      "(2000, 177)\n"
     ]
    }
   ],
   "source": [
    "train_df = pd.read_csv('data/train.csv')\n",
    "test_df = pd.read_csv('data/org_test.csv')\n",
    "\n",
    "train_df.drop(['id'], axis=1, inplace=True)\n",
    "train_df, test_df = standardize(train_df, test_df)\n",
    "train_df = encoder(train_df)\n",
    "test_df = encoder(test_df)\n",
    "\n",
    "train_df_with_outliers = pd.read_csv('data/org_train.csv')\n",
    "train_df_with_outliers = train_df_with_outliers.drop(['id'], axis=1)\n",
    "pickle.dump(le, open('label_encoder.pkl', 'wb'))\n",
    "train_df_with_outliers, _ = standardize(train_df_with_outliers, scaler=pickle.load(open('scaler.pkl', 'rb')))\n",
    "train_df_with_outliers = encoder(train_df_with_outliers)\n",
    "\n",
    "print(train_df.shape)\n",
    "print(test_df.shape)\n",
    "\n",
    "\n",
    "train_df.to_csv('data/train.csv', index=False)\n",
    "test_df.to_csv('data/test.csv', index=False)\n",
    "train_df_with_outliers.to_csv('data/train_with_outliers.csv', index=False)"
   ]
  }
 ],
 "metadata": {
  "kernelspec": {
   "display_name": "COMP5212",
   "language": "python",
   "name": "python3"
  },
  "language_info": {
   "codemirror_mode": {
    "name": "ipython",
    "version": 3
   },
   "file_extension": ".py",
   "mimetype": "text/x-python",
   "name": "python",
   "nbconvert_exporter": "python",
   "pygments_lexer": "ipython3",
   "version": "3.9.20"
  }
 },
 "nbformat": 4,
 "nbformat_minor": 2
}
