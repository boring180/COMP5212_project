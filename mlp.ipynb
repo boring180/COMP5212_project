{
 "cells": [
  {
   "cell_type": "code",
   "execution_count": 10,
   "metadata": {},
   "outputs": [],
   "source": [
    "NUMBER_OF_EPOCH = 5000\n",
    "# num_of_categories = "
   ]
  },
  {
   "cell_type": "code",
   "execution_count": 11,
   "metadata": {},
   "outputs": [
    {
     "name": "stdout",
     "output_type": "stream",
     "text": [
      "tensor([1.], device='mps:0')\n"
     ]
    }
   ],
   "source": [
    "import torch\n",
    "import torch.nn as nn\n",
    "import pandas as pd\n",
    "import preprocessing as pp\n",
    "import numpy as np \n",
    "from sklearn.model_selection import train_test_split\n",
    "from torch.utils.tensorboard import SummaryWriter\n",
    "import pickle\n",
    "\n",
    "if torch.backends.mps.is_available():\n",
    "    mps_device = torch.device(\"mps\")\n",
    "    x = torch.ones(1, device=mps_device)\n",
    "    print (x)\n",
    "elif torch.backends.cuda.is_built():\n",
    "    mps_device = torch.device(\"cuda\")\n",
    "    x = torch.ones(1, device=mps_device)\n",
    "    print (x)\n",
    "else:\n",
    "    print (\"MPS device not found.\")\n",
    "    "
   ]
  },
  {
   "cell_type": "code",
   "execution_count": 12,
   "metadata": {},
   "outputs": [],
   "source": [
    "def data_preprocessing(df):\n",
    "    df = df.drop(['manufacturer'], axis=1)\n",
    "    df = df.drop(['id'], axis=1)\n",
    "    \n",
    "    df = pp.standardize(df)\n",
    "    df = pp.encoder(df)\n",
    "    with_outliers_df = df\n",
    "    df = pp.outlier_removal(df)\n",
    "    \n",
    "    train, val = train_test_split(df, test_size=0.10)\n",
    "\n",
    "    y_train = torch.tensor(train['price'].values, dtype=torch.float32)\n",
    "    X_train = train.drop(['price'], axis=1)\n",
    "    X_train = torch.tensor(X_train.values, dtype=torch.float32)\n",
    "\n",
    "    y_val = torch.tensor(val['price'].values, dtype=torch.float32)\n",
    "    X_val = val.drop(['price'], axis=1)\n",
    "    X_val = torch.tensor(X_val.values, dtype=torch.float32)\n",
    "        \n",
    "    return X_train, y_train, X_val, y_val, with_outliers_df"
   ]
  },
  {
   "cell_type": "code",
   "execution_count": 19,
   "metadata": {},
   "outputs": [],
   "source": [
    "# Define model\n",
    "class mlp(nn.Module):\n",
    "    def __init__(self):\n",
    "        super(mlp, self).__init__()\n",
    "        \n",
    "        self.layers = nn.Sequential(\n",
    "        nn.Linear(8, 1024),\n",
    "        nn.Dropout(0.1),\n",
    "        nn.ReLU(), \n",
    "\n",
    "        nn.Linear(1024, 128),\n",
    "        nn.ReLU(), \n",
    "        \n",
    "        nn.Linear(128, 70),\n",
    "        nn.ReLU(),\n",
    "        \n",
    "        nn.Linear(70, 16),\n",
    "        nn.ReLU(),\n",
    "        \n",
    "        nn.Linear(16, 1)\n",
    "        )\n",
    "        \n",
    "        self.model_layer = nn.Sequential(\n",
    "        nn.Linear(169, 1),\n",
    "        nn.ReLU()\n",
    "        )\n",
    "        \n",
    "        self.gear_box_layer = nn.Sequential(\n",
    "        nn.Linear(3, 1),\n",
    "        nn.ReLU()\n",
    "        )\n",
    "        \n",
    "        self.fuel_type_layer = nn.Sequential( \n",
    "        nn.Linear(5, 1),\n",
    "        nn.ReLU()\n",
    "        )\n",
    "        \n",
    "    def forward(self, x):\n",
    "        # print(x.shape)\n",
    "        model = self.model_layer(x[:, 5:174])\n",
    "        gear_box = self.gear_box_layer(x[:, 174:177])\n",
    "        fuel_type = self.fuel_type_layer(x[:, 177:182])\n",
    "        \n",
    "        # registration_fee = self.registration_fee_layer(x[:, 156:164])\n",
    "        # engine_capacity = self.engine_capacity_layer(x[:, 164:174])\n",
    "        # operating_hours = x[:, 174].view(-1, 1)\n",
    "        # year = x[:, 175].view(-1, 1)\n",
    "        # efficiency = x[:, 176].view(-1, 1)\n",
    "\n",
    "        \n",
    "        # x = torch.cat((model, year, gear_box, operating_hours, fuel_type, registration_fee, efficiency, engine_capacity), 1)\n",
    "        \n",
    "        x = torch.cat((model, gear_box, fuel_type, x[:, :5]), 1)\n",
    "        \n",
    "        return self.layers(x)\n",
    "\n",
    "model = mlp()\n",
    "writer = SummaryWriter()\n",
    "writer.add_graph(model, torch.rand(1, 182))"
   ]
  },
  {
   "cell_type": "code",
   "execution_count": 14,
   "metadata": {},
   "outputs": [],
   "source": [
    "class RMSELoss(nn.Module):\n",
    "    def __init__(self):\n",
    "        super(RMSELoss, self).__init__()\n",
    "        self.mse = nn.MSELoss()\n",
    "\n",
    "    def forward(self, y_pred, y_true):\n",
    "        return torch.sqrt(self.mse(y_pred, y_true))\n",
    "    \n",
    "loss_fn = RMSELoss()\n",
    "optimizer = torch.optim.Adam(model.parameters(), lr=1e-3, weight_decay=1e-3)"
   ]
  },
  {
   "cell_type": "code",
   "execution_count": 15,
   "metadata": {},
   "outputs": [
    {
     "name": "stdout",
     "output_type": "stream",
     "text": [
      "list_of_model shape: (169,)\n",
      "list_of_gearbox_type shape: (3,)\n",
      "list_of_fuel_type shape: (5,)\n",
      "Inliers: (9900, 183)\n",
      "torch.Size([8910, 182]) torch.Size([8910]) torch.Size([990, 182]) torch.Size([990])\n"
     ]
    }
   ],
   "source": [
    "df = pd.read_csv('data/train.csv')\n",
    "X_train, y_train, X_val, y_val, with_outlier = data_preprocessing(df)\n",
    "print(X_train.shape, y_train.shape, X_val.shape, y_val.shape)"
   ]
  },
  {
   "cell_type": "code",
   "execution_count": 16,
   "metadata": {},
   "outputs": [
    {
     "name": "stdout",
     "output_type": "stream",
     "text": [
      "Epoch: 0 Training loss:  19496.2109375 Validation loss: 19371.220703125 best Validation loss: 19371.220703125\n",
      "Epoch: 100 Training loss:  9128.005859375 Validation loss: 9180.3837890625 best Validation loss: 9180.3837890625\n",
      "Epoch: 200 Training loss:  4601.2265625 Validation loss: 4711.56884765625 best Validation loss: 4711.56884765625\n",
      "Epoch: 300 Training loss:  3730.059814453125 Validation loss: 3650.099609375 best Validation loss: 3650.099609375\n",
      "Epoch: 400 Training loss:  3218.54736328125 Validation loss: 3016.810302734375 best Validation loss: 3016.810302734375\n",
      "Epoch: 500 Training loss:  2963.907958984375 Validation loss: 2631.244384765625 best Validation loss: 2631.244384765625\n",
      "Epoch: 600 Training loss:  2839.029541015625 Validation loss: 2488.250244140625 best Validation loss: 2485.920166015625\n",
      "Epoch: 700 Training loss:  2780.666748046875 Validation loss: 2444.196533203125 best Validation loss: 2438.894287109375\n",
      "Epoch: 800 Training loss:  2740.919677734375 Validation loss: 2415.785400390625 best Validation loss: 2410.62451171875\n",
      "Epoch: 900 Training loss:  2712.489013671875 Validation loss: 2407.72021484375 best Validation loss: 2391.609619140625\n",
      "Epoch: 1000 Training loss:  2687.7802734375 Validation loss: 2382.06396484375 best Validation loss: 2378.94091796875\n",
      "Epoch: 1100 Training loss:  2664.937744140625 Validation loss: 2358.2568359375 best Validation loss: 2357.349853515625\n",
      "Epoch: 1200 Training loss:  2640.568115234375 Validation loss: 2352.077392578125 best Validation loss: 2346.76220703125\n",
      "Epoch: 1300 Training loss:  2616.163818359375 Validation loss: 2332.473388671875 best Validation loss: 2326.327880859375\n",
      "Epoch: 1400 Training loss:  2594.463134765625 Validation loss: 2319.527587890625 best Validation loss: 2308.93603515625\n",
      "Epoch: 1500 Training loss:  2571.122802734375 Validation loss: 2314.98974609375 best Validation loss: 2298.430419921875\n",
      "Epoch: 1600 Training loss:  2553.478515625 Validation loss: 2293.1240234375 best Validation loss: 2283.826171875\n",
      "Epoch: 1700 Training loss:  2533.65673828125 Validation loss: 2294.3935546875 best Validation loss: 2282.273193359375\n",
      "Epoch: 1800 Training loss:  2515.67333984375 Validation loss: 2259.677734375 best Validation loss: 2248.68115234375\n",
      "Epoch: 1900 Training loss:  2496.330810546875 Validation loss: 2251.69140625 best Validation loss: 2242.2958984375\n",
      "Epoch: 2000 Training loss:  2479.316650390625 Validation loss: 2234.91015625 best Validation loss: 2234.330322265625\n",
      "Epoch: 2100 Training loss:  2465.85498046875 Validation loss: 2236.4990234375 best Validation loss: 2231.1376953125\n",
      "Epoch: 2200 Training loss:  2449.55810546875 Validation loss: 2230.07421875 best Validation loss: 2224.89111328125\n",
      "Epoch: 2300 Training loss:  2434.457275390625 Validation loss: 2230.1171875 best Validation loss: 2220.4482421875\n",
      "Epoch: 2400 Training loss:  2419.851318359375 Validation loss: 2224.84521484375 best Validation loss: 2217.12646484375\n",
      "Epoch: 2500 Training loss:  2406.866943359375 Validation loss: 2220.6416015625 best Validation loss: 2212.828125\n",
      "Epoch: 2600 Training loss:  2391.920166015625 Validation loss: 2238.347900390625 best Validation loss: 2211.231689453125\n",
      "Epoch: 2700 Training loss:  2376.014404296875 Validation loss: 2218.7080078125 best Validation loss: 2211.231689453125\n",
      "Epoch: 2800 Training loss:  2363.99072265625 Validation loss: 2222.623779296875 best Validation loss: 2211.150146484375\n",
      "Epoch: 2900 Training loss:  2349.451416015625 Validation loss: 2212.2666015625 best Validation loss: 2202.927001953125\n",
      "Epoch: 3000 Training loss:  2341.45068359375 Validation loss: 2207.1435546875 best Validation loss: 2200.967529296875\n",
      "Epoch: 3100 Training loss:  2330.052490234375 Validation loss: 2206.38671875 best Validation loss: 2195.31640625\n",
      "Epoch: 3200 Training loss:  2318.66162109375 Validation loss: 2196.679931640625 best Validation loss: 2192.037109375\n",
      "Epoch: 3300 Training loss:  2312.5517578125 Validation loss: 2202.503662109375 best Validation loss: 2192.037109375\n",
      "Epoch: 3400 Training loss:  2304.497314453125 Validation loss: 2192.768310546875 best Validation loss: 2186.079345703125\n",
      "Epoch: 3500 Training loss:  2295.889892578125 Validation loss: 2189.557861328125 best Validation loss: 2183.387939453125\n",
      "Epoch: 3600 Training loss:  2289.97509765625 Validation loss: 2184.84423828125 best Validation loss: 2181.889404296875\n",
      "Epoch: 3700 Training loss:  2283.34521484375 Validation loss: 2187.631591796875 best Validation loss: 2177.94091796875\n",
      "Epoch: 3800 Training loss:  2276.04443359375 Validation loss: 2188.9501953125 best Validation loss: 2175.725341796875\n",
      "Epoch: 3900 Training loss:  2270.577880859375 Validation loss: 2193.57470703125 best Validation loss: 2173.135986328125\n",
      "Epoch: 4000 Training loss:  2263.33251953125 Validation loss: 2183.519287109375 best Validation loss: 2173.135986328125\n",
      "Epoch: 4100 Training loss:  2258.8046875 Validation loss: 2179.065673828125 best Validation loss: 2173.135986328125\n",
      "Epoch: 4200 Training loss:  2254.240478515625 Validation loss: 2188.192626953125 best Validation loss: 2173.135986328125\n",
      "Epoch: 4300 Training loss:  2249.186279296875 Validation loss: 2191.843505859375 best Validation loss: 2173.057861328125\n",
      "Epoch: 4400 Training loss:  2194.64208984375 Validation loss: 2126.0458984375 best Validation loss: 2120.443603515625\n",
      "Epoch: 4500 Training loss:  2180.346435546875 Validation loss: 2130.4111328125 best Validation loss: 2120.443603515625\n",
      "Epoch: 4600 Training loss:  2170.022705078125 Validation loss: 2140.52197265625 best Validation loss: 2120.443603515625\n",
      "Epoch: 4700 Training loss:  2162.3125 Validation loss: 2150.1318359375 best Validation loss: 2120.443603515625\n",
      "Epoch: 4800 Training loss:  2151.9873046875 Validation loss: 2135.259033203125 best Validation loss: 2120.443603515625\n",
      "Epoch: 4900 Training loss:  2146.408203125 Validation loss: 2150.173095703125 best Validation loss: 2120.443603515625\n"
     ]
    }
   ],
   "source": [
    "best_val_loss = float('inf')\n",
    "training_loss = np.array([])\n",
    "validation_loss = np.array([])\n",
    "last_val_loss = float('inf')\n",
    "count = 0\n",
    "\n",
    "for n in range(NUMBER_OF_EPOCH):\n",
    "    model.train()\n",
    "    y_pred = model(X_train)[:, 0]\n",
    "    loss = loss_fn(y_pred, y_train)\n",
    "    optimizer.zero_grad()\n",
    "    loss.backward()\n",
    "    optimizer.step()\n",
    "    \n",
    "    model.eval()\n",
    "    y_pred = model(X_val)[:, 0]\n",
    "    val_loss = loss_fn(y_pred, y_val).item()\n",
    "    validation_loss = np.append(validation_loss, val_loss)\n",
    "\n",
    "    if val_loss < best_val_loss:\n",
    "        best_val_loss = val_loss\n",
    "        torch.save(model, 'mlp_model.pth')\n",
    "        \n",
    "    y_pred = model(X_train)[:, 0]\n",
    "    training_loss_eval = loss_fn(y_pred, y_train).item()\n",
    "    training_loss = np.append(training_loss, training_loss_eval)\n",
    "    \n",
    "    if n % 100 == 0:\n",
    "        print(f'Epoch: {n} Training loss:  {training_loss_eval}'f' Validation loss: {val_loss}'f' best Validation loss: {best_val_loss}')\n",
    "        \n",
    "    if last_val_loss < val_loss:\n",
    "        count += 1\n",
    "        if count == 25:\n",
    "            break\n",
    "    else:\n",
    "        count = 0\n",
    "    last_val_loss = val_loss"
   ]
  },
  {
   "cell_type": "code",
   "execution_count": 17,
   "metadata": {},
   "outputs": [
    {
     "data": {
      "text/plain": [
       "<matplotlib.legend.Legend at 0x161579910>"
      ]
     },
     "execution_count": 17,
     "metadata": {},
     "output_type": "execute_result"
    },
    {
     "data": {
      "image/png": "[encoded data removed]",
      "text/plain": [
       "<Figure size 640x480 with 1 Axes>"
      ]
     },
     "metadata": {},
     "output_type": "display_data"
    }
   ],
   "source": [
    "import matplotlib.pyplot as plt\n",
    "\n",
    "plt.plot(training_loss, label='Training Loss')\n",
    "plt.plot(validation_loss, label='Validation Loss')\n",
    "plt.legend(loc='best')"
   ]
  },
  {
   "cell_type": "code",
   "execution_count": 21,
   "metadata": {},
   "outputs": [
    {
     "name": "stdout",
     "output_type": "stream",
     "text": [
      "Loss: 2273.578125\n"
     ]
    }
   ],
   "source": [
    "df = pd.read_csv('data/test.csv')\n",
    "model = torch.load('mlp_model.pth', weights_only=False)\n",
    "model.eval()\n",
    "index = df['id']\n",
    "df = df.drop(['id'], axis=1)\n",
    "df = df.drop(['manufacturer'], axis=1)\n",
    "df = pp.standardize(df, pickle.load(open('scaler.pkl', 'rb'))) \n",
    "df = pp.encoder(df, pickle.load(open('encoder.pkl', 'rb')))\n",
    "X = torch.tensor(df.values, dtype=torch.float32)\n",
    "y_pred = model(X)[:, 0]\n",
    "\n",
    "\n",
    "df = pd.DataFrame(y_pred.detach().numpy(), columns=['price'])\n",
    "df = pd.concat([index, df], axis=1)\n",
    "df.rename(columns={'price': 'answer'}, inplace=True)\n",
    "df.to_csv('output.csv', index=False)\n",
    "\n",
    "y = with_outlier['price'].values\n",
    "X = with_outlier.drop(['price'], axis=1)\n",
    "X = torch.tensor(X.values, dtype=torch.float32)\n",
    "y_pred = model(X)[:, 0]\n",
    "loss = loss_fn(y_pred, torch.tensor(y, dtype=torch.float32)).item()\n",
    "print(f'Loss: {loss}')"
   ]
  }
 ],
 "metadata": {
  "kernelspec": {
   "display_name": "pytorch2.0",
   "language": "python",
   "name": "python3"
  },
  "language_info": {
   "codemirror_mode": {
    "name": "ipython",
    "version": 3
   },
   "file_extension": ".py",
   "mimetype": "text/x-python",
   "name": "python",
   "nbconvert_exporter": "python",
   "pygments_lexer": "ipython3",
   "version": "3.11.10"
  }
 },
 "nbformat": 4,
 "nbformat_minor": 2
}
