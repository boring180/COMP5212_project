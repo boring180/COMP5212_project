{
 "cells": [
  {
   "cell_type": "code",
   "execution_count": 31,
   "metadata": {},
   "outputs": [],
   "source": [
    "NUMBER_OF_EPOCH = 50000"
   ]
  },
  {
   "cell_type": "code",
   "execution_count": 32,
   "metadata": {},
   "outputs": [
    {
     "name": "stdout",
     "output_type": "stream",
     "text": [
      "tensor([1.], device='mps:0')\n"
     ]
    }
   ],
   "source": [
    "import torch\n",
    "import torch.nn as nn\n",
    "import pandas as pd\n",
    "import preprossesing as pre\n",
    "if torch.backends.mps.is_available():\n",
    "    mps_device = torch.device(\"mps\")\n",
    "    x = torch.ones(1, device=mps_device)\n",
    "    print (x)\n",
    "else:\n",
    "    print (\"MPS device not found.\")\n",
    "    "
   ]
  },
  {
   "cell_type": "code",
   "execution_count": 33,
   "metadata": {},
   "outputs": [],
   "source": [
    "def prepare_model(df):\n",
    "\n",
    "    df = pre.standardize(df)\n",
    "    df = pre.encoder(df)\n",
    "    df = df.drop(['id'], axis=1)\n",
    "\n",
    "    train, val = pre.test_validation_split(df)\n",
    "    \n",
    "    y_train = torch.tensor(train['price'].values, dtype=torch.float32)\n",
    "    X_train = train.drop(['price'], axis=1)\n",
    "    X_train = torch.tensor(X_train.values, dtype=torch.float32)\n",
    "    \n",
    "    y_val = torch.tensor(val['price'].values, dtype=torch.float32)\n",
    "    X_val = val.drop(['price'], axis=1)\n",
    "    X_val = torch.tensor(X_val.values, dtype=torch.float32)\n",
    "    \n",
    "    return X_train, y_train, X_val, y_val"
   ]
  },
  {
   "cell_type": "code",
   "execution_count": 34,
   "metadata": {},
   "outputs": [
    {
     "data": {
      "text/plain": [
       "mlp(\n",
       "  (layers): Sequential(\n",
       "    (0): Linear(in_features=9, out_features=512, bias=True)\n",
       "    (1): Dropout(p=0.2, inplace=False)\n",
       "    (2): ReLU()\n",
       "    (3): Linear(in_features=512, out_features=256, bias=True)\n",
       "    (4): Dropout(p=0.2, inplace=False)\n",
       "    (5): ReLU()\n",
       "    (6): Linear(in_features=256, out_features=128, bias=True)\n",
       "    (7): Dropout(p=0.2, inplace=False)\n",
       "    (8): ReLU()\n",
       "    (9): Linear(in_features=128, out_features=64, bias=True)\n",
       "    (10): Dropout(p=0.1, inplace=False)\n",
       "    (11): ReLU()\n",
       "    (12): Linear(in_features=64, out_features=32, bias=True)\n",
       "    (13): ReLU()\n",
       "    (14): Linear(in_features=32, out_features=1, bias=True)\n",
       "  )\n",
       "  (manufacturers): Sequential(\n",
       "    (0): Linear(in_features=9, out_features=1, bias=True)\n",
       "    (1): Dropout(p=0.2, inplace=False)\n",
       "    (2): ReLU()\n",
       "  )\n",
       "  (model): Sequential(\n",
       "    (0): Linear(in_features=169, out_features=1, bias=True)\n",
       "    (1): Dropout(p=0.2, inplace=False)\n",
       "    (2): ReLU()\n",
       "  )\n",
       "  (gearbox_type): Sequential(\n",
       "    (0): Linear(in_features=3, out_features=1, bias=True)\n",
       "    (1): Dropout(p=0.2, inplace=False)\n",
       "    (2): ReLU()\n",
       "  )\n",
       "  (fuel_type): Sequential(\n",
       "    (0): Linear(in_features=5, out_features=1, bias=True)\n",
       "    (1): Dropout(p=0.2, inplace=False)\n",
       "    (2): ReLU()\n",
       "  )\n",
       "  (registration_fees): Sequential(\n",
       "    (0): Linear(in_features=12, out_features=1, bias=True)\n",
       "    (1): Dropout(p=0.2, inplace=False)\n",
       "    (2): ReLU()\n",
       "  )\n",
       "  (engine_capacity): Sequential(\n",
       "    (0): Linear(in_features=20, out_features=1, bias=True)\n",
       "    (1): Dropout(p=0.2, inplace=False)\n",
       "    (2): ReLU()\n",
       "  )\n",
       ")"
      ]
     },
     "execution_count": 34,
     "metadata": {},
     "output_type": "execute_result"
    }
   ],
   "source": [
    "# Define model\n",
    "class mlp(nn.Module):\n",
    "    def __init__(self):\n",
    "        super(mlp, self).__init__()\n",
    "        \n",
    "        self.layers = nn.Sequential(\n",
    "        nn.Linear(9, 512),\n",
    "        nn.Dropout(0.2),\n",
    "        nn.ReLU(), \n",
    "        \n",
    "        nn.Linear(512, 256),\n",
    "        nn.Dropout(0.2),\n",
    "        nn.ReLU(),\n",
    "        \n",
    "        nn.Linear(256, 128),\n",
    "        nn.Dropout(0.2),\n",
    "        nn.ReLU(),\n",
    "        \n",
    "        nn.Linear(128, 64),\n",
    "        nn.Dropout(0.1),\n",
    "        nn.ReLU(),\n",
    "        \n",
    "        nn.Linear(64, 32),\n",
    "        nn.ReLU(),\n",
    "        \n",
    "        nn.Linear(32, 1) \n",
    "        )\n",
    "        \n",
    "        self.manufacturers = nn.Sequential(\n",
    "        nn.Linear(9, 1),\n",
    "        nn.Dropout(0.2),\n",
    "        nn.ReLU()\n",
    "        )\n",
    "        \n",
    "        self.model = nn.Sequential(\n",
    "        nn.Linear(169, 1),\n",
    "        nn.Dropout(0.2),\n",
    "        nn.ReLU()\n",
    "        )\n",
    "        \n",
    "        self.gearbox_type = nn.Sequential(\n",
    "        nn.Linear(3, 1),\n",
    "        nn.Dropout(0.2),\n",
    "        nn.ReLU()\n",
    "        )\n",
    "        \n",
    "        self.fuel_type = nn.Sequential(\n",
    "        nn.Linear(5, 1),\n",
    "        nn.Dropout(0.2),\n",
    "        nn.ReLU()\n",
    "        )\n",
    "        \n",
    "        self.registration_fees = nn.Sequential(\n",
    "        nn.Linear(12, 1),\n",
    "        nn.Dropout(0.2),\n",
    "        nn.ReLU()\n",
    "        )\n",
    "        \n",
    "        self.engine_capacity = nn.Sequential(\n",
    "        nn.Linear(20, 1),\n",
    "        nn.Dropout(0.2),\n",
    "        nn.ReLU()\n",
    "        )\n",
    "        \n",
    "    def forward(self, x):\n",
    "        manufacutre_output = self.manufacturers(x[:, 3:12])\n",
    "        model_output = self.model(x[:, 12:181])\n",
    "        gearbox_output = self.gearbox_type(x[:, 181:184])\n",
    "        fuel_output = self.fuel_type(x[:, 184:189])\n",
    "        registration_fees_output = self.registration_fees(x[:, 189:201])\n",
    "        engine_capacity_output = self.engine_capacity(x[:, 201:221])\n",
    "        x = torch.cat((x[:, :3], manufacutre_output, model_output, gearbox_output, fuel_output, registration_fees_output, engine_capacity_output), 1)\n",
    "\n",
    "        return self.layers(x)\n",
    "\n",
    "model = mlp()\n",
    "model"
   ]
  },
  {
   "cell_type": "code",
   "execution_count": 35,
   "metadata": {},
   "outputs": [],
   "source": [
    "loss_fn = nn.MSELoss()\n",
    "optimizer = torch.optim.Adam(model.parameters(), lr=1e-4)"
   ]
  },
  {
   "cell_type": "code",
   "execution_count": 36,
   "metadata": {},
   "outputs": [],
   "source": [
    "df = pd.read_csv('data/train.csv')\n",
    "X_train, y_train, X_val, y_val = prepare_model(df)"
   ]
  },
  {
   "cell_type": "code",
   "execution_count": null,
   "metadata": {},
   "outputs": [
    {
     "name": "stdout",
     "output_type": "stream",
     "text": [
      "Epoch: 0 Loss: 382864416.0 Validation loss: 372782144.0 best Validation loss: 372782144.0\n",
      "Epoch: 100 Loss: 382513888.0 Validation loss: 372410560.0 best Validation loss: 372410560.0\n",
      "Epoch: 200 Loss: 364860608.0 Validation loss: 354167168.0 best Validation loss: 354167168.0\n",
      "Epoch: 300 Loss: 200522624.0 Validation loss: 192505808.0 best Validation loss: 192505808.0\n",
      "Epoch: 400 Loss: 71327680.0 Validation loss: 77683080.0 best Validation loss: 72543952.0\n",
      "Epoch: 500 Loss: 63862416.0 Validation loss: 67658512.0 best Validation loss: 64178568.0\n",
      "Epoch: 600 Loss: 60728536.0 Validation loss: 62255664.0 best Validation loss: 60554884.0\n",
      "Epoch: 700 Loss: 57804516.0 Validation loss: 60647304.0 best Validation loss: 58701048.0\n",
      "Epoch: 800 Loss: 54429984.0 Validation loss: 56605376.0 best Validation loss: 55734672.0\n",
      "Epoch: 900 Loss: 52634356.0 Validation loss: 55572848.0 best Validation loss: 53275616.0\n",
      "Epoch: 1000 Loss: 49696432.0 Validation loss: 51429180.0 best Validation loss: 50353616.0\n",
      "Epoch: 1100 Loss: 47085248.0 Validation loss: 49046288.0 best Validation loss: 47731588.0\n",
      "Epoch: 1200 Loss: 44522900.0 Validation loss: 46794608.0 best Validation loss: 44993096.0\n",
      "Epoch: 1300 Loss: 41953836.0 Validation loss: 45126796.0 best Validation loss: 42773100.0\n",
      "Epoch: 1400 Loss: 39831936.0 Validation loss: 42641676.0 best Validation loss: 40802948.0\n",
      "Epoch: 1500 Loss: 37630292.0 Validation loss: 40162000.0 best Validation loss: 37450856.0\n",
      "Epoch: 1600 Loss: 36802016.0 Validation loss: 37736504.0 best Validation loss: 35452156.0\n",
      "Epoch: 1700 Loss: 33953752.0 Validation loss: 36461600.0 best Validation loss: 33297518.0\n"
     ]
    }
   ],
   "source": [
    "import numpy as np\n",
    "best_val_loss = float('inf')\n",
    "training_loss = np.array([])\n",
    "validation_loss = np.array([])\n",
    "\n",
    "for n in range(NUMBER_OF_EPOCH):\n",
    "    model.train()\n",
    "    y_pred = model(X_train)[:, 0]\n",
    "    loss = loss_fn(y_pred, y_train)\n",
    "    training_loss = np.append(training_loss, loss.item())\n",
    "    optimizer.zero_grad()\n",
    "    loss.backward()\n",
    "    optimizer.step()\n",
    "    \n",
    "    y_pred = model(X_val)[:, 0]\n",
    "    val_loss = loss_fn(y_pred, y_val)\n",
    "    validation_loss = np.append(validation_loss, val_loss.item())\n",
    "    if val_loss < best_val_loss:\n",
    "        best_val_loss = val_loss\n",
    "        torch.save(model, 'mlp_model.pth')\n",
    "    \n",
    "    if n % 100 == 0:\n",
    "        print(f'Epoch: {n} Loss: {loss.item()}'f' Validation loss: {val_loss.item()}'f' best Validation loss: {best_val_loss}')"
   ]
  },
  {
   "cell_type": "code",
   "execution_count": null,
   "metadata": {},
   "outputs": [
    {
     "name": "stdout",
     "output_type": "stream",
     "text": [
      "(4849,) (4848,)\n"
     ]
    },
    {
     "data": {
      "text/plain": [
       "<matplotlib.legend.Legend at 0x31d233990>"
      ]
     },
     "execution_count": 30,
     "metadata": {},
     "output_type": "execute_result"
    },
    {
     "data": {
      "image/png": "[encoded data removed]",
      "text/plain": [
       "<Figure size 640x480 with 1 Axes>"
      ]
     },
     "metadata": {},
     "output_type": "display_data"
    }
   ],
   "source": [
    "import matplotlib.pyplot as plt\n",
    "\n",
    "print(training_loss.shape, validation_loss.shape)\n",
    "plt.plot(training_loss, label='Training Loss')\n",
    "plt.plot(validation_loss, label='Validation Loss')\n",
    "plt.legend(loc='best')"
   ]
  },
  {
   "cell_type": "code",
   "execution_count": null,
   "metadata": {},
   "outputs": [
    {
     "name": "stderr",
     "output_type": "stream",
     "text": [
      "/var/folders/64/cy9kvd894_bfkfb71dsbxt2w0000gn/T/ipykernel_7687/921359386.py:4: FutureWarning: You are using `torch.load` with `weights_only=False` (the current default value), which uses the default pickle module implicitly. It is possible to construct malicious pickle data which will execute arbitrary code during unpickling (See https://github.com/pytorch/pytorch/blob/main/SECURITY.md#untrusted-models for more details). In a future release, the default value for `weights_only` will be flipped to `True`. This limits the functions that could be executed during unpickling. Arbitrary objects will no longer be allowed to be loaded via this mode unless they are explicitly allowlisted by the user via `torch.serialization.add_safe_globals`. We recommend you start setting `weights_only=True` for any use case where you don't have full control of the loaded file. Please open an issue on GitHub for any issues related to this experimental feature.\n",
      "  model = torch.load('mlp_model.pth')\n"
     ]
    }
   ],
   "source": [
    "import pickle\n",
    "\n",
    "df = pd.read_csv('data/test.csv')\n",
    "model = torch.load('mlp_model.pth')\n",
    "\n",
    "index = df['id']\n",
    "df = df.drop(['id'], axis=1)\n",
    "X = pre.encoder(df)\n",
    "X = pre.standardize(X, scaler=pickle.load(open('scaler.pkl', 'rb')))\n",
    "X = torch.tensor(X.values, dtype=torch.float32)\n",
    "y_pred = model(X)[:, 0]\n",
    "\n",
    "df = pd.DataFrame(y_pred.detach().numpy(), columns=['price'])\n",
    "df = pd.concat([index, df], axis=1)\n",
    "df.rename(columns={'price': 'answer'}, inplace=True)\n",
    "df.to_csv('output.csv', index=False)"
   ]
  }
 ],
 "metadata": {
  "kernelspec": {
   "display_name": "pytorch2.0",
   "language": "python",
   "name": "python3"
  },
  "language_info": {
   "codemirror_mode": {
    "name": "ipython",
    "version": 3
   },
   "file_extension": ".py",
   "mimetype": "text/x-python",
   "name": "python",
   "nbconvert_exporter": "python",
   "pygments_lexer": "ipython3",
   "version": "3.11.10"
  }
 },
 "nbformat": 4,
 "nbformat_minor": 2
}
