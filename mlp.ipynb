{
 "cells": [
  {
   "cell_type": "code",
   "execution_count": 469,
   "metadata": {},
   "outputs": [],
   "source": [
    "NUMBER_OF_EPOCH = 5000\n",
    "# num_of_categories = "
   ]
  },
  {
   "cell_type": "code",
   "execution_count": 470,
   "metadata": {},
   "outputs": [
    {
     "name": "stdout",
     "output_type": "stream",
     "text": [
      "tensor([1.], device='cuda:0')\n"
     ]
    }
   ],
   "source": [
    "import torch\n",
    "import torch.nn as nn\n",
    "import pandas as pd\n",
    "import math\n",
    "if torch.backends.mps.is_available():\n",
    "    mps_device = torch.device(\"mps\")\n",
    "    x = torch.ones(1, device=mps_device)\n",
    "    print (x)\n",
    "elif torch.backends.cuda.is_built():\n",
    "    mps_device = torch.device(\"cuda\")\n",
    "    x = torch.ones(1, device=mps_device)\n",
    "    print (x)\n",
    "else:\n",
    "    print (\"MPS device not found.\")\n",
    "    "
   ]
  },
  {
   "cell_type": "code",
   "execution_count": 471,
   "metadata": {},
   "outputs": [],
   "source": [
    "def prepare_model(df):\n",
    "    \n",
    "    # df = pre.standardize(df)\n",
    "    # df = pre.encoder(df)\n",
    "    # df = df.drop(['id'], axis=1)\n",
    "\n",
    "    from sklearn.model_selection import train_test_split\n",
    "    train, val = train_test_split(df, test_size=0.10)\n",
    "\n",
    "    y_train = torch.tensor(train['price'].values, dtype=torch.float32)\n",
    "    X_train = train.drop(['price'], axis=1)\n",
    "    X_train = torch.tensor(X_train.values, dtype=torch.float32)\n",
    "\n",
    "    y_val = torch.tensor(val['price'].values, dtype=torch.float32)\n",
    "    X_val = val.drop(['price'], axis=1)\n",
    "    X_val = torch.tensor(X_val.values, dtype=torch.float32)\n",
    "        \n",
    "    return X_train, y_train, X_val, y_val"
   ]
  },
  {
   "cell_type": "code",
   "execution_count": 472,
   "metadata": {},
   "outputs": [
    {
     "data": {
      "text/plain": [
       "mlp(\n",
       "  (layers): Sequential(\n",
       "    (0): Linear(in_features=8, out_features=2048, bias=True)\n",
       "    (1): Dropout(p=0.25, inplace=False)\n",
       "    (2): ReLU()\n",
       "    (3): Linear(in_features=2048, out_features=1024, bias=True)\n",
       "    (4): ReLU()\n",
       "    (5): Linear(in_features=1024, out_features=1, bias=True)\n",
       "  )\n",
       "  (model_layer): Sequential(\n",
       "    (0): Linear(in_features=165, out_features=1, bias=True)\n",
       "    (1): ReLU()\n",
       "  )\n",
       "  (gear_box_layer): Sequential(\n",
       "    (0): Linear(in_features=3, out_features=1, bias=True)\n",
       "    (1): ReLU()\n",
       "  )\n",
       "  (fuel_type_layer): Sequential(\n",
       "    (0): Linear(in_features=5, out_features=1, bias=True)\n",
       "    (1): ReLU()\n",
       "  )\n",
       ")"
      ]
     },
     "execution_count": 472,
     "metadata": {},
     "output_type": "execute_result"
    }
   ],
   "source": [
    "# Define model\n",
    "class mlp(nn.Module):\n",
    "    def __init__(self):\n",
    "        super(mlp, self).__init__()\n",
    "        \n",
    "        self.layers = nn.Sequential(\n",
    "        nn.Linear(8, 2048),\n",
    "        nn.Dropout(0.25),\n",
    "        nn.ReLU(), \n",
    "\n",
    "        nn.Linear(2048, 1024),\n",
    "        nn.ReLU(), \n",
    "        \n",
    "        nn.Linear(1024, 1)\n",
    "        )\n",
    "        \n",
    "        self.model_layer = nn.Sequential(\n",
    "        nn.Linear(165, 1),\n",
    "        nn.ReLU()\n",
    "        )\n",
    "        \n",
    "        self.gear_box_layer = nn.Sequential(\n",
    "        nn.Linear(3, 1),\n",
    "        nn.ReLU()\n",
    "        )\n",
    "        \n",
    "        self.fuel_type_layer = nn.Sequential( \n",
    "        nn.Linear(5, 1),\n",
    "        nn.ReLU()\n",
    "        )\n",
    "        \n",
    "        # self.registration_fee_layer = nn.Sequential(\n",
    "        # nn.Linear(8, 1),\n",
    "        # nn.ReLU()\n",
    "        # )\n",
    "        \n",
    "        # self.engine_capacity_layer = nn.Sequential(\n",
    "        # nn.Linear(10, 1),\n",
    "        # nn.ReLU()\n",
    "        # )\n",
    "    \n",
    "        \n",
    "    def forward(self, x):\n",
    "        # print(x.shape)\n",
    "        model = self.model_layer(x[:, 5:170])\n",
    "        gear_box = self.gear_box_layer(x[:, 170:173])\n",
    "        fuel_type = self.fuel_type_layer(x[:, 173:178])\n",
    "        \n",
    "        # registration_fee = self.registration_fee_layer(x[:, 156:164])\n",
    "        # engine_capacity = self.engine_capacity_layer(x[:, 164:174])\n",
    "        # operating_hours = x[:, 174].view(-1, 1)\n",
    "        # year = x[:, 175].view(-1, 1)\n",
    "        # efficiency = x[:, 176].view(-1, 1)\n",
    "\n",
    "        \n",
    "        # x = torch.cat((model, year, gear_box, operating_hours, fuel_type, registration_fee, efficiency, engine_capacity), 1)\n",
    "        \n",
    "        x = torch.cat((model, gear_box, fuel_type, x[:, :5]), 1)\n",
    "        \n",
    "        return self.layers(x)\n",
    "\n",
    "model = mlp()\n",
    "model"
   ]
  },
  {
   "cell_type": "code",
   "execution_count": 473,
   "metadata": {},
   "outputs": [],
   "source": [
    "class RMSELoss(nn.Module):\n",
    "    def __init__(self):\n",
    "        super(RMSELoss, self).__init__()\n",
    "        self.mse = nn.MSELoss()\n",
    "\n",
    "    def forward(self, y_pred, y_true):\n",
    "        return torch.sqrt(self.mse(y_pred, y_true))"
   ]
  },
  {
   "cell_type": "code",
   "execution_count": 474,
   "metadata": {},
   "outputs": [],
   "source": [
    "loss_fn = RMSELoss()\n",
    "optimizer = torch.optim.Adam(model.parameters(), lr=1e-3, weight_decay=1e-3)"
   ]
  },
  {
   "cell_type": "code",
   "execution_count": 475,
   "metadata": {},
   "outputs": [
    {
     "name": "stdout",
     "output_type": "stream",
     "text": [
      "torch.Size([8910, 178]) torch.Size([8910]) torch.Size([990, 178]) torch.Size([990])\n"
     ]
    }
   ],
   "source": [
    "df = pd.read_csv('data/train.csv')\n",
    "X_train, y_train, X_val, y_val = prepare_model(df)\n",
    "print(X_train.shape, y_train.shape, X_val.shape, y_val.shape)"
   ]
  },
  {
   "cell_type": "code",
   "execution_count": 476,
   "metadata": {},
   "outputs": [
    {
     "name": "stdout",
     "output_type": "stream",
     "text": [
      "Epoch: 0 Training loss:  19081.587890625 Validation loss: 19183.76171875 best Validation loss: 19183.76171875\n",
      "Epoch: 100 Training loss:  6590.078125 Validation loss: 6582.10791015625 best Validation loss: 6582.10791015625\n",
      "Epoch: 200 Training loss:  4160.3115234375 Validation loss: 3798.714111328125 best Validation loss: 3798.714111328125\n",
      "Epoch: 300 Training loss:  3564.72607421875 Validation loss: 3285.710693359375 best Validation loss: 3285.710693359375\n",
      "Epoch: 400 Training loss:  3105.0 Validation loss: 2884.4677734375 best Validation loss: 2884.4677734375\n",
      "Epoch: 500 Training loss:  2747.712890625 Validation loss: 2583.17919921875 best Validation loss: 2583.17919921875\n",
      "Epoch: 600 Training loss:  2584.527587890625 Validation loss: 2461.974365234375 best Validation loss: 2461.974365234375\n",
      "Epoch: 700 Training loss:  2515.269775390625 Validation loss: 2405.78759765625 best Validation loss: 2405.78759765625\n",
      "Epoch: 800 Training loss:  2480.41796875 Validation loss: 2376.4873046875 best Validation loss: 2375.3125\n",
      "Epoch: 900 Training loss:  2460.26171875 Validation loss: 2359.05859375 best Validation loss: 2358.476318359375\n",
      "Epoch: 1000 Training loss:  2446.01904296875 Validation loss: 2349.093505859375 best Validation loss: 2348.3232421875\n",
      "Epoch: 1100 Training loss:  2434.230224609375 Validation loss: 2343.48974609375 best Validation loss: 2343.48974609375\n",
      "Epoch: 1200 Training loss:  2423.302001953125 Validation loss: 2337.744140625 best Validation loss: 2336.9990234375\n",
      "Epoch: 1300 Training loss:  2413.55615234375 Validation loss: 2335.412109375 best Validation loss: 2334.42431640625\n",
      "Epoch: 1400 Training loss:  2403.66259765625 Validation loss: 2331.20849609375 best Validation loss: 2329.56005859375\n",
      "Epoch: 1500 Training loss:  2393.708740234375 Validation loss: 2327.71533203125 best Validation loss: 2325.45654296875\n",
      "Epoch: 1600 Training loss:  2383.909423828125 Validation loss: 2322.952392578125 best Validation loss: 2321.887939453125\n",
      "Epoch: 1700 Training loss:  2374.618896484375 Validation loss: 2317.252685546875 best Validation loss: 2316.61328125\n",
      "Epoch: 1800 Training loss:  2365.829833984375 Validation loss: 2311.94482421875 best Validation loss: 2311.52294921875\n",
      "Epoch: 1900 Training loss:  2357.008056640625 Validation loss: 2307.44189453125 best Validation loss: 2307.084228515625\n",
      "Epoch: 2000 Training loss:  2348.856201171875 Validation loss: 2306.83056640625 best Validation loss: 2304.367431640625\n",
      "Epoch: 2100 Training loss:  2340.469482421875 Validation loss: 2300.481201171875 best Validation loss: 2299.735595703125\n",
      "Epoch: 2200 Training loss:  2332.790771484375 Validation loss: 2296.253173828125 best Validation loss: 2295.871826171875\n",
      "Epoch: 2300 Training loss:  2325.60302734375 Validation loss: 2294.146484375 best Validation loss: 2292.617919921875\n",
      "Epoch: 2400 Training loss:  2318.4267578125 Validation loss: 2288.683349609375 best Validation loss: 2288.683349609375\n",
      "Epoch: 2500 Training loss:  2311.164306640625 Validation loss: 2286.095703125 best Validation loss: 2285.591064453125\n",
      "Epoch: 2600 Training loss:  2304.90869140625 Validation loss: 2284.4599609375 best Validation loss: 2280.1552734375\n",
      "Epoch: 2700 Training loss:  2298.09033203125 Validation loss: 2279.600341796875 best Validation loss: 2278.423583984375\n",
      "Epoch: 2800 Training loss:  2292.310546875 Validation loss: 2278.813720703125 best Validation loss: 2275.091064453125\n",
      "Epoch: 2900 Training loss:  2285.7255859375 Validation loss: 2272.970947265625 best Validation loss: 2272.38134765625\n",
      "Epoch: 3000 Training loss:  2279.8935546875 Validation loss: 2270.829833984375 best Validation loss: 2269.780517578125\n",
      "Epoch: 3100 Training loss:  2274.60107421875 Validation loss: 2268.553466796875 best Validation loss: 2266.498046875\n",
      "Epoch: 3200 Training loss:  2269.15283203125 Validation loss: 2267.6181640625 best Validation loss: 2264.457763671875\n",
      "Epoch: 3300 Training loss:  2263.739013671875 Validation loss: 2263.065185546875 best Validation loss: 2261.484130859375\n",
      "Epoch: 3400 Training loss:  2258.616455078125 Validation loss: 2259.97021484375 best Validation loss: 2258.960693359375\n",
      "Epoch: 3500 Training loss:  2254.621826171875 Validation loss: 2259.60400390625 best Validation loss: 2257.129638671875\n",
      "Epoch: 3600 Training loss:  2249.109130859375 Validation loss: 2257.177734375 best Validation loss: 2256.427734375\n",
      "Epoch: 3700 Training loss:  2245.0224609375 Validation loss: 2257.838623046875 best Validation loss: 2255.06494140625\n",
      "Epoch: 3800 Training loss:  2240.57861328125 Validation loss: 2255.5078125 best Validation loss: 2252.674560546875\n",
      "Epoch: 3900 Training loss:  2235.8916015625 Validation loss: 2253.362060546875 best Validation loss: 2251.895751953125\n",
      "Epoch: 4000 Training loss:  2232.140869140625 Validation loss: 2252.298583984375 best Validation loss: 2250.513916015625\n",
      "Epoch: 4100 Training loss:  2227.204833984375 Validation loss: 2250.988525390625 best Validation loss: 2250.26025390625\n",
      "Epoch: 4200 Training loss:  2223.0927734375 Validation loss: 2250.905517578125 best Validation loss: 2248.90625\n",
      "Epoch: 4300 Training loss:  2219.74560546875 Validation loss: 2251.411376953125 best Validation loss: 2248.373046875\n",
      "Epoch: 4400 Training loss:  2215.39599609375 Validation loss: 2249.175537109375 best Validation loss: 2247.408447265625\n",
      "Epoch: 4500 Training loss:  2211.578125 Validation loss: 2246.73583984375 best Validation loss: 2245.640869140625\n",
      "Epoch: 4600 Training loss:  2207.890625 Validation loss: 2249.38427734375 best Validation loss: 2244.6064453125\n",
      "Epoch: 4700 Training loss:  2205.0771484375 Validation loss: 2249.74462890625 best Validation loss: 2244.6064453125\n",
      "Epoch: 4800 Training loss:  2200.63330078125 Validation loss: 2248.933349609375 best Validation loss: 2244.6064453125\n",
      "Epoch: 4900 Training loss:  2196.478515625 Validation loss: 2245.790283203125 best Validation loss: 2242.9150390625\n"
     ]
    }
   ],
   "source": [
    "import numpy as np \n",
    "best_val_loss = float('inf')\n",
    "training_loss = np.array([])\n",
    "validation_loss = np.array([])\n",
    "last_val_loss = float('inf')\n",
    "count = 0\n",
    "for n in range(NUMBER_OF_EPOCH):\n",
    "    model.train()\n",
    "    y_pred = model(X_train)[:, 0]\n",
    "    loss = loss_fn(y_pred, y_train)\n",
    "    training_loss = np.append(training_loss, loss.item())\n",
    "    optimizer.zero_grad()\n",
    "    loss.backward()\n",
    "    optimizer.step()\n",
    "    \n",
    "    model.eval()\n",
    "    y_pred = model(X_val)[:, 0]\n",
    "    val_loss = loss_fn(y_pred, y_val).item()\n",
    "\n",
    "    if val_loss < best_val_loss:\n",
    "        best_val_loss = val_loss\n",
    "        torch.save(model, 'mlp_model.pth')\n",
    "        \n",
    "    y_pred = model(X_train)[:, 0]\n",
    "    training_loss_eval = loss_fn(y_pred, y_train).item()\n",
    "    \n",
    "    if n % 100 == 0:\n",
    "        print(f'Epoch: {n} Training loss:  {training_loss_eval}'f' Validation loss: {val_loss}'f' best Validation loss: {best_val_loss}')\n",
    "        \n",
    "    if last_val_loss < val_loss:\n",
    "        count += 1\n",
    "        if count == 25:\n",
    "            break\n",
    "    else:\n",
    "        count = 0\n",
    "    last_val_loss = val_loss\n",
    "    \n",
    "torch.save(model, 'mlp_model.pth')"
   ]
  },
  {
   "cell_type": "code",
   "execution_count": 477,
   "metadata": {},
   "outputs": [
    {
     "data": {
      "text/plain": [
       "<matplotlib.legend.Legend at 0x7ff9fe5688e0>"
      ]
     },
     "execution_count": 477,
     "metadata": {},
     "output_type": "execute_result"
    },
    {
     "data": {
      "image/png": "[encoded data removed]",
      "text/plain": [
       "<Figure size 640x480 with 1 Axes>"
      ]
     },
     "metadata": {},
     "output_type": "display_data"
    }
   ],
   "source": [
    "import matplotlib.pyplot as plt\n",
    "\n",
    "plt.plot(training_loss, label='Training Loss')\n",
    "plt.plot(validation_loss, label='Validation Loss')\n",
    "plt.legend(loc='best')"
   ]
  },
  {
   "cell_type": "code",
   "execution_count": 478,
   "metadata": {},
   "outputs": [
    {
     "name": "stderr",
     "output_type": "stream",
     "text": [
      "/tmp/ipykernel_6045/1189036708.py:2: FutureWarning: You are using `torch.load` with `weights_only=False` (the current default value), which uses the default pickle module implicitly. It is possible to construct malicious pickle data which will execute arbitrary code during unpickling (See https://github.com/pytorch/pytorch/blob/main/SECURITY.md#untrusted-models for more details). In a future release, the default value for `weights_only` will be flipped to `True`. This limits the functions that could be executed during unpickling. Arbitrary objects will no longer be allowed to be loaded via this mode unless they are explicitly allowlisted by the user via `torch.serialization.add_safe_globals`. We recommend you start setting `weights_only=True` for any use case where you don't have full control of the loaded file. Please open an issue on GitHub for any issues related to this experimental feature.\n",
      "  model = torch.load('mlp_model.pth')\n"
     ]
    }
   ],
   "source": [
    "df = pd.read_csv('data/test.csv')\n",
    "model = torch.load('mlp_model.pth')\n",
    "model.eval()\n",
    "\n",
    "index = df['id']\n",
    "# X = pre.encoder(df)\n",
    "# X = pre.standardize(X, scaler=pickle.load(open('scaler.pkl', 'rb')))\n",
    "X = df.drop(['id'], axis=1)\n",
    "X = torch.tensor(X.values, dtype=torch.float32)\n",
    "y_pred = model(X)[:, 0]\n",
    "\n",
    "df = pd.DataFrame(y_pred.detach().numpy(), columns=['price'])\n",
    "df = pd.concat([index, df], axis=1)\n",
    "df.rename(columns={'price': 'answer'}, inplace=True)\n",
    "df.to_csv('output.csv', index=False)"
   ]
  }
 ],
 "metadata": {
  "kernelspec": {
   "display_name": "COMP5212",
   "language": "python",
   "name": "python3"
  },
  "language_info": {
   "codemirror_mode": {
    "name": "ipython",
    "version": 3
   },
   "file_extension": ".py",
   "mimetype": "text/x-python",
   "name": "python",
   "nbconvert_exporter": "python",
   "pygments_lexer": "ipython3",
   "version": "3.9.20"
  }
 },
 "nbformat": 4,
 "nbformat_minor": 2
}
