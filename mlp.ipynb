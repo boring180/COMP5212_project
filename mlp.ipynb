{
 "cells": [
  {
   "cell_type": "code",
   "execution_count": 19,
   "metadata": {},
   "outputs": [],
   "source": [
    "NUMBER_OF_EPOCH = 50000\n",
    "# num_of_categories = "
   ]
  },
  {
   "cell_type": "code",
   "execution_count": 20,
   "metadata": {},
   "outputs": [
    {
     "name": "stdout",
     "output_type": "stream",
     "text": [
      "tensor([1.], device='mps:0')\n"
     ]
    }
   ],
   "source": [
    "import torch\n",
    "import torch.nn as nn\n",
    "import pandas as pd\n",
    "import preprossesing as pre\n",
    "import math\n",
    "if torch.backends.mps.is_available():\n",
    "    mps_device = torch.device(\"mps\")\n",
    "    x = torch.ones(1, device=mps_device)\n",
    "    print (x)\n",
    "else:\n",
    "    print (\"MPS device not found.\")\n",
    "    "
   ]
  },
  {
   "cell_type": "code",
   "execution_count": 21,
   "metadata": {},
   "outputs": [],
   "source": [
    "def prepare_model(df):\n",
    "    \n",
    "    df = pre.standardize(df)\n",
    "    df = pre.encoder(df)\n",
    "    df = df.drop(['id'], axis=1)\n",
    "\n",
    "    train, val = pre.test_validation_split(df)\n",
    "    \n",
    "    y_train = torch.tensor(train['price'].values, dtype=torch.float32)\n",
    "    X_train = train.drop(['price'], axis=1)\n",
    "    X_train = torch.tensor(X_train.values, dtype=torch.float32)\n",
    "    \n",
    "    y_val = torch.tensor(val['price'].values, dtype=torch.float32)\n",
    "    X_val = val.drop(['price'], axis=1)\n",
    "    X_val = torch.tensor(X_val.values, dtype=torch.float32)\n",
    "    \n",
    "    return X_train, y_train, X_val, y_val"
   ]
  },
  {
   "cell_type": "code",
   "execution_count": 22,
   "metadata": {},
   "outputs": [
    {
     "data": {
      "text/plain": [
       "mlp(\n",
       "  (layers): Sequential(\n",
       "    (0): Linear(in_features=8, out_features=256, bias=True)\n",
       "    (1): ReLU()\n",
       "    (2): Linear(in_features=256, out_features=256, bias=True)\n",
       "    (3): Dropout(p=0.1, inplace=False)\n",
       "    (4): ReLU()\n",
       "    (5): Linear(in_features=256, out_features=64, bias=True)\n",
       "    (6): ReLU()\n",
       "    (7): Linear(in_features=64, out_features=32, bias=True)\n",
       "    (8): ReLU()\n",
       "    (9): Linear(in_features=32, out_features=1, bias=True)\n",
       "  )\n",
       "  (model_layer): Sequential(\n",
       "    (0): Linear(in_features=151, out_features=1, bias=True)\n",
       "    (1): ReLU()\n",
       "  )\n",
       "  (gear_box_layer): Sequential(\n",
       "    (0): Linear(in_features=3, out_features=1, bias=True)\n",
       "    (1): ReLU()\n",
       "  )\n",
       "  (fuel_type_layer): Sequential(\n",
       "    (0): Linear(in_features=4, out_features=1, bias=True)\n",
       "    (1): ReLU()\n",
       "  )\n",
       "  (registration_fee_layer): Sequential(\n",
       "    (0): Linear(in_features=8, out_features=1, bias=True)\n",
       "    (1): ReLU()\n",
       "  )\n",
       "  (engine_capacity_layer): Sequential(\n",
       "    (0): Linear(in_features=10, out_features=1, bias=True)\n",
       "    (1): ReLU()\n",
       "  )\n",
       ")"
      ]
     },
     "execution_count": 22,
     "metadata": {},
     "output_type": "execute_result"
    }
   ],
   "source": [
    "# Define model\n",
    "class mlp(nn.Module):\n",
    "    def __init__(self):\n",
    "        super(mlp, self).__init__()\n",
    "        \n",
    "        self.layers = nn.Sequential(\n",
    "        nn.Linear(8, 256),\n",
    "        nn.ReLU(), \n",
    "        \n",
    "        nn.Linear(256, 256),\n",
    "        nn.Dropout(0.1),\n",
    "        nn.ReLU(), \n",
    "        \n",
    "        nn.Linear(256, 64),\n",
    "        nn.ReLU(), \n",
    "        \n",
    "        nn.Linear(64, 32),\n",
    "        nn.ReLU(), \n",
    "        \n",
    "        nn.Linear(32, 1) \n",
    "        )\n",
    "        \n",
    "        self.model_layer = nn.Sequential(\n",
    "        nn.Linear(151, 1),\n",
    "        nn.ReLU()\n",
    "        )\n",
    "        \n",
    "        self.gear_box_layer = nn.Sequential(\n",
    "        nn.Linear(3, 1),\n",
    "        nn.ReLU()\n",
    "        )\n",
    "        \n",
    "        self.fuel_type_layer = nn.Sequential( \n",
    "        nn.Linear(4, 1),\n",
    "        nn.ReLU()\n",
    "        )\n",
    "        \n",
    "        self.registration_fee_layer = nn.Sequential(\n",
    "        nn.Linear(8, 1),\n",
    "        nn.ReLU()\n",
    "        )\n",
    "        \n",
    "        self.engine_capacity_layer = nn.Sequential(\n",
    "        nn.Linear(10, 1),\n",
    "        nn.ReLU()\n",
    "        )\n",
    "    \n",
    "        \n",
    "    def forward(self, x):\n",
    "        model = self.model_layer(x[:, :151])\n",
    "        gear_box = self.gear_box_layer(x[:, 151:154])\n",
    "        fuel_type = self.fuel_type_layer(x[:, 154:158])\n",
    "        registration_fee = self.registration_fee_layer(x[:, 158:166])\n",
    "        engine_capacity = self.engine_capacity_layer(x[:, 166:176])\n",
    "        operating_hours = x[:, 176].view(-1, 1)\n",
    "        year = x[:, 177].view(-1, 1)\n",
    "        efficiency = x[:, 178].view(-1, 1)\n",
    "\n",
    "        \n",
    "        x = torch.cat((model, year, gear_box, operating_hours, fuel_type, registration_fee, efficiency, engine_capacity), 1)\n",
    "        \n",
    "        return self.layers(x)\n",
    "\n",
    "model = mlp()\n",
    "model"
   ]
  },
  {
   "cell_type": "code",
   "execution_count": 23,
   "metadata": {},
   "outputs": [],
   "source": [
    "class RMSELoss(nn.Module):\n",
    "    def __init__(self):\n",
    "        super(RMSELoss, self).__init__()\n",
    "        self.mse = nn.MSELoss()\n",
    "\n",
    "    def forward(self, y_pred, y_true):\n",
    "        return torch.sqrt(self.mse(y_pred, y_true))"
   ]
  },
  {
   "cell_type": "code",
   "execution_count": 24,
   "metadata": {},
   "outputs": [],
   "source": [
    "loss_fn = RMSELoss()\n",
    "optimizer = torch.optim.Adam(model.parameters(), lr=1e-3)"
   ]
  },
  {
   "cell_type": "code",
   "execution_count": 25,
   "metadata": {},
   "outputs": [
    {
     "name": "stdout",
     "output_type": "stream",
     "text": [
      "torch.Size([8550, 179]) torch.Size([8550]) torch.Size([950, 179]) torch.Size([950])\n"
     ]
    }
   ],
   "source": [
    "df = pd.read_csv('data/train.csv')\n",
    "X_train, y_train, X_val, y_val = prepare_model(df)\n",
    "print(X_train.shape, y_train.shape, X_val.shape, y_val.shape)"
   ]
  },
  {
   "cell_type": "code",
   "execution_count": 26,
   "metadata": {},
   "outputs": [
    {
     "name": "stdout",
     "output_type": "stream",
     "text": [
      "Epoch: 0 Loss: 18322.19921875 Validation loss: 18768.974609375 best Validation loss: 18768.974609375\n",
      "Epoch: 100 Loss: 15473.501953125 Validation loss: 15755.728515625 best Validation loss: 15755.728515625\n",
      "Epoch: 200 Loss: 7076.4091796875 Validation loss: 7255.91748046875 best Validation loss: 7255.91748046875\n",
      "Epoch: 300 Loss: 6334.11669921875 Validation loss: 6393.8564453125 best Validation loss: 6393.8564453125\n",
      "Epoch: 400 Loss: 5405.54736328125 Validation loss: 5404.375 best Validation loss: 5404.375\n",
      "Epoch: 500 Loss: 2958.21826171875 Validation loss: 3038.48193359375 best Validation loss: 3038.48193359375\n",
      "Epoch: 600 Loss: 2577.322021484375 Validation loss: 2698.880859375 best Validation loss: 2698.880859375\n",
      "Epoch: 700 Loss: 2433.5859375 Validation loss: 2555.923828125 best Validation loss: 2555.923828125\n",
      "Epoch: 800 Loss: 2352.380615234375 Validation loss: 2478.0126953125 best Validation loss: 2478.0126953125\n",
      "Epoch: 900 Loss: 2302.010986328125 Validation loss: 2437.137451171875 best Validation loss: 2437.137451171875\n",
      "Epoch: 1000 Loss: 2255.562255859375 Validation loss: 2411.29736328125 best Validation loss: 2411.29736328125\n",
      "Epoch: 1100 Loss: 2257.212646484375 Validation loss: 2392.544921875 best Validation loss: 2392.544921875\n",
      "Epoch: 1200 Loss: 2230.953369140625 Validation loss: 2373.34130859375 best Validation loss: 2373.34130859375\n",
      "Epoch: 1300 Loss: 2226.46826171875 Validation loss: 2358.308837890625 best Validation loss: 2356.66357421875\n",
      "Epoch: 1400 Loss: 2196.018798828125 Validation loss: 2339.807861328125 best Validation loss: 2339.807861328125\n",
      "Epoch: 1500 Loss: 2193.534423828125 Validation loss: 2334.531494140625 best Validation loss: 2332.66796875\n",
      "Epoch: 1600 Loss: 2199.1083984375 Validation loss: 2328.53759765625 best Validation loss: 2328.53759765625\n",
      "Epoch: 1700 Loss: 2171.467041015625 Validation loss: 2325.124267578125 best Validation loss: 2324.210693359375\n",
      "Epoch: 1800 Loss: 2168.878173828125 Validation loss: 2326.76611328125 best Validation loss: 2323.1376953125\n",
      "Epoch: 1900 Loss: 2170.466552734375 Validation loss: 2319.5673828125 best Validation loss: 2318.01513671875\n",
      "Epoch: 2000 Loss: 2158.69775390625 Validation loss: 2317.69970703125 best Validation loss: 2314.017578125\n",
      "Epoch: 2100 Loss: 2165.393310546875 Validation loss: 2307.718994140625 best Validation loss: 2302.921630859375\n",
      "Epoch: 2200 Loss: 2156.996826171875 Validation loss: 2302.600341796875 best Validation loss: 2297.912109375\n",
      "Epoch: 2300 Loss: 2140.679443359375 Validation loss: 2302.16943359375 best Validation loss: 2295.272216796875\n",
      "Epoch: 2400 Loss: 2148.592041015625 Validation loss: 2298.610595703125 best Validation loss: 2294.309814453125\n",
      "Epoch: 2500 Loss: 2146.68701171875 Validation loss: 2297.380126953125 best Validation loss: 2293.344482421875\n",
      "Epoch: 2600 Loss: 2138.512451171875 Validation loss: 2295.77197265625 best Validation loss: 2292.400634765625\n",
      "Epoch: 2700 Loss: 2141.07177734375 Validation loss: 2295.417724609375 best Validation loss: 2290.216796875\n",
      "Epoch: 2800 Loss: 2140.4013671875 Validation loss: 2295.8447265625 best Validation loss: 2289.769287109375\n",
      "Epoch: 2900 Loss: 2142.945068359375 Validation loss: 2290.6953125 best Validation loss: 2289.769287109375\n",
      "Epoch: 3000 Loss: 2138.00537109375 Validation loss: 2294.057861328125 best Validation loss: 2289.769287109375\n",
      "Epoch: 3100 Loss: 2141.08251953125 Validation loss: 2295.396240234375 best Validation loss: 2289.769287109375\n",
      "Epoch: 3200 Loss: 2152.780029296875 Validation loss: 2292.763671875 best Validation loss: 2289.489013671875\n",
      "Epoch: 3300 Loss: 2136.6259765625 Validation loss: 2295.780029296875 best Validation loss: 2289.489013671875\n",
      "Epoch: 3400 Loss: 2133.89501953125 Validation loss: 2295.345458984375 best Validation loss: 2289.489013671875\n",
      "Epoch: 3500 Loss: 2136.93017578125 Validation loss: 2298.968505859375 best Validation loss: 2289.489013671875\n",
      "Epoch: 3600 Loss: 2141.4921875 Validation loss: 2295.568603515625 best Validation loss: 2289.489013671875\n",
      "Epoch: 3700 Loss: 2119.07470703125 Validation loss: 2296.23828125 best Validation loss: 2289.489013671875\n",
      "Epoch: 3800 Loss: 2141.28125 Validation loss: 2301.746826171875 best Validation loss: 2289.489013671875\n",
      "Epoch: 3900 Loss: 2138.787841796875 Validation loss: 2293.021728515625 best Validation loss: 2289.489013671875\n",
      "Epoch: 4000 Loss: 2136.461181640625 Validation loss: 2295.976806640625 best Validation loss: 2289.489013671875\n",
      "Epoch: 4100 Loss: 2145.98681640625 Validation loss: 2299.30322265625 best Validation loss: 2289.489013671875\n",
      "Epoch: 4200 Loss: 2143.694091796875 Validation loss: 2299.9267578125 best Validation loss: 2289.489013671875\n",
      "Epoch: 4300 Loss: 2127.022216796875 Validation loss: 2297.275146484375 best Validation loss: 2289.489013671875\n",
      "Epoch: 4400 Loss: 2132.2578125 Validation loss: 2298.244384765625 best Validation loss: 2289.489013671875\n",
      "Epoch: 4500 Loss: 2128.501708984375 Validation loss: 2295.958984375 best Validation loss: 2289.489013671875\n",
      "Epoch: 4600 Loss: 2127.98095703125 Validation loss: 2299.3544921875 best Validation loss: 2289.489013671875\n",
      "Epoch: 4700 Loss: 2125.2216796875 Validation loss: 2297.473388671875 best Validation loss: 2289.489013671875\n",
      "Epoch: 4800 Loss: 2118.78271484375 Validation loss: 2297.415771484375 best Validation loss: 2289.489013671875\n",
      "Epoch: 4900 Loss: 2128.72216796875 Validation loss: 2297.626220703125 best Validation loss: 2289.489013671875\n",
      "Epoch: 5000 Loss: 2125.700439453125 Validation loss: 2297.413330078125 best Validation loss: 2289.489013671875\n",
      "Epoch: 5100 Loss: 2143.609130859375 Validation loss: 2298.778076171875 best Validation loss: 2289.489013671875\n",
      "Epoch: 5200 Loss: 2128.9619140625 Validation loss: 2296.987060546875 best Validation loss: 2289.489013671875\n",
      "Epoch: 5300 Loss: 2128.326416015625 Validation loss: 2299.582763671875 best Validation loss: 2289.489013671875\n",
      "Epoch: 5400 Loss: 2124.916748046875 Validation loss: 2296.906494140625 best Validation loss: 2289.489013671875\n",
      "Epoch: 5500 Loss: 2131.42333984375 Validation loss: 2299.304443359375 best Validation loss: 2289.489013671875\n",
      "Epoch: 5600 Loss: 2139.1142578125 Validation loss: 2300.13330078125 best Validation loss: 2289.489013671875\n",
      "Epoch: 5700 Loss: 2114.06591796875 Validation loss: 2300.53857421875 best Validation loss: 2289.489013671875\n",
      "Epoch: 5800 Loss: 2121.00244140625 Validation loss: 2302.68408203125 best Validation loss: 2289.489013671875\n",
      "Epoch: 5900 Loss: 2121.70654296875 Validation loss: 2300.0693359375 best Validation loss: 2289.489013671875\n",
      "Epoch: 6000 Loss: 2133.75537109375 Validation loss: 2303.079833984375 best Validation loss: 2289.489013671875\n",
      "Epoch: 6100 Loss: 2120.015869140625 Validation loss: 2299.6591796875 best Validation loss: 2289.489013671875\n",
      "Epoch: 6200 Loss: 2115.923828125 Validation loss: 2305.204833984375 best Validation loss: 2289.489013671875\n",
      "Epoch: 6300 Loss: 2113.709228515625 Validation loss: 2306.10009765625 best Validation loss: 2289.489013671875\n",
      "Epoch: 6400 Loss: 2122.83056640625 Validation loss: 2300.939697265625 best Validation loss: 2289.489013671875\n",
      "Epoch: 6500 Loss: 2124.253173828125 Validation loss: 2304.119140625 best Validation loss: 2289.489013671875\n",
      "Epoch: 6600 Loss: 2115.937255859375 Validation loss: 2304.241455078125 best Validation loss: 2289.489013671875\n",
      "Epoch: 6700 Loss: 2113.6669921875 Validation loss: 2306.817626953125 best Validation loss: 2289.489013671875\n",
      "Epoch: 6800 Loss: 2124.306396484375 Validation loss: 2309.45947265625 best Validation loss: 2289.489013671875\n",
      "Epoch: 6900 Loss: 2112.356201171875 Validation loss: 2306.441162109375 best Validation loss: 2289.489013671875\n",
      "Epoch: 7000 Loss: 2113.87646484375 Validation loss: 2306.933349609375 best Validation loss: 2289.489013671875\n",
      "Epoch: 7100 Loss: 2109.363037109375 Validation loss: 2305.279296875 best Validation loss: 2289.489013671875\n",
      "Epoch: 7200 Loss: 2103.729736328125 Validation loss: 2302.124267578125 best Validation loss: 2289.489013671875\n",
      "Epoch: 7300 Loss: 2116.049560546875 Validation loss: 2308.636474609375 best Validation loss: 2289.489013671875\n",
      "Epoch: 7400 Loss: 2131.36962890625 Validation loss: 2306.452392578125 best Validation loss: 2289.489013671875\n",
      "Epoch: 7500 Loss: 2104.277587890625 Validation loss: 2304.0078125 best Validation loss: 2289.489013671875\n",
      "Epoch: 7600 Loss: 2116.89599609375 Validation loss: 2313.810302734375 best Validation loss: 2289.489013671875\n",
      "Epoch: 7700 Loss: 2117.296630859375 Validation loss: 2313.194091796875 best Validation loss: 2289.489013671875\n",
      "Epoch: 7800 Loss: 2125.4765625 Validation loss: 2309.8232421875 best Validation loss: 2289.489013671875\n",
      "Epoch: 7900 Loss: 2107.162109375 Validation loss: 2309.618408203125 best Validation loss: 2289.489013671875\n",
      "Epoch: 8000 Loss: 2136.07958984375 Validation loss: 2310.688720703125 best Validation loss: 2289.489013671875\n",
      "Epoch: 8100 Loss: 2123.57763671875 Validation loss: 2309.601806640625 best Validation loss: 2289.489013671875\n"
     ]
    },
    {
     "ename": "KeyboardInterrupt",
     "evalue": "",
     "output_type": "error",
     "traceback": [
      "\u001b[0;31m---------------------------------------------------------------------------\u001b[0m",
      "\u001b[0;31mKeyboardInterrupt\u001b[0m                         Traceback (most recent call last)",
      "Cell \u001b[0;32mIn[26], line 11\u001b[0m\n\u001b[1;32m      9\u001b[0m model\u001b[38;5;241m.\u001b[39mtrain()\n\u001b[1;32m     10\u001b[0m y_pred \u001b[38;5;241m=\u001b[39m model(X_train)[:, \u001b[38;5;241m0\u001b[39m]\n\u001b[0;32m---> 11\u001b[0m loss \u001b[38;5;241m=\u001b[39m \u001b[43mloss_fn\u001b[49m\u001b[43m(\u001b[49m\u001b[43my_pred\u001b[49m\u001b[43m,\u001b[49m\u001b[43m \u001b[49m\u001b[43my_train\u001b[49m\u001b[43m)\u001b[49m\n\u001b[1;32m     12\u001b[0m training_loss \u001b[38;5;241m=\u001b[39m np\u001b[38;5;241m.\u001b[39mappend(training_loss, loss\u001b[38;5;241m.\u001b[39mitem())\n\u001b[1;32m     13\u001b[0m optimizer\u001b[38;5;241m.\u001b[39mzero_grad()\n",
      "File \u001b[0;32m/opt/anaconda3/envs/pytorch2.0/lib/python3.11/site-packages/torch/nn/modules/module.py:1736\u001b[0m, in \u001b[0;36mModule._wrapped_call_impl\u001b[0;34m(self, *args, **kwargs)\u001b[0m\n\u001b[1;32m   1734\u001b[0m     \u001b[38;5;28;01mreturn\u001b[39;00m \u001b[38;5;28mself\u001b[39m\u001b[38;5;241m.\u001b[39m_compiled_call_impl(\u001b[38;5;241m*\u001b[39margs, \u001b[38;5;241m*\u001b[39m\u001b[38;5;241m*\u001b[39mkwargs)  \u001b[38;5;66;03m# type: ignore[misc]\u001b[39;00m\n\u001b[1;32m   1735\u001b[0m \u001b[38;5;28;01melse\u001b[39;00m:\n\u001b[0;32m-> 1736\u001b[0m     \u001b[38;5;28;01mreturn\u001b[39;00m \u001b[38;5;28;43mself\u001b[39;49m\u001b[38;5;241;43m.\u001b[39;49m\u001b[43m_call_impl\u001b[49m\u001b[43m(\u001b[49m\u001b[38;5;241;43m*\u001b[39;49m\u001b[43margs\u001b[49m\u001b[43m,\u001b[49m\u001b[43m \u001b[49m\u001b[38;5;241;43m*\u001b[39;49m\u001b[38;5;241;43m*\u001b[39;49m\u001b[43mkwargs\u001b[49m\u001b[43m)\u001b[49m\n",
      "File \u001b[0;32m/opt/anaconda3/envs/pytorch2.0/lib/python3.11/site-packages/torch/nn/modules/module.py:1747\u001b[0m, in \u001b[0;36mModule._call_impl\u001b[0;34m(self, *args, **kwargs)\u001b[0m\n\u001b[1;32m   1742\u001b[0m \u001b[38;5;66;03m# If we don't have any hooks, we want to skip the rest of the logic in\u001b[39;00m\n\u001b[1;32m   1743\u001b[0m \u001b[38;5;66;03m# this function, and just call forward.\u001b[39;00m\n\u001b[1;32m   1744\u001b[0m \u001b[38;5;28;01mif\u001b[39;00m \u001b[38;5;129;01mnot\u001b[39;00m (\u001b[38;5;28mself\u001b[39m\u001b[38;5;241m.\u001b[39m_backward_hooks \u001b[38;5;129;01mor\u001b[39;00m \u001b[38;5;28mself\u001b[39m\u001b[38;5;241m.\u001b[39m_backward_pre_hooks \u001b[38;5;129;01mor\u001b[39;00m \u001b[38;5;28mself\u001b[39m\u001b[38;5;241m.\u001b[39m_forward_hooks \u001b[38;5;129;01mor\u001b[39;00m \u001b[38;5;28mself\u001b[39m\u001b[38;5;241m.\u001b[39m_forward_pre_hooks\n\u001b[1;32m   1745\u001b[0m         \u001b[38;5;129;01mor\u001b[39;00m _global_backward_pre_hooks \u001b[38;5;129;01mor\u001b[39;00m _global_backward_hooks\n\u001b[1;32m   1746\u001b[0m         \u001b[38;5;129;01mor\u001b[39;00m _global_forward_hooks \u001b[38;5;129;01mor\u001b[39;00m _global_forward_pre_hooks):\n\u001b[0;32m-> 1747\u001b[0m     \u001b[38;5;28;01mreturn\u001b[39;00m \u001b[43mforward_call\u001b[49m\u001b[43m(\u001b[49m\u001b[38;5;241;43m*\u001b[39;49m\u001b[43margs\u001b[49m\u001b[43m,\u001b[49m\u001b[43m \u001b[49m\u001b[38;5;241;43m*\u001b[39;49m\u001b[38;5;241;43m*\u001b[39;49m\u001b[43mkwargs\u001b[49m\u001b[43m)\u001b[49m\n\u001b[1;32m   1749\u001b[0m result \u001b[38;5;241m=\u001b[39m \u001b[38;5;28;01mNone\u001b[39;00m\n\u001b[1;32m   1750\u001b[0m called_always_called_hooks \u001b[38;5;241m=\u001b[39m \u001b[38;5;28mset\u001b[39m()\n",
      "Cell \u001b[0;32mIn[23], line 7\u001b[0m, in \u001b[0;36mRMSELoss.forward\u001b[0;34m(self, y_pred, y_true)\u001b[0m\n\u001b[1;32m      6\u001b[0m \u001b[38;5;28;01mdef\u001b[39;00m \u001b[38;5;21mforward\u001b[39m(\u001b[38;5;28mself\u001b[39m, y_pred, y_true):\n\u001b[0;32m----> 7\u001b[0m     \u001b[38;5;28;01mreturn\u001b[39;00m torch\u001b[38;5;241m.\u001b[39msqrt(\u001b[38;5;28;43mself\u001b[39;49m\u001b[38;5;241;43m.\u001b[39;49m\u001b[43mmse\u001b[49m\u001b[43m(\u001b[49m\u001b[43my_pred\u001b[49m\u001b[43m,\u001b[49m\u001b[43m \u001b[49m\u001b[43my_true\u001b[49m\u001b[43m)\u001b[49m)\n",
      "File \u001b[0;32m/opt/anaconda3/envs/pytorch2.0/lib/python3.11/site-packages/torch/nn/modules/module.py:1736\u001b[0m, in \u001b[0;36mModule._wrapped_call_impl\u001b[0;34m(self, *args, **kwargs)\u001b[0m\n\u001b[1;32m   1734\u001b[0m     \u001b[38;5;28;01mreturn\u001b[39;00m \u001b[38;5;28mself\u001b[39m\u001b[38;5;241m.\u001b[39m_compiled_call_impl(\u001b[38;5;241m*\u001b[39margs, \u001b[38;5;241m*\u001b[39m\u001b[38;5;241m*\u001b[39mkwargs)  \u001b[38;5;66;03m# type: ignore[misc]\u001b[39;00m\n\u001b[1;32m   1735\u001b[0m \u001b[38;5;28;01melse\u001b[39;00m:\n\u001b[0;32m-> 1736\u001b[0m     \u001b[38;5;28;01mreturn\u001b[39;00m \u001b[38;5;28;43mself\u001b[39;49m\u001b[38;5;241;43m.\u001b[39;49m\u001b[43m_call_impl\u001b[49m\u001b[43m(\u001b[49m\u001b[38;5;241;43m*\u001b[39;49m\u001b[43margs\u001b[49m\u001b[43m,\u001b[49m\u001b[43m \u001b[49m\u001b[38;5;241;43m*\u001b[39;49m\u001b[38;5;241;43m*\u001b[39;49m\u001b[43mkwargs\u001b[49m\u001b[43m)\u001b[49m\n",
      "File \u001b[0;32m/opt/anaconda3/envs/pytorch2.0/lib/python3.11/site-packages/torch/nn/modules/module.py:1747\u001b[0m, in \u001b[0;36mModule._call_impl\u001b[0;34m(self, *args, **kwargs)\u001b[0m\n\u001b[1;32m   1742\u001b[0m \u001b[38;5;66;03m# If we don't have any hooks, we want to skip the rest of the logic in\u001b[39;00m\n\u001b[1;32m   1743\u001b[0m \u001b[38;5;66;03m# this function, and just call forward.\u001b[39;00m\n\u001b[1;32m   1744\u001b[0m \u001b[38;5;28;01mif\u001b[39;00m \u001b[38;5;129;01mnot\u001b[39;00m (\u001b[38;5;28mself\u001b[39m\u001b[38;5;241m.\u001b[39m_backward_hooks \u001b[38;5;129;01mor\u001b[39;00m \u001b[38;5;28mself\u001b[39m\u001b[38;5;241m.\u001b[39m_backward_pre_hooks \u001b[38;5;129;01mor\u001b[39;00m \u001b[38;5;28mself\u001b[39m\u001b[38;5;241m.\u001b[39m_forward_hooks \u001b[38;5;129;01mor\u001b[39;00m \u001b[38;5;28mself\u001b[39m\u001b[38;5;241m.\u001b[39m_forward_pre_hooks\n\u001b[1;32m   1745\u001b[0m         \u001b[38;5;129;01mor\u001b[39;00m _global_backward_pre_hooks \u001b[38;5;129;01mor\u001b[39;00m _global_backward_hooks\n\u001b[1;32m   1746\u001b[0m         \u001b[38;5;129;01mor\u001b[39;00m _global_forward_hooks \u001b[38;5;129;01mor\u001b[39;00m _global_forward_pre_hooks):\n\u001b[0;32m-> 1747\u001b[0m     \u001b[38;5;28;01mreturn\u001b[39;00m \u001b[43mforward_call\u001b[49m\u001b[43m(\u001b[49m\u001b[38;5;241;43m*\u001b[39;49m\u001b[43margs\u001b[49m\u001b[43m,\u001b[49m\u001b[43m \u001b[49m\u001b[38;5;241;43m*\u001b[39;49m\u001b[38;5;241;43m*\u001b[39;49m\u001b[43mkwargs\u001b[49m\u001b[43m)\u001b[49m\n\u001b[1;32m   1749\u001b[0m result \u001b[38;5;241m=\u001b[39m \u001b[38;5;28;01mNone\u001b[39;00m\n\u001b[1;32m   1750\u001b[0m called_always_called_hooks \u001b[38;5;241m=\u001b[39m \u001b[38;5;28mset\u001b[39m()\n",
      "File \u001b[0;32m/opt/anaconda3/envs/pytorch2.0/lib/python3.11/site-packages/torch/nn/modules/loss.py:608\u001b[0m, in \u001b[0;36mMSELoss.forward\u001b[0;34m(self, input, target)\u001b[0m\n\u001b[1;32m    607\u001b[0m \u001b[38;5;28;01mdef\u001b[39;00m \u001b[38;5;21mforward\u001b[39m(\u001b[38;5;28mself\u001b[39m, \u001b[38;5;28minput\u001b[39m: Tensor, target: Tensor) \u001b[38;5;241m-\u001b[39m\u001b[38;5;241m>\u001b[39m Tensor:\n\u001b[0;32m--> 608\u001b[0m     \u001b[38;5;28;01mreturn\u001b[39;00m \u001b[43mF\u001b[49m\u001b[38;5;241;43m.\u001b[39;49m\u001b[43mmse_loss\u001b[49m\u001b[43m(\u001b[49m\u001b[38;5;28;43minput\u001b[39;49m\u001b[43m,\u001b[49m\u001b[43m \u001b[49m\u001b[43mtarget\u001b[49m\u001b[43m,\u001b[49m\u001b[43m \u001b[49m\u001b[43mreduction\u001b[49m\u001b[38;5;241;43m=\u001b[39;49m\u001b[38;5;28;43mself\u001b[39;49m\u001b[38;5;241;43m.\u001b[39;49m\u001b[43mreduction\u001b[49m\u001b[43m)\u001b[49m\n",
      "File \u001b[0;32m/opt/anaconda3/envs/pytorch2.0/lib/python3.11/site-packages/torch/nn/functional.py:3791\u001b[0m, in \u001b[0;36mmse_loss\u001b[0;34m(input, target, size_average, reduce, reduction)\u001b[0m\n\u001b[1;32m   3788\u001b[0m \u001b[38;5;28;01mif\u001b[39;00m size_average \u001b[38;5;129;01mis\u001b[39;00m \u001b[38;5;129;01mnot\u001b[39;00m \u001b[38;5;28;01mNone\u001b[39;00m \u001b[38;5;129;01mor\u001b[39;00m reduce \u001b[38;5;129;01mis\u001b[39;00m \u001b[38;5;129;01mnot\u001b[39;00m \u001b[38;5;28;01mNone\u001b[39;00m:\n\u001b[1;32m   3789\u001b[0m     reduction \u001b[38;5;241m=\u001b[39m _Reduction\u001b[38;5;241m.\u001b[39mlegacy_get_string(size_average, reduce)\n\u001b[0;32m-> 3791\u001b[0m expanded_input, expanded_target \u001b[38;5;241m=\u001b[39m \u001b[43mtorch\u001b[49m\u001b[38;5;241;43m.\u001b[39;49m\u001b[43mbroadcast_tensors\u001b[49m\u001b[43m(\u001b[49m\u001b[38;5;28;43minput\u001b[39;49m\u001b[43m,\u001b[49m\u001b[43m \u001b[49m\u001b[43mtarget\u001b[49m\u001b[43m)\u001b[49m\n\u001b[1;32m   3792\u001b[0m \u001b[38;5;28;01mreturn\u001b[39;00m torch\u001b[38;5;241m.\u001b[39m_C\u001b[38;5;241m.\u001b[39m_nn\u001b[38;5;241m.\u001b[39mmse_loss(\n\u001b[1;32m   3793\u001b[0m     expanded_input, expanded_target, _Reduction\u001b[38;5;241m.\u001b[39mget_enum(reduction)\n\u001b[1;32m   3794\u001b[0m )\n",
      "File \u001b[0;32m/opt/anaconda3/envs/pytorch2.0/lib/python3.11/site-packages/torch/functional.py:74\u001b[0m, in \u001b[0;36mbroadcast_tensors\u001b[0;34m(*tensors)\u001b[0m\n\u001b[1;32m     48\u001b[0m \u001b[38;5;250m\u001b[39m\u001b[38;5;124mr\u001b[39m\u001b[38;5;124;03m\"\"\"broadcast_tensors(*tensors) -> List of Tensors\u001b[39;00m\n\u001b[1;32m     49\u001b[0m \n\u001b[1;32m     50\u001b[0m \u001b[38;5;124;03mBroadcasts the given tensors according to :ref:`broadcasting-semantics`.\u001b[39;00m\n\u001b[0;32m   (...)\u001b[0m\n\u001b[1;32m     71\u001b[0m \u001b[38;5;124;03m            [0, 1, 2]])\u001b[39;00m\n\u001b[1;32m     72\u001b[0m \u001b[38;5;124;03m\"\"\"\u001b[39;00m\n\u001b[1;32m     73\u001b[0m \u001b[38;5;66;03m# This wrapper exists to support variadic args.\u001b[39;00m\n\u001b[0;32m---> 74\u001b[0m \u001b[38;5;28;01mif\u001b[39;00m has_torch_function(tensors):\n\u001b[1;32m     75\u001b[0m     \u001b[38;5;28;01mreturn\u001b[39;00m handle_torch_function(broadcast_tensors, tensors, \u001b[38;5;241m*\u001b[39mtensors)\n\u001b[1;32m     76\u001b[0m \u001b[38;5;28;01mreturn\u001b[39;00m _VF\u001b[38;5;241m.\u001b[39mbroadcast_tensors(tensors)\n",
      "\u001b[0;31mKeyboardInterrupt\u001b[0m: "
     ]
    }
   ],
   "source": [
    "import numpy as np\n",
    "best_val_loss = float('inf')\n",
    "training_loss = np.array([])\n",
    "validation_loss = np.array([])\n",
    "last_val_loss = float('inf')\n",
    "count = 0\n",
    "\n",
    "for n in range(NUMBER_OF_EPOCH):\n",
    "    model.train()\n",
    "    y_pred = model(X_train)[:, 0]\n",
    "    loss = loss_fn(y_pred, y_train)\n",
    "    training_loss = np.append(training_loss, loss.item())\n",
    "    optimizer.zero_grad()\n",
    "    loss.backward()\n",
    "    optimizer.step()\n",
    "    \n",
    "    model.eval()\n",
    "    y_pred = model(X_val)[:, 0]\n",
    "    val_loss = loss_fn(y_pred, y_val)\n",
    "    validation_loss = np.append(validation_loss, val_loss.item())\n",
    "    if val_loss < best_val_loss:\n",
    "        best_val_loss = val_loss\n",
    "        torch.save(model, 'mlp_model.pth')\n",
    "    \n",
    "    if n % 100 == 0:\n",
    "        print(f'Epoch: {n} Loss: {loss.item()}'f' Validation loss: {val_loss.item()}'f' best Validation loss: {best_val_loss}')\n",
    "        \n",
    "    if last_val_loss < val_loss:\n",
    "        count += 1\n",
    "        if count == 25:\n",
    "            break\n",
    "    else:\n",
    "        count = 0\n",
    "    last_val_loss = val_loss\n",
    "    "
   ]
  },
  {
   "cell_type": "code",
   "execution_count": null,
   "metadata": {},
   "outputs": [
    {
     "data": {
      "text/plain": [
       "<matplotlib.legend.Legend at 0x3138b8d50>"
      ]
     },
     "execution_count": 9,
     "metadata": {},
     "output_type": "execute_result"
    },
    {
     "data": {
      "image/png": "[encoded data removed]",
      "text/plain": [
       "<Figure size 640x480 with 1 Axes>"
      ]
     },
     "metadata": {},
     "output_type": "display_data"
    }
   ],
   "source": [
    "import matplotlib.pyplot as plt\n",
    "\n",
    "plt.plot(training_loss, label='Training Loss')\n",
    "plt.plot(validation_loss, label='Validation Loss')\n",
    "plt.legend(loc='best')"
   ]
  },
  {
   "cell_type": "code",
   "execution_count": null,
   "metadata": {},
   "outputs": [
    {
     "name": "stderr",
     "output_type": "stream",
     "text": [
      "/var/folders/64/cy9kvd894_bfkfb71dsbxt2w0000gn/T/ipykernel_90506/228361571.py:4: FutureWarning: You are using `torch.load` with `weights_only=False` (the current default value), which uses the default pickle module implicitly. It is possible to construct malicious pickle data which will execute arbitrary code during unpickling (See https://github.com/pytorch/pytorch/blob/main/SECURITY.md#untrusted-models for more details). In a future release, the default value for `weights_only` will be flipped to `True`. This limits the functions that could be executed during unpickling. Arbitrary objects will no longer be allowed to be loaded via this mode unless they are explicitly allowlisted by the user via `torch.serialization.add_safe_globals`. We recommend you start setting `weights_only=True` for any use case where you don't have full control of the loaded file. Please open an issue on GitHub for any issues related to this experimental feature.\n",
      "  model = torch.load('mlp_model.pth')\n"
     ]
    }
   ],
   "source": [
    "import pickle\n",
    "\n",
    "df = pd.read_csv('data/test.csv')\n",
    "model = torch.load('mlp_model.pth')\n",
    "model.eval()\n",
    "\n",
    "index = df['id']\n",
    "df = df.drop(['id'], axis=1)\n",
    "X = pre.encoder(df)\n",
    "X = pre.standardize(X, scaler=pickle.load(open('scaler.pkl', 'rb')))\n",
    "X = torch.tensor(X.values, dtype=torch.float32)\n",
    "y_pred = model(X)[:, 0]\n",
    "\n",
    "df = pd.DataFrame(y_pred.detach().numpy(), columns=['price'])\n",
    "df = pd.concat([index, df], axis=1)\n",
    "df.rename(columns={'price': 'answer'}, inplace=True)\n",
    "df.to_csv('output.csv', index=False)"
   ]
  }
 ],
 "metadata": {
  "kernelspec": {
   "display_name": "pytorch2.0",
   "language": "python",
   "name": "python3"
  },
  "language_info": {
   "codemirror_mode": {
    "name": "ipython",
    "version": 3
   },
   "file_extension": ".py",
   "mimetype": "text/x-python",
   "name": "python",
   "nbconvert_exporter": "python",
   "pygments_lexer": "ipython3",
   "version": "3.11.10"
  }
 },
 "nbformat": 4,
 "nbformat_minor": 2
}
