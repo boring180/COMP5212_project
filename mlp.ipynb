{
 "cells": [
  {
   "cell_type": "code",
   "execution_count": 684,
   "metadata": {},
   "outputs": [],
   "source": [
    "NUMBER_OF_EPOCH = 5000\n",
    "# num_of_categories = "
   ]
  },
  {
   "cell_type": "code",
   "execution_count": 685,
   "metadata": {},
   "outputs": [
    {
     "name": "stdout",
     "output_type": "stream",
     "text": [
      "tensor([1.], device='cuda:0')\n"
     ]
    }
   ],
   "source": [
    "import torch\n",
    "import torch.nn as nn\n",
    "import pandas as pd\n",
    "import math\n",
    "if torch.backends.mps.is_available():\n",
    "    mps_device = torch.device(\"mps\")\n",
    "    x = torch.ones(1, device=mps_device)\n",
    "    print (x)\n",
    "elif torch.backends.cuda.is_built():\n",
    "    mps_device = torch.device(\"cuda\")\n",
    "    x = torch.ones(1, device=mps_device)\n",
    "    print (x)\n",
    "else:\n",
    "    print (\"MPS device not found.\")\n",
    "    "
   ]
  },
  {
   "cell_type": "code",
   "execution_count": 686,
   "metadata": {},
   "outputs": [],
   "source": [
    "def prepare_model(df):\n",
    "    \n",
    "    # df = pre.standardize(df)\n",
    "    # df = pre.encoder(df)\n",
    "    # df = df.drop(['id'], axis=1)\n",
    "\n",
    "    from sklearn.model_selection import train_test_split\n",
    "    train, val = train_test_split(df, test_size=0.10)\n",
    "\n",
    "    y_train = torch.tensor(train['price'].values, dtype=torch.float32)\n",
    "    X_train = train.drop(['price'], axis=1)\n",
    "    X_train = torch.tensor(X_train.values, dtype=torch.float32)\n",
    "\n",
    "    y_val = torch.tensor(val['price'].values, dtype=torch.float32)\n",
    "    X_val = val.drop(['price'], axis=1)\n",
    "    X_val = torch.tensor(X_val.values, dtype=torch.float32)\n",
    "        \n",
    "    return X_train, y_train, X_val, y_val"
   ]
  },
  {
   "cell_type": "code",
   "execution_count": 687,
   "metadata": {},
   "outputs": [
    {
     "data": {
      "text/plain": [
       "mlp(\n",
       "  (layers): Sequential(\n",
       "    (0): Linear(in_features=8, out_features=1024, bias=True)\n",
       "    (1): ReLU()\n",
       "    (2): Linear(in_features=1024, out_features=64, bias=True)\n",
       "    (3): ReLU()\n",
       "    (4): Linear(in_features=64, out_features=32, bias=True)\n",
       "    (5): ReLU()\n",
       "    (6): Linear(in_features=32, out_features=4, bias=True)\n",
       "    (7): ReLU()\n",
       "    (8): Linear(in_features=4, out_features=1, bias=True)\n",
       "  )\n",
       "  (model_layer): Sequential(\n",
       "    (0): Linear(in_features=164, out_features=1, bias=True)\n",
       "    (1): ReLU()\n",
       "  )\n",
       "  (gear_box_layer): Sequential(\n",
       "    (0): Linear(in_features=3, out_features=1, bias=True)\n",
       "    (1): ReLU()\n",
       "  )\n",
       "  (fuel_type_layer): Sequential(\n",
       "    (0): Linear(in_features=4, out_features=1, bias=True)\n",
       "    (1): ReLU()\n",
       "  )\n",
       ")"
      ]
     },
     "execution_count": 687,
     "metadata": {},
     "output_type": "execute_result"
    }
   ],
   "source": [
    "# Define model\n",
    "class mlp(nn.Module):\n",
    "    def __init__(self):\n",
    "        super(mlp, self).__init__()\n",
    "        \n",
    "        self.layers = nn.Sequential(\n",
    "        nn.Linear(8, 1024),\n",
    "        nn.ReLU(), \n",
    "\n",
    "        nn.Linear(1024, 64),\n",
    "        nn.ReLU(), \n",
    "        \n",
    "        nn.Linear(64, 32),\n",
    "        nn.ReLU(),\n",
    "        \n",
    "        nn.Linear(32, 4),\n",
    "        nn.ReLU(),\n",
    "        \n",
    "        nn.Linear(4, 1)\n",
    "        )\n",
    "        \n",
    "        self.model_layer = nn.Sequential(\n",
    "        nn.Linear(164, 1),\n",
    "        nn.ReLU()\n",
    "        )\n",
    "        \n",
    "        self.gear_box_layer = nn.Sequential(\n",
    "        nn.Linear(3, 1),\n",
    "        nn.ReLU()\n",
    "        )\n",
    "        \n",
    "        self.fuel_type_layer = nn.Sequential( \n",
    "        nn.Linear(4, 1),\n",
    "        nn.ReLU()\n",
    "        )\n",
    "        \n",
    "    def forward(self, x):\n",
    "        # print(x.shape)\n",
    "        model = self.model_layer(x[:, 5:169])\n",
    "        gear_box = self.gear_box_layer(x[:, 169:172])\n",
    "        fuel_type = self.fuel_type_layer(x[:, 172:176])\n",
    "        \n",
    "        # registration_fee = self.registration_fee_layer(x[:, 156:164])\n",
    "        # engine_capacity = self.engine_capacity_layer(x[:, 164:174])\n",
    "        # operating_hours = x[:, 174].view(-1, 1)\n",
    "        # year = x[:, 175].view(-1, 1)\n",
    "        # efficiency = x[:, 176].view(-1, 1)\n",
    "\n",
    "        \n",
    "        # x = torch.cat((model, year, gear_box, operating_hours, fuel_type, registration_fee, efficiency, engine_capacity), 1)\n",
    "        \n",
    "        x = torch.cat((model, gear_box, fuel_type, x[:, :5]), 1)\n",
    "        \n",
    "        return self.layers(x)\n",
    "\n",
    "model = mlp()\n",
    "model"
   ]
  },
  {
   "cell_type": "code",
   "execution_count": 688,
   "metadata": {},
   "outputs": [],
   "source": [
    "class RMSELoss(nn.Module):\n",
    "    def __init__(self):\n",
    "        super(RMSELoss, self).__init__()\n",
    "        self.mse = nn.MSELoss()\n",
    "\n",
    "    def forward(self, y_pred, y_true):\n",
    "        return torch.sqrt(self.mse(y_pred, y_true))"
   ]
  },
  {
   "cell_type": "code",
   "execution_count": null,
   "metadata": {},
   "outputs": [],
   "source": []
  },
  {
   "cell_type": "code",
   "execution_count": 689,
   "metadata": {},
   "outputs": [],
   "source": [
    "loss_fn = RMSELoss()\n",
    "optimizer = torch.optim.Adam(model.parameters(), lr=1e-3, weight_decay=1e-3)"
   ]
  },
  {
   "cell_type": "code",
   "execution_count": 690,
   "metadata": {},
   "outputs": [
    {
     "name": "stdout",
     "output_type": "stream",
     "text": [
      "torch.Size([8910, 176]) torch.Size([8910]) torch.Size([990, 176]) torch.Size([990])\n"
     ]
    }
   ],
   "source": [
    "df = pd.read_csv('data/train.csv')\n",
    "X_train, y_train, X_val, y_val = prepare_model(df)\n",
    "print(X_train.shape, y_train.shape, X_val.shape, y_val.shape)"
   ]
  },
  {
   "cell_type": "code",
   "execution_count": 691,
   "metadata": {},
   "outputs": [
    {
     "name": "stdout",
     "output_type": "stream",
     "text": [
      "Epoch: 0 Training loss:  19161.673828125 Validation loss: 18670.85546875 best Validation loss: 18670.85546875\n",
      "Epoch: 100 Training loss:  18203.875 Validation loss: 17722.126953125 best Validation loss: 17722.126953125\n",
      "Epoch: 200 Training loss:  5437.90771484375 Validation loss: 4707.96337890625 best Validation loss: 4707.96337890625\n",
      "Epoch: 300 Training loss:  4312.248046875 Validation loss: 3629.704833984375 best Validation loss: 3629.704833984375\n",
      "Epoch: 400 Training loss:  3688.150634765625 Validation loss: 3010.062744140625 best Validation loss: 3010.062744140625\n",
      "Epoch: 500 Training loss:  3214.71728515625 Validation loss: 2601.906982421875 best Validation loss: 2601.906982421875\n",
      "Epoch: 600 Training loss:  2853.19677734375 Validation loss: 2336.723876953125 best Validation loss: 2336.723876953125\n",
      "Epoch: 700 Training loss:  2680.368408203125 Validation loss: 2208.45654296875 best Validation loss: 2208.45654296875\n",
      "Epoch: 800 Training loss:  2589.994140625 Validation loss: 2154.16015625 best Validation loss: 2154.16015625\n",
      "Epoch: 900 Training loss:  2533.680419921875 Validation loss: 2121.69287109375 best Validation loss: 2121.69287109375\n",
      "Epoch: 1000 Training loss:  2495.9150390625 Validation loss: 2103.875244140625 best Validation loss: 2102.8974609375\n",
      "Epoch: 1100 Training loss:  2469.966796875 Validation loss: 2092.373779296875 best Validation loss: 2092.31103515625\n",
      "Epoch: 1200 Training loss:  2451.42626953125 Validation loss: 2086.7177734375 best Validation loss: 2084.951171875\n",
      "Epoch: 1300 Training loss:  2436.28955078125 Validation loss: 2081.87939453125 best Validation loss: 2081.633056640625\n",
      "Epoch: 1400 Training loss:  2423.387939453125 Validation loss: 2078.3466796875 best Validation loss: 2078.038818359375\n",
      "Epoch: 1500 Training loss:  2411.8515625 Validation loss: 2074.85888671875 best Validation loss: 2074.377685546875\n",
      "Epoch: 1600 Training loss:  2400.85595703125 Validation loss: 2070.156005859375 best Validation loss: 2069.65087890625\n",
      "Epoch: 1700 Training loss:  2390.12353515625 Validation loss: 2067.037841796875 best Validation loss: 2065.104736328125\n",
      "Epoch: 1800 Training loss:  2379.217529296875 Validation loss: 2064.620849609375 best Validation loss: 2063.336669921875\n",
      "Epoch: 1900 Training loss:  2368.70458984375 Validation loss: 2063.369140625 best Validation loss: 2062.392578125\n",
      "Epoch: 2000 Training loss:  2358.321044921875 Validation loss: 2062.726806640625 best Validation loss: 2061.22802734375\n",
      "Epoch: 2100 Training loss:  2349.60498046875 Validation loss: 2064.658203125 best Validation loss: 2059.101318359375\n",
      "Epoch: 2200 Training loss:  2338.5029296875 Validation loss: 2060.49267578125 best Validation loss: 2059.101318359375\n",
      "Epoch: 2300 Training loss:  2329.921630859375 Validation loss: 2062.17578125 best Validation loss: 2056.89990234375\n",
      "Epoch: 2400 Training loss:  2319.5322265625 Validation loss: 2056.2783203125 best Validation loss: 2055.250244140625\n",
      "Epoch: 2500 Training loss:  2311.100830078125 Validation loss: 2058.56298828125 best Validation loss: 2054.0625\n",
      "Epoch: 2600 Training loss:  2300.690673828125 Validation loss: 2055.06640625 best Validation loss: 2053.835693359375\n",
      "Epoch: 2700 Training loss:  2292.417236328125 Validation loss: 2058.04833984375 best Validation loss: 2053.835693359375\n",
      "Epoch: 2800 Training loss:  2283.377197265625 Validation loss: 2055.479736328125 best Validation loss: 2053.835693359375\n",
      "Epoch: 2900 Training loss:  2275.427734375 Validation loss: 2055.726318359375 best Validation loss: 2053.835693359375\n",
      "Epoch: 3000 Training loss:  2265.907470703125 Validation loss: 2059.144287109375 best Validation loss: 2053.835693359375\n",
      "Epoch: 3100 Training loss:  2257.033935546875 Validation loss: 2059.03564453125 best Validation loss: 2053.835693359375\n",
      "Epoch: 3200 Training loss:  2248.80029296875 Validation loss: 2057.932861328125 best Validation loss: 2053.835693359375\n",
      "Epoch: 3300 Training loss:  2241.815673828125 Validation loss: 2063.727294921875 best Validation loss: 2053.835693359375\n",
      "Epoch: 3400 Training loss:  2235.56884765625 Validation loss: 2062.2744140625 best Validation loss: 2053.835693359375\n",
      "Epoch: 3500 Training loss:  2226.392578125 Validation loss: 2064.834228515625 best Validation loss: 2053.835693359375\n",
      "Epoch: 3600 Training loss:  2217.463134765625 Validation loss: 2067.715576171875 best Validation loss: 2053.835693359375\n",
      "Epoch: 3700 Training loss:  2209.319091796875 Validation loss: 2067.1328125 best Validation loss: 2053.835693359375\n",
      "Epoch: 3800 Training loss:  2201.58154296875 Validation loss: 2066.333984375 best Validation loss: 2053.835693359375\n",
      "Epoch: 3900 Training loss:  2196.54248046875 Validation loss: 2066.580078125 best Validation loss: 2053.835693359375\n",
      "Epoch: 4000 Training loss:  2187.002197265625 Validation loss: 2067.85791015625 best Validation loss: 2053.835693359375\n",
      "Epoch: 4100 Training loss:  2179.1005859375 Validation loss: 2069.8095703125 best Validation loss: 2053.835693359375\n",
      "Epoch: 4200 Training loss:  2172.227783203125 Validation loss: 2070.845458984375 best Validation loss: 2053.835693359375\n",
      "Epoch: 4300 Training loss:  2166.33935546875 Validation loss: 2076.42529296875 best Validation loss: 2053.835693359375\n",
      "Epoch: 4400 Training loss:  2157.8828125 Validation loss: 2075.50732421875 best Validation loss: 2053.835693359375\n",
      "Epoch: 4500 Training loss:  2151.025634765625 Validation loss: 2077.123046875 best Validation loss: 2053.835693359375\n",
      "Epoch: 4600 Training loss:  2147.620849609375 Validation loss: 2082.948486328125 best Validation loss: 2053.835693359375\n",
      "Epoch: 4700 Training loss:  2140.281494140625 Validation loss: 2081.61181640625 best Validation loss: 2053.835693359375\n",
      "Epoch: 4800 Training loss:  2135.657958984375 Validation loss: 2086.05322265625 best Validation loss: 2053.835693359375\n",
      "Epoch: 4900 Training loss:  2124.801513671875 Validation loss: 2085.201171875 best Validation loss: 2053.835693359375\n"
     ]
    }
   ],
   "source": [
    "import numpy as np \n",
    "best_val_loss = float('inf')\n",
    "training_loss = np.array([])\n",
    "validation_loss = np.array([])\n",
    "last_val_loss = float('inf')\n",
    "count = 0\n",
    "\n",
    "\n",
    "for n in range(NUMBER_OF_EPOCH):\n",
    "    model.train()\n",
    "    y_pred = model(X_train)[:, 0]\n",
    "    loss = loss_fn(y_pred, y_train)\n",
    "    optimizer.zero_grad()\n",
    "    loss.backward()\n",
    "    optimizer.step()\n",
    "    \n",
    "    model.eval()\n",
    "    y_pred = model(X_val)[:, 0]\n",
    "    val_loss = loss_fn(y_pred, y_val).item()\n",
    "    validation_loss = np.append(validation_loss, val_loss)\n",
    "\n",
    "    if val_loss < best_val_loss:\n",
    "        best_val_loss = val_loss\n",
    "        torch.save(model, 'mlp_model.pth')\n",
    "        \n",
    "    y_pred = model(X_train)[:, 0]\n",
    "    training_loss_eval = loss_fn(y_pred, y_train).item()\n",
    "    training_loss = np.append(training_loss, training_loss_eval)\n",
    "    \n",
    "    if n % 100 == 0:\n",
    "        print(f'Epoch: {n} Training loss:  {training_loss_eval}'f' Validation loss: {val_loss}'f' best Validation loss: {best_val_loss}')\n",
    "        \n",
    "    if last_val_loss < val_loss:\n",
    "        count += 1\n",
    "        if count == 25:\n",
    "            break\n",
    "    else:\n",
    "        count = 0\n",
    "    last_val_loss = val_loss"
   ]
  },
  {
   "cell_type": "code",
   "execution_count": 692,
   "metadata": {},
   "outputs": [
    {
     "data": {
      "text/plain": [
       "<matplotlib.legend.Legend at 0x7f52f13c6280>"
      ]
     },
     "execution_count": 692,
     "metadata": {},
     "output_type": "execute_result"
    },
    {
     "data": {
      "image/png": "[encoded data removed]",
      "text/plain": [
       "<Figure size 640x480 with 1 Axes>"
      ]
     },
     "metadata": {},
     "output_type": "display_data"
    }
   ],
   "source": [
    "import matplotlib.pyplot as plt\n",
    "\n",
    "plt.plot(training_loss, label='Training Loss')\n",
    "plt.plot(validation_loss, label='Validation Loss')\n",
    "plt.legend(loc='best')"
   ]
  },
  {
   "cell_type": "code",
   "execution_count": 693,
   "metadata": {},
   "outputs": [
    {
     "name": "stdout",
     "output_type": "stream",
     "text": [
      "Loss: 2752.245361328125\n"
     ]
    }
   ],
   "source": [
    "df = pd.read_csv('data/test.csv')\n",
    "model = torch.load('mlp_model.pth', weights_only=False)\n",
    "model.eval()\n",
    "256\n",
    "index = df['id']\n",
    "X = df.drop(['id'], axis=1)\n",
    "X = torch.tensor(X.values, dtype=torch.float32)\n",
    "y_pred = model(X)[:, 0]\n",
    "\n",
    "df = pd.DataFrame(y_pred.detach().numpy(), columns=['price'])\n",
    "df = pd.concat([index, df], axis=1)\n",
    "df.rename(columns={'price': 'answer'}, inplace=True)\n",
    "df.to_csv('output.csv', index=False)\n",
    "\n",
    "df = pd.read_csv('data/train_with_outliers.csv')\n",
    "X = df.drop(['price'], axis=1)\n",
    "X = torch.tensor(X.values, dtype=torch.float32)\n",
    "y = df['price'].values\n",
    "y_pred = model(X)[:, 0]\n",
    "loss = loss_fn(y_pred, torch.tensor(y, dtype=torch.float32)).item()\n",
    "print(f'Loss: {loss}')"
   ]
  }
 ],
 "metadata": {
  "kernelspec": {
   "display_name": "COMP5212",
   "language": "python",
   "name": "python3"
  },
  "language_info": {
   "codemirror_mode": {
    "name": "ipython",
    "version": 3
   },
   "file_extension": ".py",
   "mimetype": "text/x-python",
   "name": "python",
   "nbconvert_exporter": "python",
   "pygments_lexer": "ipython3",
   "version": "3.9.20"
  }
 },
 "nbformat": 4,
 "nbformat_minor": 2
}
