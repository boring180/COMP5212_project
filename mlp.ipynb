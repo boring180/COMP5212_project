{
 "cells": [
  {
   "cell_type": "code",
   "execution_count": 42,
   "metadata": {},
   "outputs": [],
   "source": [
    "NUMBER_OF_EPOCH = 50000\n",
    "# num_of_categories = "
   ]
  },
  {
   "cell_type": "code",
   "execution_count": 43,
   "metadata": {},
   "outputs": [
    {
     "name": "stdout",
     "output_type": "stream",
     "text": [
      "tensor([1.], device='mps:0')\n"
     ]
    }
   ],
   "source": [
    "import torch\n",
    "import torch.nn as nn\n",
    "import pandas as pd\n",
    "import preprossesing as pre\n",
    "import math\n",
    "if torch.backends.mps.is_available():\n",
    "    mps_device = torch.device(\"mps\")\n",
    "    x = torch.ones(1, device=mps_device)\n",
    "    print (x)\n",
    "else:\n",
    "    print (\"MPS device not found.\")\n",
    "    "
   ]
  },
  {
   "cell_type": "code",
   "execution_count": 44,
   "metadata": {},
   "outputs": [],
   "source": [
    "def prepare_model(df):\n",
    "    \n",
    "    df = pre.standardize(df)\n",
    "    df = pre.encoder(df)\n",
    "    df = df.drop(['id'], axis=1)\n",
    "\n",
    "    train, val = pre.test_validation_split(df)\n",
    "    \n",
    "    y_train = torch.tensor(train['price'].values, dtype=torch.float32)\n",
    "    X_train = train.drop(['price'], axis=1)\n",
    "    X_train = torch.tensor(X_train.values, dtype=torch.float32)\n",
    "    \n",
    "    y_val = torch.tensor(val['price'].values, dtype=torch.float32)\n",
    "    X_val = val.drop(['price'], axis=1)\n",
    "    X_val = torch.tensor(X_val.values, dtype=torch.float32)\n",
    "    \n",
    "    return X_train, y_train, X_val, y_val"
   ]
  },
  {
   "cell_type": "code",
   "execution_count": 45,
   "metadata": {},
   "outputs": [
    {
     "data": {
      "text/plain": [
       "mlp(\n",
       "  (layers): Sequential(\n",
       "    (0): Linear(in_features=8, out_features=256, bias=True)\n",
       "    (1): ReLU()\n",
       "    (2): Linear(in_features=256, out_features=128, bias=True)\n",
       "    (3): ReLU()\n",
       "    (4): Linear(in_features=128, out_features=64, bias=True)\n",
       "    (5): ReLU()\n",
       "    (6): Linear(in_features=64, out_features=32, bias=True)\n",
       "    (7): ReLU()\n",
       "    (8): Linear(in_features=32, out_features=1, bias=True)\n",
       "  )\n",
       "  (model_layer): Sequential(\n",
       "    (0): Linear(in_features=137, out_features=1, bias=True)\n",
       "    (1): ReLU()\n",
       "  )\n",
       "  (gear_box_layer): Sequential(\n",
       "    (0): Linear(in_features=3, out_features=1, bias=True)\n",
       "    (1): ReLU()\n",
       "  )\n",
       "  (fuel_type_layer): Sequential(\n",
       "    (0): Linear(in_features=4, out_features=1, bias=True)\n",
       "    (1): ReLU()\n",
       "  )\n",
       "  (registration_fee_layer): Sequential(\n",
       "    (0): Linear(in_features=6, out_features=1, bias=True)\n",
       "    (1): ReLU()\n",
       "  )\n",
       "  (engine_capacity_layer): Sequential(\n",
       "    (0): Linear(in_features=8, out_features=1, bias=True)\n",
       "    (1): ReLU()\n",
       "  )\n",
       ")"
      ]
     },
     "execution_count": 45,
     "metadata": {},
     "output_type": "execute_result"
    }
   ],
   "source": [
    "# Define model\n",
    "class mlp(nn.Module):\n",
    "    def __init__(self):\n",
    "        super(mlp, self).__init__()\n",
    "        \n",
    "        self.layers = nn.Sequential(\n",
    "        nn.Linear(8, 256),\n",
    "        nn.ReLU(), \n",
    "        \n",
    "        nn.Linear(256, 128),\n",
    "        nn.ReLU(), \n",
    "        \n",
    "        nn.Linear(128, 64),\n",
    "        nn.ReLU(), \n",
    "        \n",
    "        nn.Linear(64, 32),\n",
    "        nn.ReLU(), \n",
    "        \n",
    "        nn.Linear(32, 1) \n",
    "        )\n",
    "        \n",
    "        self.model_layer = nn.Sequential(\n",
    "        nn.Linear(137, 1),\n",
    "        nn.ReLU()\n",
    "        )\n",
    "        \n",
    "        self.gear_box_layer = nn.Sequential(\n",
    "        nn.Linear(3, 1),\n",
    "        nn.ReLU()\n",
    "        )\n",
    "        \n",
    "        self.fuel_type_layer = nn.Sequential( \n",
    "        nn.Linear(4, 1),\n",
    "        nn.ReLU()\n",
    "        )\n",
    "        \n",
    "        self.registration_fee_layer = nn.Sequential(\n",
    "        nn.Linear(6, 1),\n",
    "        nn.ReLU()\n",
    "        )\n",
    "        \n",
    "        self.engine_capacity_layer = nn.Sequential(\n",
    "        nn.Linear(8, 1),\n",
    "        nn.ReLU()\n",
    "        )\n",
    "    \n",
    "        \n",
    "    def forward(self, x):\n",
    "        model = self.model_layer(x[:, :137])\n",
    "        gear_box = self.gear_box_layer(x[:, 137:140])\n",
    "        fuel_type = self.fuel_type_layer(x[:, 140:144])\n",
    "        registration_fee = self.registration_fee_layer(x[:, 144:150])\n",
    "        engine_capacity = self.engine_capacity_layer(x[:, 150:158])\n",
    "        operating_hours = x[:, 158].view(-1, 1)\n",
    "        year = x[:, 159].view(-1, 1)\n",
    "        efficiency = x[:, 160].view(-1, 1)\n",
    "\n",
    "        \n",
    "        x = torch.cat((model, year, gear_box, operating_hours, fuel_type, registration_fee, efficiency, engine_capacity), 1)\n",
    "        \n",
    "        return self.layers(x)\n",
    "\n",
    "model = mlp()\n",
    "model"
   ]
  },
  {
   "cell_type": "code",
   "execution_count": 46,
   "metadata": {},
   "outputs": [],
   "source": [
    "class RMSELoss(nn.Module):\n",
    "    def __init__(self):\n",
    "        super(RMSELoss, self).__init__()\n",
    "        self.mse = nn.MSELoss()\n",
    "\n",
    "    def forward(self, y_pred, y_true):\n",
    "        return torch.sqrt(self.mse(y_pred, y_true))"
   ]
  },
  {
   "cell_type": "code",
   "execution_count": 47,
   "metadata": {},
   "outputs": [],
   "source": [
    "loss_fn = RMSELoss()\n",
    "optimizer = torch.optim.Adam(model.parameters(), lr=1e-3)"
   ]
  },
  {
   "cell_type": "code",
   "execution_count": 48,
   "metadata": {},
   "outputs": [
    {
     "name": "stdout",
     "output_type": "stream",
     "text": [
      "torch.Size([8100, 164]) torch.Size([8100]) torch.Size([900, 164]) torch.Size([900])\n"
     ]
    }
   ],
   "source": [
    "df = pd.read_csv('data/train.csv')\n",
    "X_train, y_train, X_val, y_val = prepare_model(df)\n",
    "print(X_train.shape, y_train.shape, X_val.shape, y_val.shape)"
   ]
  },
  {
   "cell_type": "code",
   "execution_count": 49,
   "metadata": {},
   "outputs": [
    {
     "name": "stdout",
     "output_type": "stream",
     "text": [
      "Epoch: 0 Loss: 17579.6640625 Validation loss: 17613.798828125 best Validation loss: 17613.798828125\n",
      "Epoch: 100 Loss: 16542.26953125 Validation loss: 16517.12890625 best Validation loss: 16517.12890625\n",
      "Epoch: 200 Loss: 5731.60888671875 Validation loss: 5834.8291015625 best Validation loss: 5834.8291015625\n",
      "Epoch: 300 Loss: 3533.74169921875 Validation loss: 3631.673583984375 best Validation loss: 3631.673583984375\n",
      "Epoch: 400 Loss: 2609.904296875 Validation loss: 2692.227294921875 best Validation loss: 2692.227294921875\n",
      "Epoch: 500 Loss: 2360.77001953125 Validation loss: 2442.94775390625 best Validation loss: 2442.94775390625\n",
      "Epoch: 600 Loss: 2226.771240234375 Validation loss: 2321.1845703125 best Validation loss: 2321.1845703125\n",
      "Epoch: 700 Loss: 2153.609619140625 Validation loss: 2263.776123046875 best Validation loss: 2263.776123046875\n",
      "Epoch: 800 Loss: 2113.60009765625 Validation loss: 2231.437255859375 best Validation loss: 2231.437255859375\n",
      "Epoch: 900 Loss: 2089.00244140625 Validation loss: 2213.183349609375 best Validation loss: 2213.183349609375\n",
      "Epoch: 1000 Loss: 2072.41162109375 Validation loss: 2203.061279296875 best Validation loss: 2203.061279296875\n",
      "Epoch: 1100 Loss: 2059.635009765625 Validation loss: 2198.138427734375 best Validation loss: 2198.138427734375\n",
      "Epoch: 1200 Loss: 2049.90087890625 Validation loss: 2194.775634765625 best Validation loss: 2194.775634765625\n",
      "Epoch: 1300 Loss: 2042.9495849609375 Validation loss: 2192.738525390625 best Validation loss: 2192.738525390625\n",
      "Epoch: 1400 Loss: 2037.5379638671875 Validation loss: 2190.68603515625 best Validation loss: 2190.68603515625\n",
      "Epoch: 1500 Loss: 2033.3341064453125 Validation loss: 2189.44287109375 best Validation loss: 2189.44287109375\n",
      "Epoch: 1600 Loss: 2029.6923828125 Validation loss: 2188.240478515625 best Validation loss: 2188.231201171875\n",
      "Epoch: 1700 Loss: 2026.631103515625 Validation loss: 2187.58349609375 best Validation loss: 2187.581298828125\n",
      "Epoch: 1800 Loss: 2023.9283447265625 Validation loss: 2187.558349609375 best Validation loss: 2187.311767578125\n",
      "Epoch: 1900 Loss: 2021.3895263671875 Validation loss: 2187.4501953125 best Validation loss: 2187.311767578125\n",
      "Epoch: 2000 Loss: 2018.90771484375 Validation loss: 2187.661865234375 best Validation loss: 2187.11083984375\n",
      "Epoch: 2100 Loss: 2016.611083984375 Validation loss: 2187.358642578125 best Validation loss: 2187.11083984375\n",
      "Epoch: 2200 Loss: 2014.2222900390625 Validation loss: 2186.66064453125 best Validation loss: 2186.66064453125\n",
      "Epoch: 2300 Loss: 2011.7720947265625 Validation loss: 2186.243408203125 best Validation loss: 2186.2255859375\n",
      "Epoch: 2400 Loss: 2009.5052490234375 Validation loss: 2185.272705078125 best Validation loss: 2185.272705078125\n",
      "Epoch: 2500 Loss: 2007.5987548828125 Validation loss: 2184.427001953125 best Validation loss: 2184.427001953125\n",
      "Epoch: 2600 Loss: 2005.6937255859375 Validation loss: 2181.984619140625 best Validation loss: 2181.984619140625\n",
      "Epoch: 2700 Loss: 2004.1375732421875 Validation loss: 2180.34326171875 best Validation loss: 2180.333251953125\n",
      "Epoch: 2800 Loss: 2002.89697265625 Validation loss: 2178.978515625 best Validation loss: 2178.978515625\n",
      "Epoch: 2900 Loss: 2001.5106201171875 Validation loss: 2177.21630859375 best Validation loss: 2177.21630859375\n",
      "Epoch: 3000 Loss: 2000.2076416015625 Validation loss: 2176.666259765625 best Validation loss: 2176.6083984375\n",
      "Epoch: 3100 Loss: 1998.9156494140625 Validation loss: 2175.63037109375 best Validation loss: 2175.62060546875\n",
      "Epoch: 3200 Loss: 1997.85888671875 Validation loss: 2174.73828125 best Validation loss: 2174.73828125\n",
      "Epoch: 3300 Loss: 1996.9716796875 Validation loss: 2173.7978515625 best Validation loss: 2173.79443359375\n",
      "Epoch: 3400 Loss: 1996.1668701171875 Validation loss: 2173.1611328125 best Validation loss: 2173.1611328125\n",
      "Epoch: 3500 Loss: 1995.1268310546875 Validation loss: 2170.1630859375 best Validation loss: 2170.0869140625\n",
      "Epoch: 3600 Loss: 1993.9967041015625 Validation loss: 2170.232421875 best Validation loss: 2170.065185546875\n",
      "Epoch: 3700 Loss: 1993.2357177734375 Validation loss: 2169.6435546875 best Validation loss: 2169.5244140625\n",
      "Epoch: 3800 Loss: 1992.4881591796875 Validation loss: 2168.478759765625 best Validation loss: 2168.478759765625\n",
      "Epoch: 3900 Loss: 1991.97314453125 Validation loss: 2167.904296875 best Validation loss: 2167.891357421875\n",
      "Epoch: 4000 Loss: 1991.486083984375 Validation loss: 2167.21484375 best Validation loss: 2167.20361328125\n",
      "Epoch: 4100 Loss: 1990.6409912109375 Validation loss: 2165.885009765625 best Validation loss: 2165.712890625\n",
      "Epoch: 4200 Loss: 1990.099853515625 Validation loss: 2164.93115234375 best Validation loss: 2164.93115234375\n",
      "Epoch: 4300 Loss: 1989.462158203125 Validation loss: 2163.399169921875 best Validation loss: 2163.369140625\n",
      "Epoch: 4400 Loss: 1988.9476318359375 Validation loss: 2162.473388671875 best Validation loss: 2162.4453125\n",
      "Epoch: 4500 Loss: 1988.4151611328125 Validation loss: 2161.305419921875 best Validation loss: 2161.305419921875\n",
      "Epoch: 4600 Loss: 1987.927490234375 Validation loss: 2160.022705078125 best Validation loss: 2160.022705078125\n",
      "Epoch: 4700 Loss: 1987.4693603515625 Validation loss: 2158.189453125 best Validation loss: 2158.189453125\n",
      "Epoch: 4800 Loss: 1987.1168212890625 Validation loss: 2156.952880859375 best Validation loss: 2156.947998046875\n",
      "Epoch: 4900 Loss: 1986.739013671875 Validation loss: 2155.9384765625 best Validation loss: 2155.9384765625\n",
      "Epoch: 5000 Loss: 1986.389892578125 Validation loss: 2155.1357421875 best Validation loss: 2155.052978515625\n",
      "Epoch: 5100 Loss: 1986.0267333984375 Validation loss: 2154.16259765625 best Validation loss: 2154.1591796875\n",
      "Epoch: 5200 Loss: 1985.723876953125 Validation loss: 2153.32763671875 best Validation loss: 2153.32763671875\n",
      "Epoch: 5300 Loss: 1985.42138671875 Validation loss: 2152.26123046875 best Validation loss: 2152.254150390625\n",
      "Epoch: 5400 Loss: 1985.162109375 Validation loss: 2151.23095703125 best Validation loss: 2151.23095703125\n",
      "Epoch: 5500 Loss: 1984.90087890625 Validation loss: 2150.40966796875 best Validation loss: 2150.3369140625\n",
      "Epoch: 5600 Loss: 1984.5638427734375 Validation loss: 2149.37548828125 best Validation loss: 2149.320556640625\n",
      "Epoch: 5700 Loss: 1984.219482421875 Validation loss: 2148.330078125 best Validation loss: 2148.330078125\n",
      "Epoch: 5800 Loss: 1983.933349609375 Validation loss: 2147.001953125 best Validation loss: 2147.001953125\n",
      "Epoch: 5900 Loss: 1983.631591796875 Validation loss: 2145.59326171875 best Validation loss: 2145.59326171875\n",
      "Epoch: 6000 Loss: 1983.328125 Validation loss: 2144.293212890625 best Validation loss: 2144.270263671875\n",
      "Epoch: 6100 Loss: 1983.064208984375 Validation loss: 2142.89306640625 best Validation loss: 2142.89306640625\n",
      "Epoch: 6200 Loss: 1982.7572021484375 Validation loss: 2141.606689453125 best Validation loss: 2141.580322265625\n",
      "Epoch: 6300 Loss: 1982.5504150390625 Validation loss: 2140.053955078125 best Validation loss: 2140.053955078125\n",
      "Epoch: 6400 Loss: 1982.2293701171875 Validation loss: 2138.338134765625 best Validation loss: 2138.313232421875\n",
      "Epoch: 6500 Loss: 1981.9503173828125 Validation loss: 2136.8935546875 best Validation loss: 2136.8935546875\n",
      "Epoch: 6600 Loss: 1981.7247314453125 Validation loss: 2135.636474609375 best Validation loss: 2135.54345703125\n",
      "Epoch: 6700 Loss: 1981.4361572265625 Validation loss: 2134.28271484375 best Validation loss: 2134.28271484375\n",
      "Epoch: 6800 Loss: 1981.2191162109375 Validation loss: 2133.0673828125 best Validation loss: 2133.0673828125\n",
      "Epoch: 6900 Loss: 1980.924072265625 Validation loss: 2131.754150390625 best Validation loss: 2131.754150390625\n",
      "Epoch: 7000 Loss: 1980.6453857421875 Validation loss: 2130.3388671875 best Validation loss: 2130.2822265625\n",
      "Epoch: 7100 Loss: 1980.4287109375 Validation loss: 2128.934814453125 best Validation loss: 2128.934814453125\n",
      "Epoch: 7200 Loss: 1980.142333984375 Validation loss: 2127.467041015625 best Validation loss: 2127.467041015625\n",
      "Epoch: 7300 Loss: 1979.8660888671875 Validation loss: 2126.207763671875 best Validation loss: 2126.184814453125\n",
      "Epoch: 7400 Loss: 1979.6595458984375 Validation loss: 2124.98828125 best Validation loss: 2124.9072265625\n",
      "Epoch: 7500 Loss: 1979.4493408203125 Validation loss: 2123.94873046875 best Validation loss: 2123.881591796875\n",
      "Epoch: 7600 Loss: 1979.22900390625 Validation loss: 2122.87109375 best Validation loss: 2122.747314453125\n",
      "Epoch: 7700 Loss: 1978.7603759765625 Validation loss: 2121.553955078125 best Validation loss: 2121.511962890625\n",
      "Epoch: 7800 Loss: 1978.181884765625 Validation loss: 2120.5068359375 best Validation loss: 2120.490478515625\n",
      "Epoch: 7900 Loss: 1977.470458984375 Validation loss: 2119.573486328125 best Validation loss: 2119.52587890625\n",
      "Epoch: 8000 Loss: 1976.7008056640625 Validation loss: 2118.34375 best Validation loss: 2118.34375\n",
      "Epoch: 8100 Loss: 1975.9100341796875 Validation loss: 2117.539306640625 best Validation loss: 2117.502685546875\n",
      "Epoch: 8200 Loss: 1974.9344482421875 Validation loss: 2116.774658203125 best Validation loss: 2116.774658203125\n",
      "Epoch: 8300 Loss: 1974.146240234375 Validation loss: 2115.92333984375 best Validation loss: 2115.914794921875\n",
      "Epoch: 8400 Loss: 1973.21484375 Validation loss: 2114.986083984375 best Validation loss: 2114.986083984375\n",
      "Epoch: 8500 Loss: 1972.4732666015625 Validation loss: 2114.181640625 best Validation loss: 2114.181640625\n",
      "Epoch: 8600 Loss: 1971.60693359375 Validation loss: 2113.551513671875 best Validation loss: 2113.450927734375\n",
      "Epoch: 8700 Loss: 1970.6351318359375 Validation loss: 2113.607177734375 best Validation loss: 2113.11962890625\n",
      "Epoch: 8800 Loss: 1969.697509765625 Validation loss: 2113.400146484375 best Validation loss: 2113.06787109375\n",
      "Epoch: 8900 Loss: 1969.0167236328125 Validation loss: 2112.228271484375 best Validation loss: 2111.977294921875\n",
      "Epoch: 9000 Loss: 1967.7188720703125 Validation loss: 2110.439208984375 best Validation loss: 2110.439208984375\n",
      "Epoch: 9100 Loss: 1966.5394287109375 Validation loss: 2110.41796875 best Validation loss: 2110.1611328125\n",
      "Epoch: 9200 Loss: 1965.4498291015625 Validation loss: 2109.016357421875 best Validation loss: 2109.016357421875\n",
      "Epoch: 9300 Loss: 1964.1904296875 Validation loss: 2107.7314453125 best Validation loss: 2107.7314453125\n",
      "Epoch: 9400 Loss: 1962.8997802734375 Validation loss: 2107.16357421875 best Validation loss: 2106.945068359375\n",
      "Epoch: 9500 Loss: 1961.7801513671875 Validation loss: 2106.107177734375 best Validation loss: 2105.883056640625\n",
      "Epoch: 9600 Loss: 1960.3052978515625 Validation loss: 2103.82958984375 best Validation loss: 2103.213134765625\n",
      "Epoch: 9700 Loss: 1958.8157958984375 Validation loss: 2103.034912109375 best Validation loss: 2102.266845703125\n",
      "Epoch: 9800 Loss: 1957.735107421875 Validation loss: 2102.386474609375 best Validation loss: 2102.266845703125\n",
      "Epoch: 9900 Loss: 1956.5975341796875 Validation loss: 2101.721435546875 best Validation loss: 2101.211181640625\n",
      "Epoch: 10000 Loss: 1955.123046875 Validation loss: 2100.422119140625 best Validation loss: 2099.65771484375\n",
      "Epoch: 10100 Loss: 1954.1063232421875 Validation loss: 2100.15771484375 best Validation loss: 2099.65771484375\n",
      "Epoch: 10200 Loss: 1953.032470703125 Validation loss: 2100.188232421875 best Validation loss: 2099.63037109375\n",
      "Epoch: 10300 Loss: 1952.25390625 Validation loss: 2099.72265625 best Validation loss: 2099.604248046875\n",
      "Epoch: 10400 Loss: 1951.664306640625 Validation loss: 2099.4296875 best Validation loss: 2099.39794921875\n",
      "Epoch: 10500 Loss: 1950.9478759765625 Validation loss: 2099.167724609375 best Validation loss: 2099.167724609375\n",
      "Epoch: 10600 Loss: 1950.2479248046875 Validation loss: 2098.94580078125 best Validation loss: 2098.4560546875\n",
      "Epoch: 10700 Loss: 1949.1839599609375 Validation loss: 2098.255126953125 best Validation loss: 2097.547607421875\n",
      "Epoch: 10800 Loss: 1948.3258056640625 Validation loss: 2098.141845703125 best Validation loss: 2097.547607421875\n",
      "Epoch: 10900 Loss: 1947.4609375 Validation loss: 2097.593505859375 best Validation loss: 2097.30615234375\n",
      "Epoch: 11000 Loss: 1946.291748046875 Validation loss: 2097.10888671875 best Validation loss: 2096.728759765625\n",
      "Epoch: 11100 Loss: 1945.338134765625 Validation loss: 2095.543212890625 best Validation loss: 2095.388671875\n",
      "Epoch: 11200 Loss: 1944.3677978515625 Validation loss: 2095.444580078125 best Validation loss: 2095.182861328125\n",
      "Epoch: 11300 Loss: 1943.5721435546875 Validation loss: 2095.24169921875 best Validation loss: 2095.136962890625\n",
      "Epoch: 11400 Loss: 1942.6907958984375 Validation loss: 2094.93505859375 best Validation loss: 2094.93505859375\n",
      "Epoch: 11500 Loss: 1941.8165283203125 Validation loss: 2095.02490234375 best Validation loss: 2094.4599609375\n",
      "Epoch: 11600 Loss: 1941.0047607421875 Validation loss: 2095.031982421875 best Validation loss: 2094.381103515625\n",
      "Epoch: 11700 Loss: 1940.26513671875 Validation loss: 2095.509033203125 best Validation loss: 2094.381103515625\n",
      "Epoch: 11800 Loss: 1939.6162109375 Validation loss: 2094.943115234375 best Validation loss: 2094.381103515625\n",
      "Epoch: 11900 Loss: 1939.054931640625 Validation loss: 2095.0048828125 best Validation loss: 2094.381103515625\n",
      "Epoch: 12000 Loss: 1938.39453125 Validation loss: 2095.29736328125 best Validation loss: 2094.381103515625\n",
      "Epoch: 12100 Loss: 1937.6624755859375 Validation loss: 2095.677978515625 best Validation loss: 2094.381103515625\n",
      "Epoch: 12200 Loss: 1937.1756591796875 Validation loss: 2095.8662109375 best Validation loss: 2094.381103515625\n",
      "Epoch: 12300 Loss: 1936.5048828125 Validation loss: 2095.64990234375 best Validation loss: 2094.381103515625\n",
      "Epoch: 12400 Loss: 1936.318603515625 Validation loss: 2095.663330078125 best Validation loss: 2094.381103515625\n",
      "Epoch: 12500 Loss: 1935.4239501953125 Validation loss: 2095.811767578125 best Validation loss: 2094.381103515625\n",
      "Epoch: 12600 Loss: 1935.174560546875 Validation loss: 2095.850830078125 best Validation loss: 2094.381103515625\n",
      "Epoch: 12700 Loss: 1934.658935546875 Validation loss: 2096.0400390625 best Validation loss: 2094.381103515625\n",
      "Epoch: 12800 Loss: 1934.1383056640625 Validation loss: 2096.409423828125 best Validation loss: 2094.381103515625\n",
      "Epoch: 12900 Loss: 1933.56640625 Validation loss: 2097.156494140625 best Validation loss: 2094.381103515625\n",
      "Epoch: 13000 Loss: 1933.1806640625 Validation loss: 2097.101318359375 best Validation loss: 2094.381103515625\n",
      "Epoch: 13100 Loss: 1933.0125732421875 Validation loss: 2097.103515625 best Validation loss: 2094.381103515625\n",
      "Epoch: 13200 Loss: 1932.287109375 Validation loss: 2098.006103515625 best Validation loss: 2094.381103515625\n",
      "Epoch: 13300 Loss: 1931.861328125 Validation loss: 2097.240478515625 best Validation loss: 2094.381103515625\n"
     ]
    },
    {
     "ename": "KeyboardInterrupt",
     "evalue": "",
     "output_type": "error",
     "traceback": [
      "\u001b[0;31m---------------------------------------------------------------------------\u001b[0m",
      "\u001b[0;31mKeyboardInterrupt\u001b[0m                         Traceback (most recent call last)",
      "Cell \u001b[0;32mIn[49], line 18\u001b[0m\n\u001b[1;32m     15\u001b[0m optimizer\u001b[38;5;241m.\u001b[39mstep()\n\u001b[1;32m     17\u001b[0m model\u001b[38;5;241m.\u001b[39meval()\n\u001b[0;32m---> 18\u001b[0m y_pred \u001b[38;5;241m=\u001b[39m \u001b[43mmodel\u001b[49m\u001b[43m(\u001b[49m\u001b[43mX_val\u001b[49m\u001b[43m)\u001b[49m[:, \u001b[38;5;241m0\u001b[39m]\n\u001b[1;32m     19\u001b[0m val_loss \u001b[38;5;241m=\u001b[39m loss_fn(y_pred, y_val)\n\u001b[1;32m     20\u001b[0m validation_loss \u001b[38;5;241m=\u001b[39m np\u001b[38;5;241m.\u001b[39mappend(validation_loss, val_loss\u001b[38;5;241m.\u001b[39mitem())\n",
      "File \u001b[0;32m/opt/anaconda3/envs/pytorch2.0/lib/python3.11/site-packages/torch/nn/modules/module.py:1736\u001b[0m, in \u001b[0;36mModule._wrapped_call_impl\u001b[0;34m(self, *args, **kwargs)\u001b[0m\n\u001b[1;32m   1734\u001b[0m     \u001b[38;5;28;01mreturn\u001b[39;00m \u001b[38;5;28mself\u001b[39m\u001b[38;5;241m.\u001b[39m_compiled_call_impl(\u001b[38;5;241m*\u001b[39margs, \u001b[38;5;241m*\u001b[39m\u001b[38;5;241m*\u001b[39mkwargs)  \u001b[38;5;66;03m# type: ignore[misc]\u001b[39;00m\n\u001b[1;32m   1735\u001b[0m \u001b[38;5;28;01melse\u001b[39;00m:\n\u001b[0;32m-> 1736\u001b[0m     \u001b[38;5;28;01mreturn\u001b[39;00m \u001b[38;5;28;43mself\u001b[39;49m\u001b[38;5;241;43m.\u001b[39;49m\u001b[43m_call_impl\u001b[49m\u001b[43m(\u001b[49m\u001b[38;5;241;43m*\u001b[39;49m\u001b[43margs\u001b[49m\u001b[43m,\u001b[49m\u001b[43m \u001b[49m\u001b[38;5;241;43m*\u001b[39;49m\u001b[38;5;241;43m*\u001b[39;49m\u001b[43mkwargs\u001b[49m\u001b[43m)\u001b[49m\n",
      "File \u001b[0;32m/opt/anaconda3/envs/pytorch2.0/lib/python3.11/site-packages/torch/nn/modules/module.py:1747\u001b[0m, in \u001b[0;36mModule._call_impl\u001b[0;34m(self, *args, **kwargs)\u001b[0m\n\u001b[1;32m   1742\u001b[0m \u001b[38;5;66;03m# If we don't have any hooks, we want to skip the rest of the logic in\u001b[39;00m\n\u001b[1;32m   1743\u001b[0m \u001b[38;5;66;03m# this function, and just call forward.\u001b[39;00m\n\u001b[1;32m   1744\u001b[0m \u001b[38;5;28;01mif\u001b[39;00m \u001b[38;5;129;01mnot\u001b[39;00m (\u001b[38;5;28mself\u001b[39m\u001b[38;5;241m.\u001b[39m_backward_hooks \u001b[38;5;129;01mor\u001b[39;00m \u001b[38;5;28mself\u001b[39m\u001b[38;5;241m.\u001b[39m_backward_pre_hooks \u001b[38;5;129;01mor\u001b[39;00m \u001b[38;5;28mself\u001b[39m\u001b[38;5;241m.\u001b[39m_forward_hooks \u001b[38;5;129;01mor\u001b[39;00m \u001b[38;5;28mself\u001b[39m\u001b[38;5;241m.\u001b[39m_forward_pre_hooks\n\u001b[1;32m   1745\u001b[0m         \u001b[38;5;129;01mor\u001b[39;00m _global_backward_pre_hooks \u001b[38;5;129;01mor\u001b[39;00m _global_backward_hooks\n\u001b[1;32m   1746\u001b[0m         \u001b[38;5;129;01mor\u001b[39;00m _global_forward_hooks \u001b[38;5;129;01mor\u001b[39;00m _global_forward_pre_hooks):\n\u001b[0;32m-> 1747\u001b[0m     \u001b[38;5;28;01mreturn\u001b[39;00m \u001b[43mforward_call\u001b[49m\u001b[43m(\u001b[49m\u001b[38;5;241;43m*\u001b[39;49m\u001b[43margs\u001b[49m\u001b[43m,\u001b[49m\u001b[43m \u001b[49m\u001b[38;5;241;43m*\u001b[39;49m\u001b[38;5;241;43m*\u001b[39;49m\u001b[43mkwargs\u001b[49m\u001b[43m)\u001b[49m\n\u001b[1;32m   1749\u001b[0m result \u001b[38;5;241m=\u001b[39m \u001b[38;5;28;01mNone\u001b[39;00m\n\u001b[1;32m   1750\u001b[0m called_always_called_hooks \u001b[38;5;241m=\u001b[39m \u001b[38;5;28mset\u001b[39m()\n",
      "Cell \u001b[0;32mIn[45], line 49\u001b[0m, in \u001b[0;36mmlp.forward\u001b[0;34m(self, x)\u001b[0m\n\u001b[1;32m     48\u001b[0m \u001b[38;5;28;01mdef\u001b[39;00m \u001b[38;5;21mforward\u001b[39m(\u001b[38;5;28mself\u001b[39m, x):\n\u001b[0;32m---> 49\u001b[0m     model \u001b[38;5;241m=\u001b[39m \u001b[38;5;28;43mself\u001b[39;49m\u001b[38;5;241;43m.\u001b[39;49m\u001b[43mmodel_layer\u001b[49m\u001b[43m(\u001b[49m\u001b[43mx\u001b[49m\u001b[43m[\u001b[49m\u001b[43m:\u001b[49m\u001b[43m,\u001b[49m\u001b[43m \u001b[49m\u001b[43m:\u001b[49m\u001b[38;5;241;43m137\u001b[39;49m\u001b[43m]\u001b[49m\u001b[43m)\u001b[49m\n\u001b[1;32m     50\u001b[0m     gear_box \u001b[38;5;241m=\u001b[39m \u001b[38;5;28mself\u001b[39m\u001b[38;5;241m.\u001b[39mgear_box_layer(x[:, \u001b[38;5;241m137\u001b[39m:\u001b[38;5;241m140\u001b[39m])\n\u001b[1;32m     51\u001b[0m     fuel_type \u001b[38;5;241m=\u001b[39m \u001b[38;5;28mself\u001b[39m\u001b[38;5;241m.\u001b[39mfuel_type_layer(x[:, \u001b[38;5;241m140\u001b[39m:\u001b[38;5;241m144\u001b[39m])\n",
      "File \u001b[0;32m/opt/anaconda3/envs/pytorch2.0/lib/python3.11/site-packages/torch/nn/modules/module.py:1736\u001b[0m, in \u001b[0;36mModule._wrapped_call_impl\u001b[0;34m(self, *args, **kwargs)\u001b[0m\n\u001b[1;32m   1734\u001b[0m     \u001b[38;5;28;01mreturn\u001b[39;00m \u001b[38;5;28mself\u001b[39m\u001b[38;5;241m.\u001b[39m_compiled_call_impl(\u001b[38;5;241m*\u001b[39margs, \u001b[38;5;241m*\u001b[39m\u001b[38;5;241m*\u001b[39mkwargs)  \u001b[38;5;66;03m# type: ignore[misc]\u001b[39;00m\n\u001b[1;32m   1735\u001b[0m \u001b[38;5;28;01melse\u001b[39;00m:\n\u001b[0;32m-> 1736\u001b[0m     \u001b[38;5;28;01mreturn\u001b[39;00m \u001b[38;5;28;43mself\u001b[39;49m\u001b[38;5;241;43m.\u001b[39;49m\u001b[43m_call_impl\u001b[49m\u001b[43m(\u001b[49m\u001b[38;5;241;43m*\u001b[39;49m\u001b[43margs\u001b[49m\u001b[43m,\u001b[49m\u001b[43m \u001b[49m\u001b[38;5;241;43m*\u001b[39;49m\u001b[38;5;241;43m*\u001b[39;49m\u001b[43mkwargs\u001b[49m\u001b[43m)\u001b[49m\n",
      "File \u001b[0;32m/opt/anaconda3/envs/pytorch2.0/lib/python3.11/site-packages/torch/nn/modules/module.py:1747\u001b[0m, in \u001b[0;36mModule._call_impl\u001b[0;34m(self, *args, **kwargs)\u001b[0m\n\u001b[1;32m   1742\u001b[0m \u001b[38;5;66;03m# If we don't have any hooks, we want to skip the rest of the logic in\u001b[39;00m\n\u001b[1;32m   1743\u001b[0m \u001b[38;5;66;03m# this function, and just call forward.\u001b[39;00m\n\u001b[1;32m   1744\u001b[0m \u001b[38;5;28;01mif\u001b[39;00m \u001b[38;5;129;01mnot\u001b[39;00m (\u001b[38;5;28mself\u001b[39m\u001b[38;5;241m.\u001b[39m_backward_hooks \u001b[38;5;129;01mor\u001b[39;00m \u001b[38;5;28mself\u001b[39m\u001b[38;5;241m.\u001b[39m_backward_pre_hooks \u001b[38;5;129;01mor\u001b[39;00m \u001b[38;5;28mself\u001b[39m\u001b[38;5;241m.\u001b[39m_forward_hooks \u001b[38;5;129;01mor\u001b[39;00m \u001b[38;5;28mself\u001b[39m\u001b[38;5;241m.\u001b[39m_forward_pre_hooks\n\u001b[1;32m   1745\u001b[0m         \u001b[38;5;129;01mor\u001b[39;00m _global_backward_pre_hooks \u001b[38;5;129;01mor\u001b[39;00m _global_backward_hooks\n\u001b[1;32m   1746\u001b[0m         \u001b[38;5;129;01mor\u001b[39;00m _global_forward_hooks \u001b[38;5;129;01mor\u001b[39;00m _global_forward_pre_hooks):\n\u001b[0;32m-> 1747\u001b[0m     \u001b[38;5;28;01mreturn\u001b[39;00m \u001b[43mforward_call\u001b[49m\u001b[43m(\u001b[49m\u001b[38;5;241;43m*\u001b[39;49m\u001b[43margs\u001b[49m\u001b[43m,\u001b[49m\u001b[43m \u001b[49m\u001b[38;5;241;43m*\u001b[39;49m\u001b[38;5;241;43m*\u001b[39;49m\u001b[43mkwargs\u001b[49m\u001b[43m)\u001b[49m\n\u001b[1;32m   1749\u001b[0m result \u001b[38;5;241m=\u001b[39m \u001b[38;5;28;01mNone\u001b[39;00m\n\u001b[1;32m   1750\u001b[0m called_always_called_hooks \u001b[38;5;241m=\u001b[39m \u001b[38;5;28mset\u001b[39m()\n",
      "File \u001b[0;32m/opt/anaconda3/envs/pytorch2.0/lib/python3.11/site-packages/torch/nn/modules/container.py:250\u001b[0m, in \u001b[0;36mSequential.forward\u001b[0;34m(self, input)\u001b[0m\n\u001b[1;32m    248\u001b[0m \u001b[38;5;28;01mdef\u001b[39;00m \u001b[38;5;21mforward\u001b[39m(\u001b[38;5;28mself\u001b[39m, \u001b[38;5;28minput\u001b[39m):\n\u001b[1;32m    249\u001b[0m     \u001b[38;5;28;01mfor\u001b[39;00m module \u001b[38;5;129;01min\u001b[39;00m \u001b[38;5;28mself\u001b[39m:\n\u001b[0;32m--> 250\u001b[0m         \u001b[38;5;28minput\u001b[39m \u001b[38;5;241m=\u001b[39m \u001b[43mmodule\u001b[49m\u001b[43m(\u001b[49m\u001b[38;5;28;43minput\u001b[39;49m\u001b[43m)\u001b[49m\n\u001b[1;32m    251\u001b[0m     \u001b[38;5;28;01mreturn\u001b[39;00m \u001b[38;5;28minput\u001b[39m\n",
      "File \u001b[0;32m/opt/anaconda3/envs/pytorch2.0/lib/python3.11/site-packages/torch/nn/modules/module.py:1736\u001b[0m, in \u001b[0;36mModule._wrapped_call_impl\u001b[0;34m(self, *args, **kwargs)\u001b[0m\n\u001b[1;32m   1734\u001b[0m     \u001b[38;5;28;01mreturn\u001b[39;00m \u001b[38;5;28mself\u001b[39m\u001b[38;5;241m.\u001b[39m_compiled_call_impl(\u001b[38;5;241m*\u001b[39margs, \u001b[38;5;241m*\u001b[39m\u001b[38;5;241m*\u001b[39mkwargs)  \u001b[38;5;66;03m# type: ignore[misc]\u001b[39;00m\n\u001b[1;32m   1735\u001b[0m \u001b[38;5;28;01melse\u001b[39;00m:\n\u001b[0;32m-> 1736\u001b[0m     \u001b[38;5;28;01mreturn\u001b[39;00m \u001b[38;5;28;43mself\u001b[39;49m\u001b[38;5;241;43m.\u001b[39;49m\u001b[43m_call_impl\u001b[49m\u001b[43m(\u001b[49m\u001b[38;5;241;43m*\u001b[39;49m\u001b[43margs\u001b[49m\u001b[43m,\u001b[49m\u001b[43m \u001b[49m\u001b[38;5;241;43m*\u001b[39;49m\u001b[38;5;241;43m*\u001b[39;49m\u001b[43mkwargs\u001b[49m\u001b[43m)\u001b[49m\n",
      "File \u001b[0;32m/opt/anaconda3/envs/pytorch2.0/lib/python3.11/site-packages/torch/nn/modules/module.py:1747\u001b[0m, in \u001b[0;36mModule._call_impl\u001b[0;34m(self, *args, **kwargs)\u001b[0m\n\u001b[1;32m   1742\u001b[0m \u001b[38;5;66;03m# If we don't have any hooks, we want to skip the rest of the logic in\u001b[39;00m\n\u001b[1;32m   1743\u001b[0m \u001b[38;5;66;03m# this function, and just call forward.\u001b[39;00m\n\u001b[1;32m   1744\u001b[0m \u001b[38;5;28;01mif\u001b[39;00m \u001b[38;5;129;01mnot\u001b[39;00m (\u001b[38;5;28mself\u001b[39m\u001b[38;5;241m.\u001b[39m_backward_hooks \u001b[38;5;129;01mor\u001b[39;00m \u001b[38;5;28mself\u001b[39m\u001b[38;5;241m.\u001b[39m_backward_pre_hooks \u001b[38;5;129;01mor\u001b[39;00m \u001b[38;5;28mself\u001b[39m\u001b[38;5;241m.\u001b[39m_forward_hooks \u001b[38;5;129;01mor\u001b[39;00m \u001b[38;5;28mself\u001b[39m\u001b[38;5;241m.\u001b[39m_forward_pre_hooks\n\u001b[1;32m   1745\u001b[0m         \u001b[38;5;129;01mor\u001b[39;00m _global_backward_pre_hooks \u001b[38;5;129;01mor\u001b[39;00m _global_backward_hooks\n\u001b[1;32m   1746\u001b[0m         \u001b[38;5;129;01mor\u001b[39;00m _global_forward_hooks \u001b[38;5;129;01mor\u001b[39;00m _global_forward_pre_hooks):\n\u001b[0;32m-> 1747\u001b[0m     \u001b[38;5;28;01mreturn\u001b[39;00m \u001b[43mforward_call\u001b[49m\u001b[43m(\u001b[49m\u001b[38;5;241;43m*\u001b[39;49m\u001b[43margs\u001b[49m\u001b[43m,\u001b[49m\u001b[43m \u001b[49m\u001b[38;5;241;43m*\u001b[39;49m\u001b[38;5;241;43m*\u001b[39;49m\u001b[43mkwargs\u001b[49m\u001b[43m)\u001b[49m\n\u001b[1;32m   1749\u001b[0m result \u001b[38;5;241m=\u001b[39m \u001b[38;5;28;01mNone\u001b[39;00m\n\u001b[1;32m   1750\u001b[0m called_always_called_hooks \u001b[38;5;241m=\u001b[39m \u001b[38;5;28mset\u001b[39m()\n",
      "File \u001b[0;32m/opt/anaconda3/envs/pytorch2.0/lib/python3.11/site-packages/torch/nn/modules/linear.py:125\u001b[0m, in \u001b[0;36mLinear.forward\u001b[0;34m(self, input)\u001b[0m\n\u001b[1;32m    124\u001b[0m \u001b[38;5;28;01mdef\u001b[39;00m \u001b[38;5;21mforward\u001b[39m(\u001b[38;5;28mself\u001b[39m, \u001b[38;5;28minput\u001b[39m: Tensor) \u001b[38;5;241m-\u001b[39m\u001b[38;5;241m>\u001b[39m Tensor:\n\u001b[0;32m--> 125\u001b[0m     \u001b[38;5;28;01mreturn\u001b[39;00m \u001b[43mF\u001b[49m\u001b[38;5;241;43m.\u001b[39;49m\u001b[43mlinear\u001b[49m\u001b[43m(\u001b[49m\u001b[38;5;28;43minput\u001b[39;49m\u001b[43m,\u001b[49m\u001b[43m \u001b[49m\u001b[38;5;28;43mself\u001b[39;49m\u001b[38;5;241;43m.\u001b[39;49m\u001b[43mweight\u001b[49m\u001b[43m,\u001b[49m\u001b[43m \u001b[49m\u001b[38;5;28;43mself\u001b[39;49m\u001b[38;5;241;43m.\u001b[39;49m\u001b[43mbias\u001b[49m\u001b[43m)\u001b[49m\n",
      "\u001b[0;31mKeyboardInterrupt\u001b[0m: "
     ]
    }
   ],
   "source": [
    "import numpy as np\n",
    "best_val_loss = float('inf')\n",
    "training_loss = np.array([])\n",
    "validation_loss = np.array([])\n",
    "last_val_loss = float('inf')\n",
    "count = 0\n",
    "\n",
    "for n in range(NUMBER_OF_EPOCH):\n",
    "    model.train()\n",
    "    y_pred = model(X_train)[:, 0]\n",
    "    loss = loss_fn(y_pred, y_train)\n",
    "    training_loss = np.append(training_loss, loss.item())\n",
    "    optimizer.zero_grad()\n",
    "    loss.backward()\n",
    "    optimizer.step()\n",
    "    \n",
    "    model.eval()\n",
    "    y_pred = model(X_val)[:, 0]\n",
    "    val_loss = loss_fn(y_pred, y_val)\n",
    "    validation_loss = np.append(validation_loss, val_loss.item())\n",
    "    if val_loss < best_val_loss:\n",
    "        best_val_loss = val_loss\n",
    "        torch.save(model, 'mlp_model.pth')\n",
    "    \n",
    "    if n % 100 == 0:\n",
    "        print(f'Epoch: {n} Loss: {loss.item()}'f' Validation loss: {val_loss.item()}'f' best Validation loss: {best_val_loss}')\n",
    "        \n",
    "    if last_val_loss < val_loss:\n",
    "        count += 1\n",
    "        if count == 25:\n",
    "            break\n",
    "    else:\n",
    "        count = 0\n",
    "    last_val_loss = val_loss\n",
    "    "
   ]
  },
  {
   "cell_type": "code",
   "execution_count": 50,
   "metadata": {},
   "outputs": [
    {
     "data": {
      "text/plain": [
       "<matplotlib.legend.Legend at 0x310c39ad0>"
      ]
     },
     "execution_count": 50,
     "metadata": {},
     "output_type": "execute_result"
    },
    {
     "data": {
      "image/png": "[encoded data removed]",
      "text/plain": [
       "<Figure size 640x480 with 1 Axes>"
      ]
     },
     "metadata": {},
     "output_type": "display_data"
    }
   ],
   "source": [
    "import matplotlib.pyplot as plt\n",
    "\n",
    "plt.plot(training_loss, label='Training Loss')\n",
    "plt.plot(validation_loss, label='Validation Loss')\n",
    "plt.legend(loc='best')"
   ]
  },
  {
   "cell_type": "code",
   "execution_count": 51,
   "metadata": {},
   "outputs": [
    {
     "name": "stderr",
     "output_type": "stream",
     "text": [
      "/var/folders/64/cy9kvd894_bfkfb71dsbxt2w0000gn/T/ipykernel_69898/228361571.py:4: FutureWarning: You are using `torch.load` with `weights_only=False` (the current default value), which uses the default pickle module implicitly. It is possible to construct malicious pickle data which will execute arbitrary code during unpickling (See https://github.com/pytorch/pytorch/blob/main/SECURITY.md#untrusted-models for more details). In a future release, the default value for `weights_only` will be flipped to `True`. This limits the functions that could be executed during unpickling. Arbitrary objects will no longer be allowed to be loaded via this mode unless they are explicitly allowlisted by the user via `torch.serialization.add_safe_globals`. We recommend you start setting `weights_only=True` for any use case where you don't have full control of the loaded file. Please open an issue on GitHub for any issues related to this experimental feature.\n",
      "  model = torch.load('mlp_model.pth')\n"
     ]
    }
   ],
   "source": [
    "import pickle\n",
    "\n",
    "df = pd.read_csv('data/test.csv')\n",
    "model = torch.load('mlp_model.pth')\n",
    "model.eval()\n",
    "\n",
    "index = df['id']\n",
    "df = df.drop(['id'], axis=1)\n",
    "X = pre.encoder(df)\n",
    "X = pre.standardize(X, scaler=pickle.load(open('scaler.pkl', 'rb')))\n",
    "X = torch.tensor(X.values, dtype=torch.float32)\n",
    "y_pred = model(X)[:, 0]\n",
    "\n",
    "df = pd.DataFrame(y_pred.detach().numpy(), columns=['price'])\n",
    "df = pd.concat([index, df], axis=1)\n",
    "df.rename(columns={'price': 'answer'}, inplace=True)\n",
    "df.to_csv('output.csv', index=False)"
   ]
  }
 ],
 "metadata": {
  "kernelspec": {
   "display_name": "pytorch2.0",
   "language": "python",
   "name": "python3"
  },
  "language_info": {
   "codemirror_mode": {
    "name": "ipython",
    "version": 3
   },
   "file_extension": ".py",
   "mimetype": "text/x-python",
   "name": "python",
   "nbconvert_exporter": "python",
   "pygments_lexer": "ipython3",
   "version": "3.11.10"
  }
 },
 "nbformat": 4,
 "nbformat_minor": 2
}
