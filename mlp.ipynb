{
 "cells": [
  {
   "cell_type": "code",
   "execution_count": 19,
   "metadata": {},
   "outputs": [],
   "source": [
    "NUMBER_OF_EPOCH = 5000\n",
    "# num_of_categories = "
   ]
  },
  {
   "cell_type": "code",
   "execution_count": 20,
   "metadata": {},
   "outputs": [
    {
     "name": "stdout",
     "output_type": "stream",
     "text": [
      "tensor([1.], device='mps:0')\n"
     ]
    }
   ],
   "source": [
    "import torch\n",
    "import torch.nn as nn\n",
    "import pandas as pd\n",
    "import preprocessing as pp\n",
    "import numpy as np \n",
    "from sklearn.model_selection import train_test_split\n",
    "from torch.utils.tensorboard import SummaryWriter\n",
    "import pickle\n",
    "\n",
    "if torch.backends.mps.is_available():\n",
    "    mps_device = torch.device(\"mps\")\n",
    "    x = torch.ones(1, device=mps_device)\n",
    "    print (x)\n",
    "elif torch.backends.cuda.is_built():\n",
    "    mps_device = torch.device(\"cuda\")\n",
    "    x = torch.ones(1, device=mps_device)\n",
    "    print (x)\n",
    "else:\n",
    "    print (\"MPS device not found.\")\n",
    "    "
   ]
  },
  {
   "cell_type": "code",
   "execution_count": 21,
   "metadata": {},
   "outputs": [],
   "source": [
    "def data_preprocessing(df):\n",
    "    df = df.drop(['manufacturer'], axis=1)\n",
    "    df = df.drop(['id'], axis=1)\n",
    "    \n",
    "    df = pp.standardize(df)\n",
    "    df = pp.encoder(df)\n",
    "    with_outliers_df = df\n",
    "    df = pp.outlier_removal(df)\n",
    "    \n",
    "    train, val = train_test_split(df, test_size=0.10)\n",
    "\n",
    "    y_train = torch.tensor(train['price'].values, dtype=torch.float32)\n",
    "    X_train = train.drop(['price'], axis=1)\n",
    "    X_train = torch.tensor(X_train.values, dtype=torch.float32)\n",
    "\n",
    "    y_val = torch.tensor(val['price'].values, dtype=torch.float32)\n",
    "    X_val = val.drop(['price'], axis=1)\n",
    "    X_val = torch.tensor(X_val.values, dtype=torch.float32)\n",
    "        \n",
    "    return X_train, y_train, X_val, y_val, with_outliers_df"
   ]
  },
  {
   "cell_type": "code",
   "execution_count": 22,
   "metadata": {},
   "outputs": [],
   "source": [
    "# Define model\n",
    "class mlp(nn.Module):\n",
    "    def __init__(self):\n",
    "        super(mlp, self).__init__()\n",
    "        \n",
    "        self.layers = nn.Sequential(\n",
    "        nn.Linear(8, 1024),\n",
    "        nn.Dropout(0.1),\n",
    "        nn.ReLU(), \n",
    "\n",
    "        nn.Linear(1024, 128),\n",
    "        nn.ReLU(), \n",
    "        \n",
    "        nn.Linear(128, 80),\n",
    "        nn.ReLU(),\n",
    "        \n",
    "        nn.Linear(80, 16),\n",
    "        nn.ReLU(),\n",
    "        \n",
    "        nn.Linear(16, 1)\n",
    "        )\n",
    "        \n",
    "        self.model_layer = nn.Sequential(\n",
    "        nn.Linear(169, 1),\n",
    "        nn.ReLU()\n",
    "        )\n",
    "        \n",
    "        self.gear_box_layer = nn.Sequential(\n",
    "        nn.Linear(3, 1),\n",
    "        nn.ReLU()\n",
    "        )\n",
    "        \n",
    "        self.fuel_type_layer = nn.Sequential( \n",
    "        nn.Linear(5, 1),\n",
    "        nn.ReLU()\n",
    "        )\n",
    "        \n",
    "    def forward(self, x):\n",
    "        # print(x.shape)\n",
    "        model = self.model_layer(x[:, 5:174])\n",
    "        gear_box = self.gear_box_layer(x[:, 174:177])\n",
    "        fuel_type = self.fuel_type_layer(x[:, 177:182])\n",
    "        \n",
    "        # registration_fee = self.registration_fee_layer(x[:, 156:164])\n",
    "        # engine_capacity = self.engine_capacity_layer(x[:, 164:174])\n",
    "        # operating_hours = x[:, 174].view(-1, 1)\n",
    "        # year = x[:, 175].view(-1, 1)\n",
    "        # efficiency = x[:, 176].view(-1, 1)\n",
    "\n",
    "        \n",
    "        # x = torch.cat((model, year, gear_box, operating_hours, fuel_type, registration_fee, efficiency, engine_capacity), 1)\n",
    "        \n",
    "        x = torch.cat((model, gear_box, fuel_type, x[:, :5]), 1)\n",
    "        \n",
    "        return self.layers(x)\n",
    "\n",
    "model = mlp()\n",
    "writer = SummaryWriter()\n",
    "writer.add_graph(model, torch.rand(1, 182))"
   ]
  },
  {
   "cell_type": "code",
   "execution_count": 23,
   "metadata": {},
   "outputs": [],
   "source": [
    "class RMSELoss(nn.Module):\n",
    "    def __init__(self):\n",
    "        super(RMSELoss, self).__init__()\n",
    "        self.mse = nn.MSELoss()\n",
    "\n",
    "    def forward(self, y_pred, y_true):\n",
    "        return torch.sqrt(self.mse(y_pred, y_true))\n",
    "    \n",
    "loss_fn = RMSELoss()\n",
    "optimizer = torch.optim.Adam(model.parameters(), lr=1e-3, weight_decay=1e-3)"
   ]
  },
  {
   "cell_type": "code",
   "execution_count": 24,
   "metadata": {},
   "outputs": [
    {
     "name": "stdout",
     "output_type": "stream",
     "text": [
      "list_of_model shape: (169,)\n",
      "list_of_gearbox_type shape: (3,)\n",
      "list_of_fuel_type shape: (5,)\n",
      "Inliers: (9900, 183)\n",
      "torch.Size([8910, 182]) torch.Size([8910]) torch.Size([990, 182]) torch.Size([990])\n"
     ]
    }
   ],
   "source": [
    "df = pd.read_csv('data/org_train.csv')\n",
    "X_train, y_train, X_val, y_val, with_outlier = data_preprocessing(df)\n",
    "print(X_train.shape, y_train.shape, X_val.shape, y_val.shape)"
   ]
  },
  {
   "cell_type": "code",
   "execution_count": 25,
   "metadata": {},
   "outputs": [
    {
     "name": "stdout",
     "output_type": "stream",
     "text": [
      "Epoch: 0 Training loss:  19540.8515625 Validation loss: 19217.80859375 best Validation loss: 19217.80859375\n",
      "Epoch: 100 Training loss:  11453.2216796875 Validation loss: 11271.27734375 best Validation loss: 11271.27734375\n",
      "Epoch: 200 Training loss:  4728.375 Validation loss: 4853.28564453125 best Validation loss: 4853.28564453125\n",
      "Epoch: 300 Training loss:  3787.578857421875 Validation loss: 3839.755126953125 best Validation loss: 3839.755126953125\n",
      "Epoch: 400 Training loss:  3142.274169921875 Validation loss: 3214.728759765625 best Validation loss: 3214.728759765625\n",
      "Epoch: 500 Training loss:  2885.9013671875 Validation loss: 2888.491455078125 best Validation loss: 2884.75927734375\n",
      "Epoch: 600 Training loss:  2796.36279296875 Validation loss: 2729.180419921875 best Validation loss: 2724.1162109375\n",
      "Epoch: 700 Training loss:  2750.00048828125 Validation loss: 2636.696533203125 best Validation loss: 2633.33837890625\n",
      "Epoch: 800 Training loss:  2720.586181640625 Validation loss: 2578.0078125 best Validation loss: 2578.0078125\n",
      "Epoch: 900 Training loss:  2699.35302734375 Validation loss: 2537.580078125 best Validation loss: 2536.507080078125\n",
      "Epoch: 1000 Training loss:  2679.7548828125 Validation loss: 2506.02099609375 best Validation loss: 2506.02099609375\n",
      "Epoch: 1100 Training loss:  2663.111083984375 Validation loss: 2481.30859375 best Validation loss: 2481.30859375\n",
      "Epoch: 1200 Training loss:  2647.130615234375 Validation loss: 2464.5673828125 best Validation loss: 2456.472900390625\n",
      "Epoch: 1300 Training loss:  2629.71435546875 Validation loss: 2437.755615234375 best Validation loss: 2436.939697265625\n",
      "Epoch: 1400 Training loss:  2614.295166015625 Validation loss: 2421.833984375 best Validation loss: 2421.101318359375\n",
      "Epoch: 1500 Training loss:  2602.26708984375 Validation loss: 2412.835693359375 best Validation loss: 2411.556640625\n",
      "Epoch: 1600 Training loss:  2589.41259765625 Validation loss: 2405.612060546875 best Validation loss: 2395.429931640625\n",
      "Epoch: 1700 Training loss:  2575.577880859375 Validation loss: 2391.5283203125 best Validation loss: 2391.5283203125\n",
      "Epoch: 1800 Training loss:  2562.529052734375 Validation loss: 2376.31640625 best Validation loss: 2376.000732421875\n",
      "Epoch: 1900 Training loss:  2545.938232421875 Validation loss: 2366.6103515625 best Validation loss: 2364.98291015625\n",
      "Epoch: 2000 Training loss:  2530.984619140625 Validation loss: 2359.93896484375 best Validation loss: 2357.911865234375\n",
      "Epoch: 2100 Training loss:  2515.26318359375 Validation loss: 2356.0966796875 best Validation loss: 2347.51171875\n",
      "Epoch: 2200 Training loss:  2499.847900390625 Validation loss: 2339.778564453125 best Validation loss: 2339.604248046875\n",
      "Epoch: 2300 Training loss:  2485.134765625 Validation loss: 2331.6982421875 best Validation loss: 2330.934814453125\n",
      "Epoch: 2400 Training loss:  2469.501220703125 Validation loss: 2319.478271484375 best Validation loss: 2316.025390625\n",
      "Epoch: 2500 Training loss:  2455.8857421875 Validation loss: 2314.198974609375 best Validation loss: 2308.548828125\n",
      "Epoch: 2600 Training loss:  2445.082763671875 Validation loss: 2297.56494140625 best Validation loss: 2295.8251953125\n",
      "Epoch: 2700 Training loss:  2430.69775390625 Validation loss: 2300.968017578125 best Validation loss: 2293.3759765625\n",
      "Epoch: 2800 Training loss:  2421.564697265625 Validation loss: 2290.7744140625 best Validation loss: 2281.630859375\n",
      "Epoch: 2900 Training loss:  2409.73681640625 Validation loss: 2274.053955078125 best Validation loss: 2263.506591796875\n",
      "Epoch: 3000 Training loss:  2388.075927734375 Validation loss: 2257.50341796875 best Validation loss: 2249.89501953125\n",
      "Epoch: 3100 Training loss:  2371.598388671875 Validation loss: 2259.07275390625 best Validation loss: 2239.446533203125\n",
      "Epoch: 3200 Training loss:  2356.8798828125 Validation loss: 2240.746337890625 best Validation loss: 2221.519775390625\n",
      "Epoch: 3300 Training loss:  2343.9931640625 Validation loss: 2219.171630859375 best Validation loss: 2213.345947265625\n",
      "Epoch: 3400 Training loss:  2335.12451171875 Validation loss: 2213.130126953125 best Validation loss: 2194.3037109375\n",
      "Epoch: 3500 Training loss:  2324.10595703125 Validation loss: 2191.500244140625 best Validation loss: 2182.509521484375\n",
      "Epoch: 3600 Training loss:  2319.17236328125 Validation loss: 2184.1220703125 best Validation loss: 2175.788818359375\n",
      "Epoch: 3700 Training loss:  2311.990966796875 Validation loss: 2171.151611328125 best Validation loss: 2162.1689453125\n",
      "Epoch: 3800 Training loss:  2300.029296875 Validation loss: 2155.25537109375 best Validation loss: 2140.1748046875\n",
      "Epoch: 3900 Training loss:  2292.362548828125 Validation loss: 2156.93115234375 best Validation loss: 2140.1748046875\n",
      "Epoch: 4000 Training loss:  2286.950927734375 Validation loss: 2137.238525390625 best Validation loss: 2131.936767578125\n",
      "Epoch: 4100 Training loss:  2280.9677734375 Validation loss: 2141.01611328125 best Validation loss: 2131.936767578125\n",
      "Epoch: 4200 Training loss:  2274.093505859375 Validation loss: 2139.4619140625 best Validation loss: 2123.637939453125\n",
      "Epoch: 4300 Training loss:  2275.9560546875 Validation loss: 2141.8779296875 best Validation loss: 2120.482421875\n",
      "Epoch: 4400 Training loss:  2262.02490234375 Validation loss: 2118.1572265625 best Validation loss: 2118.1572265625\n",
      "Epoch: 4500 Training loss:  2207.634521484375 Validation loss: 2053.00439453125 best Validation loss: 2045.2493896484375\n",
      "Epoch: 4600 Training loss:  2196.67138671875 Validation loss: 2051.89599609375 best Validation loss: 2045.2493896484375\n",
      "Epoch: 4700 Training loss:  2183.831787109375 Validation loss: 2063.84033203125 best Validation loss: 2044.665283203125\n",
      "Epoch: 4800 Training loss:  2183.9140625 Validation loss: 2059.880615234375 best Validation loss: 2044.665283203125\n",
      "Epoch: 4900 Training loss:  2173.878173828125 Validation loss: 2084.3955078125 best Validation loss: 2044.665283203125\n"
     ]
    }
   ],
   "source": [
    "best_val_loss = float('inf')\n",
    "training_loss = np.array([])\n",
    "validation_loss = np.array([])\n",
    "last_val_loss = float('inf')\n",
    "count = 0\n",
    "\n",
    "for n in range(NUMBER_OF_EPOCH):\n",
    "    model.train()\n",
    "    y_pred = model(X_train)[:, 0]\n",
    "    loss = loss_fn(y_pred, y_train)\n",
    "    optimizer.zero_grad()\n",
    "    loss.backward()\n",
    "    optimizer.step()\n",
    "    \n",
    "    model.eval()\n",
    "    y_pred = model(X_val)[:, 0]\n",
    "    val_loss = loss_fn(y_pred, y_val).item()\n",
    "    validation_loss = np.append(validation_loss, val_loss)\n",
    "\n",
    "    if val_loss < best_val_loss:\n",
    "        best_val_loss = val_loss\n",
    "        torch.save(model, 'mlp_model.pth')\n",
    "        \n",
    "    y_pred = model(X_train)[:, 0]\n",
    "    training_loss_eval = loss_fn(y_pred, y_train).item()\n",
    "    training_loss = np.append(training_loss, training_loss_eval)\n",
    "    \n",
    "    if n % 100 == 0:\n",
    "        print(f'Epoch: {n} Training loss:  {training_loss_eval}'f' Validation loss: {val_loss}'f' best Validation loss: {best_val_loss}')\n",
    "        \n",
    "    if last_val_loss < val_loss:\n",
    "        count += 1\n",
    "        if count == 25:\n",
    "            break\n",
    "    else:\n",
    "        count = 0\n",
    "    last_val_loss = val_loss"
   ]
  },
  {
   "cell_type": "code",
   "execution_count": 26,
   "metadata": {},
   "outputs": [
    {
     "data": {
      "text/plain": [
       "<matplotlib.legend.Legend at 0x13e5368d0>"
      ]
     },
     "execution_count": 26,
     "metadata": {},
     "output_type": "execute_result"
    },
    {
     "data": {
      "image/png": "[encoded data removed]",
      "text/plain": [
       "<Figure size 640x480 with 1 Axes>"
      ]
     },
     "metadata": {},
     "output_type": "display_data"
    }
   ],
   "source": [
    "import matplotlib.pyplot as plt\n",
    "\n",
    "plt.plot(training_loss, label='Training Loss')\n",
    "plt.plot(validation_loss, label='Validation Loss')\n",
    "plt.legend(loc='best')"
   ]
  },
  {
   "cell_type": "code",
   "execution_count": 27,
   "metadata": {},
   "outputs": [
    {
     "name": "stdout",
     "output_type": "stream",
     "text": [
      "Loss: 2202.62353515625\n"
     ]
    }
   ],
   "source": [
    "df = pd.read_csv('data/org_test.csv')\n",
    "model = torch.load('mlp_model.pth', weights_only=False)\n",
    "model.eval()\n",
    "index = df['id']\n",
    "df = df.drop(['id'], axis=1)\n",
    "df = df.drop(['manufacturer'], axis=1)\n",
    "df = pp.standardize(df, pickle.load(open('scaler.pkl', 'rb'))) \n",
    "df = pp.encoder(df, pickle.load(open('encoder.pkl', 'rb')))\n",
    "X = torch.tensor(df.values, dtype=torch.float32)\n",
    "y_pred = model(X)[:, 0]\n",
    "\n",
    "\n",
    "df = pd.DataFrame(y_pred.detach().numpy(), columns=['price'])\n",
    "df = pd.concat([index, df], axis=1)\n",
    "df.rename(columns={'price': 'answer'}, inplace=True)\n",
    "df.to_csv('output.csv', index=False)\n",
    "\n",
    "y = with_outlier['price'].values\n",
    "X = with_outlier.drop(['price'], axis=1)\n",
    "X = torch.tensor(X.values, dtype=torch.float32)\n",
    "y_pred = model(X)[:, 0]\n",
    "loss = loss_fn(y_pred, torch.tensor(y, dtype=torch.float32)).item()\n",
    "print(f'Loss: {loss}')"
   ]
  }
 ],
 "metadata": {
  "kernelspec": {
   "display_name": "pytorch2.0",
   "language": "python",
   "name": "python3"
  },
  "language_info": {
   "codemirror_mode": {
    "name": "ipython",
    "version": 3
   },
   "file_extension": ".py",
   "mimetype": "text/x-python",
   "name": "python",
   "nbconvert_exporter": "python",
   "pygments_lexer": "ipython3",
   "version": "3.11.10"
  }
 },
 "nbformat": 4,
 "nbformat_minor": 2
}
