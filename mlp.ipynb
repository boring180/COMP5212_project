{
 "cells": [
  {
   "cell_type": "code",
   "execution_count": 15,
   "metadata": {},
   "outputs": [],
   "source": [
    "NUMBER_OF_EPOCH = 50000"
   ]
  },
  {
   "cell_type": "code",
   "execution_count": 16,
   "metadata": {},
   "outputs": [
    {
     "name": "stdout",
     "output_type": "stream",
     "text": [
      "tensor([1.], device='mps:0')\n"
     ]
    }
   ],
   "source": [
    "import torch\n",
    "import torch.nn as nn\n",
    "import pandas as pd\n",
    "import preprossesing as pre\n",
    "if torch.backends.mps.is_available():\n",
    "    mps_device = torch.device(\"mps\")\n",
    "    x = torch.ones(1, device=mps_device)\n",
    "    print (x)\n",
    "else:\n",
    "    print (\"MPS device not found.\")\n",
    "    "
   ]
  },
  {
   "cell_type": "code",
   "execution_count": 17,
   "metadata": {},
   "outputs": [],
   "source": [
    "def prepare_model(df):\n",
    "\n",
    "    df = pre.standardize(df)\n",
    "    df = pre.encoder(df)\n",
    "    df = df.drop(['id'], axis=1)\n",
    "\n",
    "    train, val = pre.test_validation_split(df)\n",
    "    \n",
    "    y_train = torch.tensor(train['price'].values, dtype=torch.float32)\n",
    "    X_train = train.drop(['price'], axis=1)\n",
    "    X_train = torch.tensor(X_train.values, dtype=torch.float32)\n",
    "    \n",
    "    y_val = torch.tensor(val['price'].values, dtype=torch.float32)\n",
    "    X_val = val.drop(['price'], axis=1)\n",
    "    X_val = torch.tensor(X_val.values, dtype=torch.float32)\n",
    "    \n",
    "    return X_train, y_train, X_val, y_val"
   ]
  },
  {
   "cell_type": "code",
   "execution_count": 18,
   "metadata": {},
   "outputs": [
    {
     "data": {
      "text/plain": [
       "mlp(\n",
       "  (layers): Sequential(\n",
       "    (0): Linear(in_features=9, out_features=512, bias=True)\n",
       "    (1): Dropout(p=0.2, inplace=False)\n",
       "    (2): ReLU()\n",
       "    (3): Linear(in_features=512, out_features=256, bias=True)\n",
       "    (4): Dropout(p=0.2, inplace=False)\n",
       "    (5): ReLU()\n",
       "    (6): Linear(in_features=256, out_features=128, bias=True)\n",
       "    (7): Dropout(p=0.2, inplace=False)\n",
       "    (8): ReLU()\n",
       "    (9): Linear(in_features=128, out_features=64, bias=True)\n",
       "    (10): Dropout(p=0.2, inplace=False)\n",
       "    (11): ReLU()\n",
       "    (12): Linear(in_features=64, out_features=32, bias=True)\n",
       "    (13): ReLU()\n",
       "    (14): Linear(in_features=32, out_features=1, bias=True)\n",
       "  )\n",
       "  (manufacturers): Sequential(\n",
       "    (0): Linear(in_features=9, out_features=1, bias=True)\n",
       "    (1): ReLU()\n",
       "  )\n",
       "  (model): Sequential(\n",
       "    (0): Linear(in_features=169, out_features=1, bias=True)\n",
       "    (1): ReLU()\n",
       "  )\n",
       "  (gearbox_type): Sequential(\n",
       "    (0): Linear(in_features=3, out_features=1, bias=True)\n",
       "    (1): ReLU()\n",
       "  )\n",
       "  (fuel_type): Sequential(\n",
       "    (0): Linear(in_features=5, out_features=1, bias=True)\n",
       "    (1): ReLU()\n",
       "  )\n",
       "  (registration_fees): Sequential(\n",
       "    (0): Linear(in_features=12, out_features=1, bias=True)\n",
       "    (1): ReLU()\n",
       "  )\n",
       "  (engine_capacity): Sequential(\n",
       "    (0): Linear(in_features=20, out_features=1, bias=True)\n",
       "    (1): ReLU()\n",
       "  )\n",
       ")"
      ]
     },
     "execution_count": 18,
     "metadata": {},
     "output_type": "execute_result"
    }
   ],
   "source": [
    "# Define model\n",
    "class mlp(nn.Module):\n",
    "    def __init__(self):\n",
    "        super(mlp, self).__init__()\n",
    "        \n",
    "        self.layers = nn.Sequential(\n",
    "        nn.Linear(9, 512),\n",
    "        nn.Dropout(0.2),\n",
    "        nn.ReLU(), \n",
    "        \n",
    "        nn.Linear(512, 256),\n",
    "        nn.Dropout(0.2),\n",
    "        nn.ReLU(),\n",
    "        \n",
    "        nn.Linear(256, 128),\n",
    "        nn.Dropout(0.2),\n",
    "        nn.ReLU(),\n",
    "        \n",
    "        nn.Linear(128, 64),\n",
    "        nn.Dropout(0.2),\n",
    "        nn.ReLU(),\n",
    "        \n",
    "        nn.Linear(64, 32),\n",
    "        nn.ReLU(),\n",
    "        \n",
    "        nn.Linear(32, 1) \n",
    "        )\n",
    "        \n",
    "        self.manufacturers = nn.Sequential(\n",
    "        nn.Linear(9, 1),\n",
    "        nn.ReLU()\n",
    "        )\n",
    "        \n",
    "        self.model = nn.Sequential(\n",
    "        nn.Linear(169, 1),\n",
    "        nn.ReLU()\n",
    "        )\n",
    "        \n",
    "        self.gearbox_type = nn.Sequential(\n",
    "        nn.Linear(3, 1),\n",
    "        nn.ReLU()\n",
    "        )\n",
    "        \n",
    "        self.fuel_type = nn.Sequential(\n",
    "        nn.Linear(5, 1),\n",
    "        nn.ReLU()\n",
    "        )\n",
    "        \n",
    "        self.registration_fees = nn.Sequential(\n",
    "        nn.Linear(12, 1),\n",
    "        nn.ReLU()\n",
    "        )\n",
    "        \n",
    "        self.engine_capacity = nn.Sequential(\n",
    "        nn.Linear(20, 1),\n",
    "        nn.ReLU()\n",
    "        )\n",
    "        \n",
    "    def forward(self, x):\n",
    "        manufacutre_output = self.manufacturers(x[:, 3:12])\n",
    "        model_output = self.model(x[:, 12:181])\n",
    "        gearbox_output = self.gearbox_type(x[:, 181:184])\n",
    "        fuel_output = self.fuel_type(x[:, 184:189])\n",
    "        registration_fees_output = self.registration_fees(x[:, 189:201])\n",
    "        engine_capacity_output = self.engine_capacity(x[:, 201:221])\n",
    "        x = torch.cat((x[:, :3], manufacutre_output, model_output, gearbox_output, fuel_output, registration_fees_output, engine_capacity_output), 1)\n",
    "\n",
    "        return self.layers(x)\n",
    "\n",
    "model = mlp()\n",
    "model"
   ]
  },
  {
   "cell_type": "code",
   "execution_count": 19,
   "metadata": {},
   "outputs": [],
   "source": [
    "loss_fn = nn.MSELoss()\n",
    "optimizer = torch.optim.Adam(model.parameters(), lr=1e-3)"
   ]
  },
  {
   "cell_type": "code",
   "execution_count": 20,
   "metadata": {},
   "outputs": [],
   "source": [
    "df = pd.read_csv('data/train.csv')\n",
    "X_train, y_train, X_val, y_val = prepare_model(df)"
   ]
  },
  {
   "cell_type": "code",
   "execution_count": null,
   "metadata": {},
   "outputs": [
    {
     "name": "stdout",
     "output_type": "stream",
     "text": [
      "Epoch: 0 Loss: 382251936.0 Validation loss: 375235552.0 best Validation loss: 375235552.0\n",
      "Epoch: 100 Loss: 59239752.0 Validation loss: 55722256.0 best Validation loss: 55722256.0\n",
      "Epoch: 200 Loss: 38621344.0 Validation loss: 35751560.0 best Validation loss: 35751560.0\n",
      "Epoch: 300 Loss: 26375502.0 Validation loss: 23363970.0 best Validation loss: 23363970.0\n",
      "Epoch: 400 Loss: 20517790.0 Validation loss: 18210934.0 best Validation loss: 17606342.0\n",
      "Epoch: 500 Loss: 16525044.0 Validation loss: 13872300.0 best Validation loss: 13872300.0\n",
      "Epoch: 600 Loss: 14232791.0 Validation loss: 12033221.0 best Validation loss: 12033221.0\n",
      "Epoch: 700 Loss: 13330166.0 Validation loss: 11621572.0 best Validation loss: 10346817.0\n",
      "Epoch: 800 Loss: 12100839.0 Validation loss: 10748463.0 best Validation loss: 9680317.0\n",
      "Epoch: 900 Loss: 11537369.0 Validation loss: 10408549.0 best Validation loss: 9208905.0\n",
      "Epoch: 1000 Loss: 11527547.0 Validation loss: 9971950.0 best Validation loss: 8753714.0\n",
      "Epoch: 1100 Loss: 11575765.0 Validation loss: 9724311.0 best Validation loss: 8753714.0\n",
      "Epoch: 1200 Loss: 11446775.0 Validation loss: 9552000.0 best Validation loss: 8072740.0\n",
      "Epoch: 1300 Loss: 11089785.0 Validation loss: 9308463.0 best Validation loss: 8072740.0\n",
      "Epoch: 1400 Loss: 11243741.0 Validation loss: 9453895.0 best Validation loss: 8072740.0\n",
      "Epoch: 1500 Loss: 10800136.0 Validation loss: 9045773.0 best Validation loss: 8072740.0\n",
      "Epoch: 1600 Loss: 11262789.0 Validation loss: 9166318.0 best Validation loss: 8072740.0\n",
      "Epoch: 1700 Loss: 10401998.0 Validation loss: 8999904.0 best Validation loss: 7500458.5\n",
      "Epoch: 1800 Loss: 10665925.0 Validation loss: 8747170.0 best Validation loss: 7500458.5\n",
      "Epoch: 1900 Loss: 10319289.0 Validation loss: 9681602.0 best Validation loss: 7500458.5\n",
      "Epoch: 2000 Loss: 10709410.0 Validation loss: 9376706.0 best Validation loss: 7500458.5\n",
      "Epoch: 2100 Loss: 10262186.0 Validation loss: 9479325.0 best Validation loss: 7500458.5\n",
      "Epoch: 2200 Loss: 10329577.0 Validation loss: 9023505.0 best Validation loss: 7500458.5\n"
     ]
    }
   ],
   "source": [
    "import numpy as np\n",
    "best_val_loss = float('inf')\n",
    "training_loss = np.array([])\n",
    "validation_loss = np.array([])\n",
    "\n",
    "for n in range(NUMBER_OF_EPOCH):\n",
    "    model.train()\n",
    "    y_pred = model(X_train)[:, 0]\n",
    "    loss = loss_fn(y_pred, y_train)\n",
    "    training_loss = np.append(training_loss, loss.item())\n",
    "    optimizer.zero_grad()\n",
    "    loss.backward()\n",
    "    optimizer.step()\n",
    "    \n",
    "    y_pred = model(X_val)[:, 0]\n",
    "    val_loss = loss_fn(y_pred, y_val)\n",
    "    validation_loss = np.append(validation_loss, val_loss.item())\n",
    "    if val_loss < best_val_loss:\n",
    "        best_val_loss = val_loss\n",
    "        torch.save(model, 'mlp_model.pth')\n",
    "    \n",
    "    if n % 100 == 0:\n",
    "        print(f'Epoch: {n} Loss: {loss.item()}'f' Validation loss: {val_loss.item()}'f' best Validation loss: {best_val_loss}')"
   ]
  },
  {
   "cell_type": "code",
   "execution_count": null,
   "metadata": {},
   "outputs": [
    {
     "name": "stdout",
     "output_type": "stream",
     "text": [
      "(218,) (217,)\n"
     ]
    },
    {
     "data": {
      "text/plain": [
       "<matplotlib.legend.Legend at 0x319839050>"
      ]
     },
     "execution_count": 12,
     "metadata": {},
     "output_type": "execute_result"
    },
    {
     "data": {
      "image/png": "[encoded data removed]",
      "text/plain": [
       "<Figure size 640x480 with 1 Axes>"
      ]
     },
     "metadata": {},
     "output_type": "display_data"
    }
   ],
   "source": [
    "import matplotlib.pyplot as plt\n",
    "\n",
    "print(training_loss.shape, validation_loss.shape)\n",
    "plt.plot(training_loss, label='Training Loss')\n",
    "plt.plot(validation_loss, label='Validation Loss')\n",
    "plt.legend(loc='best')"
   ]
  },
  {
   "cell_type": "code",
   "execution_count": null,
   "metadata": {},
   "outputs": [
    {
     "name": "stderr",
     "output_type": "stream",
     "text": [
      "/var/folders/64/cy9kvd894_bfkfb71dsbxt2w0000gn/T/ipykernel_7687/921359386.py:4: FutureWarning: You are using `torch.load` with `weights_only=False` (the current default value), which uses the default pickle module implicitly. It is possible to construct malicious pickle data which will execute arbitrary code during unpickling (See https://github.com/pytorch/pytorch/blob/main/SECURITY.md#untrusted-models for more details). In a future release, the default value for `weights_only` will be flipped to `True`. This limits the functions that could be executed during unpickling. Arbitrary objects will no longer be allowed to be loaded via this mode unless they are explicitly allowlisted by the user via `torch.serialization.add_safe_globals`. We recommend you start setting `weights_only=True` for any use case where you don't have full control of the loaded file. Please open an issue on GitHub for any issues related to this experimental feature.\n",
      "  model = torch.load('mlp_model.pth')\n"
     ]
    }
   ],
   "source": [
    "import pickle\n",
    "\n",
    "df = pd.read_csv('data/test.csv')\n",
    "model = torch.load('mlp_model.pth')\n",
    "\n",
    "index = df['id']\n",
    "df = df.drop(['id'], axis=1)\n",
    "X = pre.encoder(df)\n",
    "X = pre.standardize(X, scaler=pickle.load(open('scaler.pkl', 'rb')))\n",
    "X = torch.tensor(X.values, dtype=torch.float32)\n",
    "y_pred = model(X)[:, 0]\n",
    "\n",
    "df = pd.DataFrame(y_pred.detach().numpy(), columns=['price'])\n",
    "df = pd.concat([index, df], axis=1)\n",
    "df.rename(columns={'price': 'answer'}, inplace=True)\n",
    "df.to_csv('output.csv', index=False)"
   ]
  }
 ],
 "metadata": {
  "kernelspec": {
   "display_name": "pytorch2.0",
   "language": "python",
   "name": "python3"
  },
  "language_info": {
   "codemirror_mode": {
    "name": "ipython",
    "version": 3
   },
   "file_extension": ".py",
   "mimetype": "text/x-python",
   "name": "python",
   "nbconvert_exporter": "python",
   "pygments_lexer": "ipython3",
   "version": "3.11.10"
  }
 },
 "nbformat": 4,
 "nbformat_minor": 2
}
