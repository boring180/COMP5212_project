{
 "cells": [
  {
   "cell_type": "code",
   "execution_count": 57,
   "metadata": {},
   "outputs": [],
   "source": [
    "NUMBER_OF_EPOCH = 10000\n",
    "# num_of_categories = "
   ]
  },
  {
   "cell_type": "code",
   "execution_count": 58,
   "metadata": {},
   "outputs": [
    {
     "name": "stdout",
     "output_type": "stream",
     "text": [
      "tensor([1.], device='cuda:0')\n"
     ]
    }
   ],
   "source": [
    "import torch\n",
    "import torch.nn as nn\n",
    "import pandas as pd\n",
    "import math\n",
    "if torch.backends.mps.is_available():\n",
    "    mps_device = torch.device(\"mps\")\n",
    "    x = torch.ones(1, device=mps_device)\n",
    "    print (x)\n",
    "elif torch.backends.cuda.is_built():\n",
    "    mps_device = torch.device(\"cuda\")\n",
    "    x = torch.ones(1, device=mps_device)\n",
    "    print (x)\n",
    "else:\n",
    "    print (\"MPS device not found.\")\n",
    "    "
   ]
  },
  {
   "cell_type": "code",
   "execution_count": 59,
   "metadata": {},
   "outputs": [],
   "source": [
    "def prepare_model(df):\n",
    "    \n",
    "    # df = pre.standardize(df)\n",
    "    # df = pre.encoder(df)\n",
    "    # df = df.drop(['id'], axis=1)\n",
    "\n",
    "    from sklearn.model_selection import train_test_split\n",
    "    train, val = train_test_split(df, test_size=0.05)\n",
    "\n",
    "    y_train = torch.tensor(train['price'].values, dtype=torch.float32)\n",
    "    X_train = train.drop(['price'], axis=1)\n",
    "    X_train = torch.tensor(X_train.values, dtype=torch.float32)\n",
    "\n",
    "    y_val = torch.tensor(val['price'].values, dtype=torch.float32)\n",
    "    X_val = val.drop(['price'], axis=1)\n",
    "    X_val = torch.tensor(X_val.values, dtype=torch.float32)\n",
    "        \n",
    "    return X_train, y_train, X_val, y_val"
   ]
  },
  {
   "cell_type": "code",
   "execution_count": 60,
   "metadata": {},
   "outputs": [
    {
     "data": {
      "text/plain": [
       "mlp(\n",
       "  (layers): Sequential(\n",
       "    (0): Linear(in_features=8, out_features=256, bias=True)\n",
       "    (1): Dropout(p=0.1, inplace=False)\n",
       "    (2): ReLU()\n",
       "    (3): Linear(in_features=256, out_features=64, bias=True)\n",
       "    (4): ReLU()\n",
       "    (5): Linear(in_features=64, out_features=1, bias=True)\n",
       "  )\n",
       "  (model_layer): Sequential(\n",
       "    (0): Linear(in_features=149, out_features=1, bias=True)\n",
       "    (1): ReLU()\n",
       "  )\n",
       "  (gear_box_layer): Sequential(\n",
       "    (0): Linear(in_features=3, out_features=1, bias=True)\n",
       "    (1): ReLU()\n",
       "  )\n",
       "  (fuel_type_layer): Sequential(\n",
       "    (0): Linear(in_features=4, out_features=1, bias=True)\n",
       "    (1): ReLU()\n",
       "  )\n",
       ")"
      ]
     },
     "execution_count": 60,
     "metadata": {},
     "output_type": "execute_result"
    }
   ],
   "source": [
    "# Define model\n",
    "class mlp(nn.Module):\n",
    "    def __init__(self):\n",
    "        super(mlp, self).__init__()\n",
    "        \n",
    "        self.layers = nn.Sequential(\n",
    "        nn.Linear(8, 256),\n",
    "        nn.Dropout(0.1),\n",
    "        nn.ReLU(), \n",
    "        \n",
    "        nn.Linear(256, 64),\n",
    "        nn.ReLU(),\n",
    "\n",
    "        nn.Linear(64, 1)\n",
    "        )\n",
    "        \n",
    "        self.model_layer = nn.Sequential(\n",
    "        nn.Linear(149, 1),\n",
    "        nn.ReLU()\n",
    "        )\n",
    "        \n",
    "        self.gear_box_layer = nn.Sequential(\n",
    "        nn.Linear(3, 1),\n",
    "        nn.ReLU()\n",
    "        )\n",
    "        \n",
    "        self.fuel_type_layer = nn.Sequential( \n",
    "        nn.Linear(4, 1),\n",
    "        nn.ReLU()\n",
    "        )\n",
    "        \n",
    "        # self.registration_fee_layer = nn.Sequential(\n",
    "        # nn.Linear(8, 1),\n",
    "        # nn.ReLU()\n",
    "        # )\n",
    "        \n",
    "        # self.engine_capacity_layer = nn.Sequential(\n",
    "        # nn.Linear(10, 1),\n",
    "        # nn.ReLU()\n",
    "        # )\n",
    "    \n",
    "        \n",
    "    def forward(self, x):\n",
    "        # print(x.shape)\n",
    "        model = self.model_layer(x[:, 5:154])\n",
    "        gear_box = self.gear_box_layer(x[:, 154:157])\n",
    "        fuel_type = self.fuel_type_layer(x[:, 157:161])\n",
    "        \n",
    "        # registration_fee = self.registration_fee_layer(x[:, 156:164])\n",
    "        # engine_capacity = self.engine_capacity_layer(x[:, 164:174])\n",
    "        # operating_hours = x[:, 174].view(-1, 1)\n",
    "        # year = x[:, 175].view(-1, 1)\n",
    "        # efficiency = x[:, 176].view(-1, 1)\n",
    "\n",
    "        \n",
    "        # x = torch.cat((model, year, gear_box, operating_hours, fuel_type, registration_fee, efficiency, engine_capacity), 1)\n",
    "        \n",
    "        x = torch.cat((model, gear_box, fuel_type, x[:, :5]), 1)\n",
    "        \n",
    "        return self.layers(x)\n",
    "\n",
    "model = mlp()\n",
    "model"
   ]
  },
  {
   "cell_type": "code",
   "execution_count": 61,
   "metadata": {},
   "outputs": [],
   "source": [
    "class RMSELoss(nn.Module):\n",
    "    def __init__(self):\n",
    "        super(RMSELoss, self).__init__()\n",
    "        self.mse = nn.MSELoss()\n",
    "\n",
    "    def forward(self, y_pred, y_true):\n",
    "        return torch.sqrt(self.mse(y_pred, y_true))"
   ]
  },
  {
   "cell_type": "code",
   "execution_count": 62,
   "metadata": {},
   "outputs": [],
   "source": [
    "loss_fn = RMSELoss()\n",
    "optimizer = torch.optim.Adam(model.parameters(), lr=1e-3, weight_decay=1e-3)"
   ]
  },
  {
   "cell_type": "code",
   "execution_count": 63,
   "metadata": {},
   "outputs": [
    {
     "name": "stdout",
     "output_type": "stream",
     "text": [
      "torch.Size([9025, 161]) torch.Size([9025]) torch.Size([475, 161]) torch.Size([475])\n"
     ]
    }
   ],
   "source": [
    "df = pd.read_csv('data/train.csv')\n",
    "X_train, y_train, X_val, y_val = prepare_model(df)\n",
    "print(X_train.shape, y_train.shape, X_val.shape, y_val.shape)"
   ]
  },
  {
   "cell_type": "code",
   "execution_count": 64,
   "metadata": {},
   "outputs": [
    {
     "name": "stdout",
     "output_type": "stream",
     "text": [
      "Epoch: 0 Loss: 18203.15625 Validation loss: 18419.837890625 best Validation loss: 18419.837890625\n",
      "Epoch: 100 Loss: 18108.431640625 Validation loss: 18320.22265625 best Validation loss: 18320.22265625\n",
      "Epoch: 200 Loss: 17003.865234375 Validation loss: 17160.501953125 best Validation loss: 17160.501953125\n",
      "Epoch: 300 Loss: 11987.6376953125 Validation loss: 11896.6318359375 best Validation loss: 11896.6318359375\n",
      "Epoch: 400 Loss: 4519.8720703125 Validation loss: 4389.13330078125 best Validation loss: 4389.13330078125\n",
      "Epoch: 500 Loss: 3640.39404296875 Validation loss: 3657.712890625 best Validation loss: 3657.712890625\n",
      "Epoch: 600 Loss: 3297.81640625 Validation loss: 3396.5478515625 best Validation loss: 3396.5478515625\n",
      "Epoch: 700 Loss: 3116.251953125 Validation loss: 3209.1484375 best Validation loss: 3209.1484375\n",
      "Epoch: 800 Loss: 2950.6748046875 Validation loss: 3053.260986328125 best Validation loss: 3053.260986328125\n",
      "Epoch: 900 Loss: 2843.57080078125 Validation loss: 2921.6630859375 best Validation loss: 2921.6630859375\n",
      "Epoch: 1000 Loss: 2740.48291015625 Validation loss: 2801.166259765625 best Validation loss: 2801.166259765625\n",
      "Epoch: 1100 Loss: 2649.72265625 Validation loss: 2695.0751953125 best Validation loss: 2695.0751953125\n",
      "Epoch: 1200 Loss: 2570.0615234375 Validation loss: 2604.334228515625 best Validation loss: 2604.334228515625\n",
      "Epoch: 1300 Loss: 2478.263427734375 Validation loss: 2526.8076171875 best Validation loss: 2526.8076171875\n",
      "Epoch: 1400 Loss: 2427.42724609375 Validation loss: 2465.45458984375 best Validation loss: 2465.45458984375\n",
      "Epoch: 1500 Loss: 2378.419921875 Validation loss: 2416.1298828125 best Validation loss: 2416.1298828125\n",
      "Epoch: 1600 Loss: 2343.913818359375 Validation loss: 2377.629150390625 best Validation loss: 2377.629150390625\n",
      "Epoch: 1700 Loss: 2303.056884765625 Validation loss: 2348.052734375 best Validation loss: 2348.052734375\n",
      "Epoch: 1800 Loss: 2285.017578125 Validation loss: 2326.271728515625 best Validation loss: 2326.271728515625\n",
      "Epoch: 1900 Loss: 2275.96484375 Validation loss: 2308.360595703125 best Validation loss: 2308.360595703125\n",
      "Epoch: 2000 Loss: 2263.498291015625 Validation loss: 2292.791748046875 best Validation loss: 2292.791748046875\n",
      "Epoch: 2100 Loss: 2247.688720703125 Validation loss: 2279.365966796875 best Validation loss: 2279.3076171875\n",
      "Epoch: 2200 Loss: 2247.61767578125 Validation loss: 2264.19189453125 best Validation loss: 2263.8076171875\n",
      "Epoch: 2300 Loss: 2223.233642578125 Validation loss: 2250.444580078125 best Validation loss: 2249.7822265625\n",
      "Epoch: 2400 Loss: 2205.98583984375 Validation loss: 2236.942138671875 best Validation loss: 2236.52392578125\n",
      "Epoch: 2500 Loss: 2192.35888671875 Validation loss: 2223.516357421875 best Validation loss: 2223.516357421875\n",
      "Epoch: 2600 Loss: 2193.653076171875 Validation loss: 2211.0234375 best Validation loss: 2211.0234375\n",
      "Epoch: 2700 Loss: 2171.9296875 Validation loss: 2201.80908203125 best Validation loss: 2199.90576171875\n",
      "Epoch: 2800 Loss: 2170.744384765625 Validation loss: 2188.061767578125 best Validation loss: 2188.061767578125\n",
      "Epoch: 2900 Loss: 2166.756591796875 Validation loss: 2179.10986328125 best Validation loss: 2179.091064453125\n",
      "Epoch: 3000 Loss: 2164.896240234375 Validation loss: 2169.839111328125 best Validation loss: 2167.822998046875\n",
      "Epoch: 3100 Loss: 2154.077392578125 Validation loss: 2161.498291015625 best Validation loss: 2161.498291015625\n",
      "Epoch: 3200 Loss: 2159.543701171875 Validation loss: 2155.180419921875 best Validation loss: 2154.78173828125\n",
      "Epoch: 3300 Loss: 2141.587646484375 Validation loss: 2151.48193359375 best Validation loss: 2150.963623046875\n",
      "Epoch: 3400 Loss: 2139.423095703125 Validation loss: 2145.93408203125 best Validation loss: 2145.93408203125\n",
      "Epoch: 3500 Loss: 2131.633544921875 Validation loss: 2141.458251953125 best Validation loss: 2139.08544921875\n",
      "Epoch: 3600 Loss: 2134.02099609375 Validation loss: 2137.307373046875 best Validation loss: 2137.307373046875\n",
      "Epoch: 3700 Loss: 2135.000244140625 Validation loss: 2132.576416015625 best Validation loss: 2132.31982421875\n",
      "Epoch: 3800 Loss: 2117.969482421875 Validation loss: 2131.068115234375 best Validation loss: 2129.709228515625\n",
      "Epoch: 3900 Loss: 2126.192138671875 Validation loss: 2130.189697265625 best Validation loss: 2129.709228515625\n",
      "Epoch: 4000 Loss: 2128.7158203125 Validation loss: 2130.234375 best Validation loss: 2127.49853515625\n",
      "Epoch: 4100 Loss: 2118.434326171875 Validation loss: 2125.930908203125 best Validation loss: 2125.930908203125\n",
      "Epoch: 4200 Loss: 2106.21875 Validation loss: 2125.357666015625 best Validation loss: 2122.782958984375\n",
      "Epoch: 4300 Loss: 2126.246337890625 Validation loss: 2122.01171875 best Validation loss: 2121.334716796875\n",
      "Epoch: 4400 Loss: 2106.2626953125 Validation loss: 2120.56396484375 best Validation loss: 2119.6279296875\n",
      "Epoch: 4500 Loss: 2106.00634765625 Validation loss: 2117.65185546875 best Validation loss: 2117.01171875\n",
      "Epoch: 4600 Loss: 2113.02001953125 Validation loss: 2117.77099609375 best Validation loss: 2115.3173828125\n",
      "Epoch: 4700 Loss: 2105.5576171875 Validation loss: 2114.23681640625 best Validation loss: 2114.05078125\n",
      "Epoch: 4800 Loss: 2108.402587890625 Validation loss: 2114.944091796875 best Validation loss: 2111.313232421875\n",
      "Epoch: 4900 Loss: 2105.07177734375 Validation loss: 2110.8935546875 best Validation loss: 2110.751220703125\n",
      "Epoch: 5000 Loss: 2092.984130859375 Validation loss: 2109.07763671875 best Validation loss: 2107.637451171875\n",
      "Epoch: 5100 Loss: 2096.143310546875 Validation loss: 2107.8798828125 best Validation loss: 2106.20166015625\n",
      "Epoch: 5200 Loss: 2096.50634765625 Validation loss: 2106.878662109375 best Validation loss: 2104.5595703125\n",
      "Epoch: 5300 Loss: 2092.701416015625 Validation loss: 2106.2890625 best Validation loss: 2103.8603515625\n",
      "Epoch: 5400 Loss: 2091.646484375 Validation loss: 2106.24755859375 best Validation loss: 2103.56982421875\n",
      "Epoch: 5500 Loss: 2090.358642578125 Validation loss: 2101.981201171875 best Validation loss: 2099.865234375\n",
      "Epoch: 5600 Loss: 2090.51806640625 Validation loss: 2102.201904296875 best Validation loss: 2099.865234375\n",
      "Epoch: 5700 Loss: 2082.730224609375 Validation loss: 2102.83984375 best Validation loss: 2099.865234375\n",
      "Epoch: 5800 Loss: 2091.590576171875 Validation loss: 2103.443603515625 best Validation loss: 2099.865234375\n",
      "Epoch: 5900 Loss: 2090.3876953125 Validation loss: 2100.818115234375 best Validation loss: 2099.865234375\n",
      "Epoch: 6000 Loss: 2080.83642578125 Validation loss: 2099.919677734375 best Validation loss: 2095.937255859375\n",
      "Epoch: 6100 Loss: 2077.421875 Validation loss: 2100.48974609375 best Validation loss: 2095.937255859375\n",
      "Epoch: 6200 Loss: 2089.11328125 Validation loss: 2098.631103515625 best Validation loss: 2095.72021484375\n",
      "Epoch: 6300 Loss: 2070.78466796875 Validation loss: 2096.40576171875 best Validation loss: 2095.44091796875\n",
      "Epoch: 6400 Loss: 2066.408935546875 Validation loss: 2095.3310546875 best Validation loss: 2095.108154296875\n",
      "Epoch: 6500 Loss: 2091.713134765625 Validation loss: 2094.84814453125 best Validation loss: 2092.96923828125\n",
      "Epoch: 6600 Loss: 2078.415771484375 Validation loss: 2094.9287109375 best Validation loss: 2092.96923828125\n",
      "Epoch: 6700 Loss: 2079.4130859375 Validation loss: 2095.6552734375 best Validation loss: 2092.96923828125\n",
      "Epoch: 6800 Loss: 2086.100830078125 Validation loss: 2096.33544921875 best Validation loss: 2092.00244140625\n",
      "Epoch: 6900 Loss: 2066.721923828125 Validation loss: 2094.395263671875 best Validation loss: 2092.00244140625\n",
      "Epoch: 7000 Loss: 2068.610107421875 Validation loss: 2091.416259765625 best Validation loss: 2090.03564453125\n",
      "Epoch: 7100 Loss: 2073.286376953125 Validation loss: 2094.38330078125 best Validation loss: 2090.03564453125\n",
      "Epoch: 7200 Loss: 2069.598876953125 Validation loss: 2094.478515625 best Validation loss: 2090.03564453125\n",
      "Epoch: 7300 Loss: 2073.645263671875 Validation loss: 2092.405029296875 best Validation loss: 2090.03564453125\n",
      "Epoch: 7400 Loss: 2063.118896484375 Validation loss: 2091.989990234375 best Validation loss: 2088.91064453125\n",
      "Epoch: 7500 Loss: 2072.24609375 Validation loss: 2093.471923828125 best Validation loss: 2088.123779296875\n",
      "Epoch: 7600 Loss: 2067.762451171875 Validation loss: 2091.448974609375 best Validation loss: 2088.123779296875\n",
      "Epoch: 7700 Loss: 2055.708251953125 Validation loss: 2093.89404296875 best Validation loss: 2088.123779296875\n",
      "Epoch: 7800 Loss: 2056.825927734375 Validation loss: 2090.833740234375 best Validation loss: 2087.196533203125\n",
      "Epoch: 7900 Loss: 2058.572021484375 Validation loss: 2089.31787109375 best Validation loss: 2087.196533203125\n",
      "Epoch: 8000 Loss: 2067.83837890625 Validation loss: 2089.220703125 best Validation loss: 2087.196533203125\n",
      "Epoch: 8100 Loss: 2054.609130859375 Validation loss: 2089.0322265625 best Validation loss: 2085.209228515625\n",
      "Epoch: 8200 Loss: 2057.48046875 Validation loss: 2086.911376953125 best Validation loss: 2084.793212890625\n",
      "Epoch: 8300 Loss: 2052.48681640625 Validation loss: 2086.25439453125 best Validation loss: 2084.4755859375\n",
      "Epoch: 8400 Loss: 2042.914794921875 Validation loss: 2086.26416015625 best Validation loss: 2081.466552734375\n",
      "Epoch: 8500 Loss: 2056.500244140625 Validation loss: 2088.689208984375 best Validation loss: 2081.466552734375\n",
      "Epoch: 8600 Loss: 2003.7646484375 Validation loss: 2024.2811279296875 best Validation loss: 2024.2811279296875\n",
      "Epoch: 8700 Loss: 1988.409423828125 Validation loss: 2024.147216796875 best Validation loss: 2021.749267578125\n",
      "Epoch: 8800 Loss: 1986.7198486328125 Validation loss: 2023.6192626953125 best Validation loss: 2020.724609375\n",
      "Epoch: 8900 Loss: 1988.615966796875 Validation loss: 2018.7017822265625 best Validation loss: 2018.4271240234375\n",
      "Epoch: 9000 Loss: 1983.666015625 Validation loss: 2022.98779296875 best Validation loss: 2017.1937255859375\n",
      "Epoch: 9100 Loss: 1985.0692138671875 Validation loss: 2019.892333984375 best Validation loss: 2015.8795166015625\n",
      "Epoch: 9200 Loss: 1974.224365234375 Validation loss: 2019.6695556640625 best Validation loss: 2015.8795166015625\n",
      "Epoch: 9300 Loss: 1986.7779541015625 Validation loss: 2016.15673828125 best Validation loss: 2015.8795166015625\n",
      "Epoch: 9400 Loss: 1976.669677734375 Validation loss: 2016.2939453125 best Validation loss: 2015.211669921875\n",
      "Epoch: 9500 Loss: 1976.0477294921875 Validation loss: 2015.1241455078125 best Validation loss: 2012.2703857421875\n",
      "Epoch: 9600 Loss: 1985.323974609375 Validation loss: 2014.4755859375 best Validation loss: 2012.2703857421875\n",
      "Epoch: 9700 Loss: 1973.54150390625 Validation loss: 2015.0087890625 best Validation loss: 2012.2703857421875\n",
      "Epoch: 9800 Loss: 1970.7420654296875 Validation loss: 2014.61572265625 best Validation loss: 2012.2703857421875\n",
      "Epoch: 9900 Loss: 1973.0037841796875 Validation loss: 2015.9088134765625 best Validation loss: 2010.38818359375\n"
     ]
    }
   ],
   "source": [
    "import numpy as np \n",
    "best_val_loss = float('inf')\n",
    "training_loss = np.array([])\n",
    "validation_loss = np.array([])\n",
    "last_val_loss = float('inf')\n",
    "count = 0\n",
    "for n in range(NUMBER_OF_EPOCH):\n",
    "    model.train()\n",
    "    y_pred = model(X_train)[:, 0]\n",
    "    loss = loss_fn(y_pred, y_train)\n",
    "    training_loss = np.append(training_loss, loss.item())\n",
    "    optimizer.zero_grad()\n",
    "    loss.backward()\n",
    "    optimizer.step()\n",
    "    \n",
    "    model.eval()\n",
    "    y_pred = model(X_val)[:, 0]\n",
    "    val_loss = loss_fn(y_pred, y_val)\n",
    "    validation_loss = np.append(validation_loss, val_loss.item())\n",
    "    if val_loss < best_val_loss:\n",
    "        best_val_loss = val_loss\n",
    "        # torch.save(model, 'mlp_model.pth')\n",
    "    if n % 100 == 0:\n",
    "        print(f'Epoch: {n} Loss: {loss.item()}'f' Validation loss: {val_loss.item()}'f' best Validation loss: {best_val_loss}')\n",
    "        \n",
    "    if last_val_loss < val_loss:\n",
    "        count += 1\n",
    "        if count == 25:\n",
    "            break\n",
    "    else:\n",
    "        count = 0\n",
    "    last_val_loss = val_loss\n",
    "    \n",
    "torch.save(model, 'mlp_model.pth')"
   ]
  },
  {
   "cell_type": "code",
   "execution_count": 65,
   "metadata": {},
   "outputs": [
    {
     "data": {
      "text/plain": [
       "<matplotlib.legend.Legend at 0x7ffa3e1f5be0>"
      ]
     },
     "execution_count": 65,
     "metadata": {},
     "output_type": "execute_result"
    },
    {
     "data": {
      "image/png": "[encoded data removed]",
      "text/plain": [
       "<Figure size 640x480 with 1 Axes>"
      ]
     },
     "metadata": {},
     "output_type": "display_data"
    }
   ],
   "source": [
    "import matplotlib.pyplot as plt\n",
    "\n",
    "plt.plot(training_loss, label='Training Loss')\n",
    "plt.plot(validation_loss, label='Validation Loss')\n",
    "plt.legend(loc='best')"
   ]
  },
  {
   "cell_type": "code",
   "execution_count": 66,
   "metadata": {},
   "outputs": [
    {
     "name": "stderr",
     "output_type": "stream",
     "text": [
      "/tmp/ipykernel_6045/405736231.py:4: FutureWarning: You are using `torch.load` with `weights_only=False` (the current default value), which uses the default pickle module implicitly. It is possible to construct malicious pickle data which will execute arbitrary code during unpickling (See https://github.com/pytorch/pytorch/blob/main/SECURITY.md#untrusted-models for more details). In a future release, the default value for `weights_only` will be flipped to `True`. This limits the functions that could be executed during unpickling. Arbitrary objects will no longer be allowed to be loaded via this mode unless they are explicitly allowlisted by the user via `torch.serialization.add_safe_globals`. We recommend you start setting `weights_only=True` for any use case where you don't have full control of the loaded file. Please open an issue on GitHub for any issues related to this experimental feature.\n",
      "  model = torch.load('mlp_model.pth')\n"
     ]
    }
   ],
   "source": [
    "import pickle\n",
    "\n",
    "df = pd.read_csv('data/test.csv')\n",
    "model = torch.load('mlp_model.pth')\n",
    "model.eval()\n",
    "\n",
    "index = df['id']\n",
    "# X = pre.encoder(df)\n",
    "# X = pre.standardize(X, scaler=pickle.load(open('scaler.pkl', 'rb')))\n",
    "X = df.drop(['id'], axis=1)\n",
    "X = torch.tensor(X.values, dtype=torch.float32)\n",
    "y_pred = model(X)[:, 0]\n",
    "\n",
    "df = pd.DataFrame(y_pred.detach().numpy(), columns=['price'])\n",
    "df = pd.concat([index, df], axis=1)\n",
    "df.rename(columns={'price': 'answer'}, inplace=True)\n",
    "df.to_csv('output.csv', index=False)"
   ]
  }
 ],
 "metadata": {
  "kernelspec": {
   "display_name": "COMP5212",
   "language": "python",
   "name": "python3"
  },
  "language_info": {
   "codemirror_mode": {
    "name": "ipython",
    "version": 3
   },
   "file_extension": ".py",
   "mimetype": "text/x-python",
   "name": "python",
   "nbconvert_exporter": "python",
   "pygments_lexer": "ipython3",
   "version": "3.9.20"
  }
 },
 "nbformat": 4,
 "nbformat_minor": 2
}
